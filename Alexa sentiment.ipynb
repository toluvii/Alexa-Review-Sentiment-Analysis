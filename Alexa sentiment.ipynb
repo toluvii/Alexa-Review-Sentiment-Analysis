{
 "cells": [
  {
   "cell_type": "markdown",
   "id": "346ac0a5",
   "metadata": {},
   "source": [
    "**Installing The Required Libraries**"
   ]
  },
  {
   "cell_type": "code",
   "execution_count": 6,
   "id": "0bb64646",
   "metadata": {},
   "outputs": [
    {
     "name": "stderr",
     "output_type": "stream",
     "text": [
      "[nltk_data] Downloading package stopwords to C:\\Users\\Agba\n",
      "[nltk_data]     PC\\AppData\\Roaming\\nltk_data...\n",
      "[nltk_data]   Package stopwords is already up-to-date!\n"
     ]
    }
   ],
   "source": [
    "from collections import Counter\n",
    "from matplotlib import style\n",
    "style.use('ggplot')\n",
    "from nltk.corpus import stopwords\n",
    "import re\n",
    "from nltk.tokenize import word_tokenize\n",
    "from nltk.stem import PorterStemmer\n",
    "stemmer = PorterStemmer()\n",
    "import nltk\n",
    "nltk.download('stopwords')\n",
    "stop_words = set(stopwords.words('english'))\n",
    "from wordcloud import WordCloud \n",
    "from sklearn.feature_extraction.text import TfidfVectorizer\n",
    "from sklearn.model_selection import train_test_split\n",
    "import warnings\n",
    "warnings.filterwarnings('ignore')"
   ]
  },
  {
   "cell_type": "markdown",
   "id": "3e9f8c46",
   "metadata": {},
   "source": [
    "**Installing TextBlob**"
   ]
  },
  {
   "cell_type": "code",
   "execution_count": 3,
   "id": "84aaab8c",
   "metadata": {},
   "outputs": [
    {
     "name": "stdout",
     "output_type": "stream",
     "text": [
      "Requirement already satisfied: TextBlob in c:\\users\\agba pc\\anaconda3\\lib\\site-packages (0.17.1)\n",
      "Requirement already satisfied: nltk>=3.1 in c:\\users\\agba pc\\anaconda3\\lib\\site-packages (from TextBlob) (3.6.5)\n",
      "Requirement already satisfied: click in c:\\users\\agba pc\\anaconda3\\lib\\site-packages (from nltk>=3.1->TextBlob) (8.0.3)\n",
      "Requirement already satisfied: joblib in c:\\users\\agba pc\\anaconda3\\lib\\site-packages (from nltk>=3.1->TextBlob) (1.1.0)\n",
      "Requirement already satisfied: regex>=2021.8.3 in c:\\users\\agba pc\\anaconda3\\lib\\site-packages (from nltk>=3.1->TextBlob) (2021.8.3)\n",
      "Requirement already satisfied: tqdm in c:\\users\\agba pc\\anaconda3\\lib\\site-packages (from nltk>=3.1->TextBlob) (4.62.3)\n",
      "Requirement already satisfied: colorama in c:\\users\\agba pc\\anaconda3\\lib\\site-packages (from click->nltk>=3.1->TextBlob) (0.4.4)\n"
     ]
    }
   ],
   "source": [
    "!pip install TextBlob"
   ]
  },
  {
   "cell_type": "code",
   "execution_count": 4,
   "id": "92e4ffbc",
   "metadata": {},
   "outputs": [],
   "source": [
    "from textblob import TextBlob"
   ]
  },
  {
   "cell_type": "markdown",
   "id": "14b71923",
   "metadata": {},
   "source": [
    "**Importing Dataset**"
   ]
  },
  {
   "cell_type": "code",
   "execution_count": 8,
   "id": "c7f48e5c",
   "metadata": {},
   "outputs": [
    {
     "data": {
      "application/javascript": [
       "\n",
       "        if (window._pyforest_update_imports_cell) { window._pyforest_update_imports_cell('import pandas as pd'); }\n",
       "    "
      ],
      "text/plain": [
       "<IPython.core.display.Javascript object>"
      ]
     },
     "metadata": {},
     "output_type": "display_data"
    },
    {
     "data": {
      "text/html": [
       "<div>\n",
       "<style scoped>\n",
       "    .dataframe tbody tr th:only-of-type {\n",
       "        vertical-align: middle;\n",
       "    }\n",
       "\n",
       "    .dataframe tbody tr th {\n",
       "        vertical-align: top;\n",
       "    }\n",
       "\n",
       "    .dataframe thead th {\n",
       "        text-align: right;\n",
       "    }\n",
       "</style>\n",
       "<table border=\"1\" class=\"dataframe\">\n",
       "  <thead>\n",
       "    <tr style=\"text-align: right;\">\n",
       "      <th></th>\n",
       "      <th>rating</th>\n",
       "      <th>date</th>\n",
       "      <th>variation</th>\n",
       "      <th>verified_reviews</th>\n",
       "      <th>feedback</th>\n",
       "    </tr>\n",
       "  </thead>\n",
       "  <tbody>\n",
       "    <tr>\n",
       "      <th>0</th>\n",
       "      <td>5</td>\n",
       "      <td>31-Jul-18</td>\n",
       "      <td>Charcoal Fabric</td>\n",
       "      <td>Love my Echo!</td>\n",
       "      <td>1</td>\n",
       "    </tr>\n",
       "    <tr>\n",
       "      <th>1</th>\n",
       "      <td>5</td>\n",
       "      <td>31-Jul-18</td>\n",
       "      <td>Charcoal Fabric</td>\n",
       "      <td>Loved it!</td>\n",
       "      <td>1</td>\n",
       "    </tr>\n",
       "    <tr>\n",
       "      <th>2</th>\n",
       "      <td>4</td>\n",
       "      <td>31-Jul-18</td>\n",
       "      <td>Walnut Finish</td>\n",
       "      <td>Sometimes while playing a game, you can answer...</td>\n",
       "      <td>1</td>\n",
       "    </tr>\n",
       "    <tr>\n",
       "      <th>3</th>\n",
       "      <td>5</td>\n",
       "      <td>31-Jul-18</td>\n",
       "      <td>Charcoal Fabric</td>\n",
       "      <td>I have had a lot of fun with this thing. My 4 ...</td>\n",
       "      <td>1</td>\n",
       "    </tr>\n",
       "    <tr>\n",
       "      <th>4</th>\n",
       "      <td>5</td>\n",
       "      <td>31-Jul-18</td>\n",
       "      <td>Charcoal Fabric</td>\n",
       "      <td>Music</td>\n",
       "      <td>1</td>\n",
       "    </tr>\n",
       "    <tr>\n",
       "      <th>5</th>\n",
       "      <td>5</td>\n",
       "      <td>31-Jul-18</td>\n",
       "      <td>Heather Gray Fabric</td>\n",
       "      <td>I received the echo as a gift. I needed anothe...</td>\n",
       "      <td>1</td>\n",
       "    </tr>\n",
       "    <tr>\n",
       "      <th>6</th>\n",
       "      <td>3</td>\n",
       "      <td>31-Jul-18</td>\n",
       "      <td>Sandstone Fabric</td>\n",
       "      <td>Without having a cellphone, I cannot use many ...</td>\n",
       "      <td>1</td>\n",
       "    </tr>\n",
       "    <tr>\n",
       "      <th>7</th>\n",
       "      <td>5</td>\n",
       "      <td>31-Jul-18</td>\n",
       "      <td>Charcoal Fabric</td>\n",
       "      <td>I think this is the 5th one I've purchased. I'...</td>\n",
       "      <td>1</td>\n",
       "    </tr>\n",
       "    <tr>\n",
       "      <th>8</th>\n",
       "      <td>5</td>\n",
       "      <td>30-Jul-18</td>\n",
       "      <td>Heather Gray Fabric</td>\n",
       "      <td>looks great</td>\n",
       "      <td>1</td>\n",
       "    </tr>\n",
       "    <tr>\n",
       "      <th>9</th>\n",
       "      <td>5</td>\n",
       "      <td>30-Jul-18</td>\n",
       "      <td>Heather Gray Fabric</td>\n",
       "      <td>Love it! I’ve listened to songs I haven’t hear...</td>\n",
       "      <td>1</td>\n",
       "    </tr>\n",
       "  </tbody>\n",
       "</table>\n",
       "</div>"
      ],
      "text/plain": [
       "   rating       date             variation  \\\n",
       "0       5  31-Jul-18      Charcoal Fabric    \n",
       "1       5  31-Jul-18      Charcoal Fabric    \n",
       "2       4  31-Jul-18        Walnut Finish    \n",
       "3       5  31-Jul-18      Charcoal Fabric    \n",
       "4       5  31-Jul-18      Charcoal Fabric    \n",
       "5       5  31-Jul-18  Heather Gray Fabric    \n",
       "6       3  31-Jul-18     Sandstone Fabric    \n",
       "7       5  31-Jul-18      Charcoal Fabric    \n",
       "8       5  30-Jul-18  Heather Gray Fabric    \n",
       "9       5  30-Jul-18  Heather Gray Fabric    \n",
       "\n",
       "                                    verified_reviews  feedback  \n",
       "0                                      Love my Echo!         1  \n",
       "1                                          Loved it!         1  \n",
       "2  Sometimes while playing a game, you can answer...         1  \n",
       "3  I have had a lot of fun with this thing. My 4 ...         1  \n",
       "4                                              Music         1  \n",
       "5  I received the echo as a gift. I needed anothe...         1  \n",
       "6  Without having a cellphone, I cannot use many ...         1  \n",
       "7  I think this is the 5th one I've purchased. I'...         1  \n",
       "8                                        looks great         1  \n",
       "9  Love it! I’ve listened to songs I haven’t hear...         1  "
      ]
     },
     "execution_count": 8,
     "metadata": {},
     "output_type": "execute_result"
    }
   ],
   "source": [
    "df = pd.read_csv('amazon_alexa.tsv', sep='\\t')\n",
    "df.head(10)"
   ]
  },
  {
   "cell_type": "markdown",
   "id": "bbc13bcd",
   "metadata": {},
   "source": [
    "**Generating (verified_reviews) polaratity column With TextBlob** "
   ]
  },
  {
   "cell_type": "code",
   "execution_count": 6,
   "id": "abcfb496",
   "metadata": {},
   "outputs": [
    {
     "data": {
      "text/html": [
       "<div>\n",
       "<style scoped>\n",
       "    .dataframe tbody tr th:only-of-type {\n",
       "        vertical-align: middle;\n",
       "    }\n",
       "\n",
       "    .dataframe tbody tr th {\n",
       "        vertical-align: top;\n",
       "    }\n",
       "\n",
       "    .dataframe thead th {\n",
       "        text-align: right;\n",
       "    }\n",
       "</style>\n",
       "<table border=\"1\" class=\"dataframe\">\n",
       "  <thead>\n",
       "    <tr style=\"text-align: right;\">\n",
       "      <th></th>\n",
       "      <th>rating</th>\n",
       "      <th>date</th>\n",
       "      <th>variation</th>\n",
       "      <th>verified_reviews</th>\n",
       "      <th>feedback</th>\n",
       "      <th>polarity</th>\n",
       "    </tr>\n",
       "  </thead>\n",
       "  <tbody>\n",
       "    <tr>\n",
       "      <th>0</th>\n",
       "      <td>5</td>\n",
       "      <td>31-Jul-18</td>\n",
       "      <td>Charcoal Fabric</td>\n",
       "      <td>Love my Echo!</td>\n",
       "      <td>1</td>\n",
       "      <td>0.625000</td>\n",
       "    </tr>\n",
       "    <tr>\n",
       "      <th>1</th>\n",
       "      <td>5</td>\n",
       "      <td>31-Jul-18</td>\n",
       "      <td>Charcoal Fabric</td>\n",
       "      <td>Loved it!</td>\n",
       "      <td>1</td>\n",
       "      <td>0.875000</td>\n",
       "    </tr>\n",
       "    <tr>\n",
       "      <th>2</th>\n",
       "      <td>4</td>\n",
       "      <td>31-Jul-18</td>\n",
       "      <td>Walnut Finish</td>\n",
       "      <td>Sometimes while playing a game, you can answer...</td>\n",
       "      <td>1</td>\n",
       "      <td>-0.100000</td>\n",
       "    </tr>\n",
       "    <tr>\n",
       "      <th>3</th>\n",
       "      <td>5</td>\n",
       "      <td>31-Jul-18</td>\n",
       "      <td>Charcoal Fabric</td>\n",
       "      <td>I have had a lot of fun with this thing. My 4 ...</td>\n",
       "      <td>1</td>\n",
       "      <td>0.350000</td>\n",
       "    </tr>\n",
       "    <tr>\n",
       "      <th>4</th>\n",
       "      <td>5</td>\n",
       "      <td>31-Jul-18</td>\n",
       "      <td>Charcoal Fabric</td>\n",
       "      <td>Music</td>\n",
       "      <td>1</td>\n",
       "      <td>0.000000</td>\n",
       "    </tr>\n",
       "    <tr>\n",
       "      <th>5</th>\n",
       "      <td>5</td>\n",
       "      <td>31-Jul-18</td>\n",
       "      <td>Heather Gray Fabric</td>\n",
       "      <td>I received the echo as a gift. I needed anothe...</td>\n",
       "      <td>1</td>\n",
       "      <td>0.294643</td>\n",
       "    </tr>\n",
       "    <tr>\n",
       "      <th>6</th>\n",
       "      <td>3</td>\n",
       "      <td>31-Jul-18</td>\n",
       "      <td>Sandstone Fabric</td>\n",
       "      <td>Without having a cellphone, I cannot use many ...</td>\n",
       "      <td>1</td>\n",
       "      <td>0.216667</td>\n",
       "    </tr>\n",
       "    <tr>\n",
       "      <th>7</th>\n",
       "      <td>5</td>\n",
       "      <td>31-Jul-18</td>\n",
       "      <td>Charcoal Fabric</td>\n",
       "      <td>I think this is the 5th one I've purchased. I'...</td>\n",
       "      <td>1</td>\n",
       "      <td>0.200000</td>\n",
       "    </tr>\n",
       "    <tr>\n",
       "      <th>8</th>\n",
       "      <td>5</td>\n",
       "      <td>30-Jul-18</td>\n",
       "      <td>Heather Gray Fabric</td>\n",
       "      <td>looks great</td>\n",
       "      <td>1</td>\n",
       "      <td>0.800000</td>\n",
       "    </tr>\n",
       "    <tr>\n",
       "      <th>9</th>\n",
       "      <td>5</td>\n",
       "      <td>30-Jul-18</td>\n",
       "      <td>Heather Gray Fabric</td>\n",
       "      <td>Love it! I’ve listened to songs I haven’t hear...</td>\n",
       "      <td>1</td>\n",
       "      <td>0.988281</td>\n",
       "    </tr>\n",
       "  </tbody>\n",
       "</table>\n",
       "</div>"
      ],
      "text/plain": [
       "   rating       date             variation  \\\n",
       "0       5  31-Jul-18      Charcoal Fabric    \n",
       "1       5  31-Jul-18      Charcoal Fabric    \n",
       "2       4  31-Jul-18        Walnut Finish    \n",
       "3       5  31-Jul-18      Charcoal Fabric    \n",
       "4       5  31-Jul-18      Charcoal Fabric    \n",
       "5       5  31-Jul-18  Heather Gray Fabric    \n",
       "6       3  31-Jul-18     Sandstone Fabric    \n",
       "7       5  31-Jul-18      Charcoal Fabric    \n",
       "8       5  30-Jul-18  Heather Gray Fabric    \n",
       "9       5  30-Jul-18  Heather Gray Fabric    \n",
       "\n",
       "                                    verified_reviews  feedback  polarity  \n",
       "0                                      Love my Echo!         1  0.625000  \n",
       "1                                          Loved it!         1  0.875000  \n",
       "2  Sometimes while playing a game, you can answer...         1 -0.100000  \n",
       "3  I have had a lot of fun with this thing. My 4 ...         1  0.350000  \n",
       "4                                              Music         1  0.000000  \n",
       "5  I received the echo as a gift. I needed anothe...         1  0.294643  \n",
       "6  Without having a cellphone, I cannot use many ...         1  0.216667  \n",
       "7  I think this is the 5th one I've purchased. I'...         1  0.200000  \n",
       "8                                        looks great         1  0.800000  \n",
       "9  Love it! I’ve listened to songs I haven’t hear...         1  0.988281  "
      ]
     },
     "execution_count": 6,
     "metadata": {},
     "output_type": "execute_result"
    }
   ],
   "source": [
    "pol = lambda x: TextBlob(x).sentiment.polarity\n",
    "df['polarity']=df['verified_reviews'].apply(pol)\n",
    "df.head(10)"
   ]
  },
  {
   "cell_type": "markdown",
   "id": "883aa8ff",
   "metadata": {},
   "source": [
    "**Generating The Review Lenght Column**"
   ]
  },
  {
   "cell_type": "code",
   "execution_count": 7,
   "id": "6b08dc3b",
   "metadata": {},
   "outputs": [
    {
     "data": {
      "text/html": [
       "<div>\n",
       "<style scoped>\n",
       "    .dataframe tbody tr th:only-of-type {\n",
       "        vertical-align: middle;\n",
       "    }\n",
       "\n",
       "    .dataframe tbody tr th {\n",
       "        vertical-align: top;\n",
       "    }\n",
       "\n",
       "    .dataframe thead th {\n",
       "        text-align: right;\n",
       "    }\n",
       "</style>\n",
       "<table border=\"1\" class=\"dataframe\">\n",
       "  <thead>\n",
       "    <tr style=\"text-align: right;\">\n",
       "      <th></th>\n",
       "      <th>rating</th>\n",
       "      <th>date</th>\n",
       "      <th>variation</th>\n",
       "      <th>verified_reviews</th>\n",
       "      <th>feedback</th>\n",
       "      <th>polarity</th>\n",
       "      <th>review_lenght</th>\n",
       "    </tr>\n",
       "  </thead>\n",
       "  <tbody>\n",
       "    <tr>\n",
       "      <th>0</th>\n",
       "      <td>5</td>\n",
       "      <td>31-Jul-18</td>\n",
       "      <td>Charcoal Fabric</td>\n",
       "      <td>Love my Echo!</td>\n",
       "      <td>1</td>\n",
       "      <td>0.625000</td>\n",
       "      <td>13</td>\n",
       "    </tr>\n",
       "    <tr>\n",
       "      <th>1</th>\n",
       "      <td>5</td>\n",
       "      <td>31-Jul-18</td>\n",
       "      <td>Charcoal Fabric</td>\n",
       "      <td>Loved it!</td>\n",
       "      <td>1</td>\n",
       "      <td>0.875000</td>\n",
       "      <td>9</td>\n",
       "    </tr>\n",
       "    <tr>\n",
       "      <th>2</th>\n",
       "      <td>4</td>\n",
       "      <td>31-Jul-18</td>\n",
       "      <td>Walnut Finish</td>\n",
       "      <td>Sometimes while playing a game, you can answer...</td>\n",
       "      <td>1</td>\n",
       "      <td>-0.100000</td>\n",
       "      <td>195</td>\n",
       "    </tr>\n",
       "    <tr>\n",
       "      <th>3</th>\n",
       "      <td>5</td>\n",
       "      <td>31-Jul-18</td>\n",
       "      <td>Charcoal Fabric</td>\n",
       "      <td>I have had a lot of fun with this thing. My 4 ...</td>\n",
       "      <td>1</td>\n",
       "      <td>0.350000</td>\n",
       "      <td>172</td>\n",
       "    </tr>\n",
       "    <tr>\n",
       "      <th>4</th>\n",
       "      <td>5</td>\n",
       "      <td>31-Jul-18</td>\n",
       "      <td>Charcoal Fabric</td>\n",
       "      <td>Music</td>\n",
       "      <td>1</td>\n",
       "      <td>0.000000</td>\n",
       "      <td>5</td>\n",
       "    </tr>\n",
       "    <tr>\n",
       "      <th>5</th>\n",
       "      <td>5</td>\n",
       "      <td>31-Jul-18</td>\n",
       "      <td>Heather Gray Fabric</td>\n",
       "      <td>I received the echo as a gift. I needed anothe...</td>\n",
       "      <td>1</td>\n",
       "      <td>0.294643</td>\n",
       "      <td>172</td>\n",
       "    </tr>\n",
       "    <tr>\n",
       "      <th>6</th>\n",
       "      <td>3</td>\n",
       "      <td>31-Jul-18</td>\n",
       "      <td>Sandstone Fabric</td>\n",
       "      <td>Without having a cellphone, I cannot use many ...</td>\n",
       "      <td>1</td>\n",
       "      <td>0.216667</td>\n",
       "      <td>365</td>\n",
       "    </tr>\n",
       "    <tr>\n",
       "      <th>7</th>\n",
       "      <td>5</td>\n",
       "      <td>31-Jul-18</td>\n",
       "      <td>Charcoal Fabric</td>\n",
       "      <td>I think this is the 5th one I've purchased. I'...</td>\n",
       "      <td>1</td>\n",
       "      <td>0.200000</td>\n",
       "      <td>221</td>\n",
       "    </tr>\n",
       "    <tr>\n",
       "      <th>8</th>\n",
       "      <td>5</td>\n",
       "      <td>30-Jul-18</td>\n",
       "      <td>Heather Gray Fabric</td>\n",
       "      <td>looks great</td>\n",
       "      <td>1</td>\n",
       "      <td>0.800000</td>\n",
       "      <td>11</td>\n",
       "    </tr>\n",
       "    <tr>\n",
       "      <th>9</th>\n",
       "      <td>5</td>\n",
       "      <td>30-Jul-18</td>\n",
       "      <td>Heather Gray Fabric</td>\n",
       "      <td>Love it! I’ve listened to songs I haven’t hear...</td>\n",
       "      <td>1</td>\n",
       "      <td>0.988281</td>\n",
       "      <td>114</td>\n",
       "    </tr>\n",
       "  </tbody>\n",
       "</table>\n",
       "</div>"
      ],
      "text/plain": [
       "   rating       date             variation  \\\n",
       "0       5  31-Jul-18      Charcoal Fabric    \n",
       "1       5  31-Jul-18      Charcoal Fabric    \n",
       "2       4  31-Jul-18        Walnut Finish    \n",
       "3       5  31-Jul-18      Charcoal Fabric    \n",
       "4       5  31-Jul-18      Charcoal Fabric    \n",
       "5       5  31-Jul-18  Heather Gray Fabric    \n",
       "6       3  31-Jul-18     Sandstone Fabric    \n",
       "7       5  31-Jul-18      Charcoal Fabric    \n",
       "8       5  30-Jul-18  Heather Gray Fabric    \n",
       "9       5  30-Jul-18  Heather Gray Fabric    \n",
       "\n",
       "                                    verified_reviews  feedback  polarity  \\\n",
       "0                                      Love my Echo!         1  0.625000   \n",
       "1                                          Loved it!         1  0.875000   \n",
       "2  Sometimes while playing a game, you can answer...         1 -0.100000   \n",
       "3  I have had a lot of fun with this thing. My 4 ...         1  0.350000   \n",
       "4                                              Music         1  0.000000   \n",
       "5  I received the echo as a gift. I needed anothe...         1  0.294643   \n",
       "6  Without having a cellphone, I cannot use many ...         1  0.216667   \n",
       "7  I think this is the 5th one I've purchased. I'...         1  0.200000   \n",
       "8                                        looks great         1  0.800000   \n",
       "9  Love it! I’ve listened to songs I haven’t hear...         1  0.988281   \n",
       "\n",
       "   review_lenght  \n",
       "0             13  \n",
       "1              9  \n",
       "2            195  \n",
       "3            172  \n",
       "4              5  \n",
       "5            172  \n",
       "6            365  \n",
       "7            221  \n",
       "8             11  \n",
       "9            114  "
      ]
     },
     "execution_count": 7,
     "metadata": {},
     "output_type": "execute_result"
    }
   ],
   "source": [
    "df['review_lenght'] = df.verified_reviews.str.len()\n",
    "df.head(10)"
   ]
  },
  {
   "cell_type": "markdown",
   "id": "62f028b8",
   "metadata": {},
   "source": [
    "**Exploratory Data Analysis**"
   ]
  },
  {
   "cell_type": "code",
   "execution_count": 8,
   "id": "073ab58c",
   "metadata": {},
   "outputs": [
    {
     "name": "stdout",
     "output_type": "stream",
     "text": [
      "<class 'pandas.core.frame.DataFrame'>\n",
      "RangeIndex: 3150 entries, 0 to 3149\n",
      "Data columns (total 7 columns):\n",
      " #   Column            Non-Null Count  Dtype  \n",
      "---  ------            --------------  -----  \n",
      " 0   rating            3150 non-null   int64  \n",
      " 1   date              3150 non-null   object \n",
      " 2   variation         3150 non-null   object \n",
      " 3   verified_reviews  3150 non-null   object \n",
      " 4   feedback          3150 non-null   int64  \n",
      " 5   polarity          3150 non-null   float64\n",
      " 6   review_lenght     3150 non-null   int64  \n",
      "dtypes: float64(1), int64(3), object(3)\n",
      "memory usage: 172.4+ KB\n"
     ]
    }
   ],
   "source": [
    "df.info()"
   ]
  },
  {
   "cell_type": "code",
   "execution_count": 9,
   "id": "ff55df64",
   "metadata": {},
   "outputs": [
    {
     "data": {
      "text/plain": [
       "rating              0\n",
       "date                0\n",
       "variation           0\n",
       "verified_reviews    0\n",
       "feedback            0\n",
       "polarity            0\n",
       "review_lenght       0\n",
       "dtype: int64"
      ]
     },
     "execution_count": 9,
     "metadata": {},
     "output_type": "execute_result"
    }
   ],
   "source": [
    "df.isnull().sum()"
   ]
  },
  {
   "cell_type": "code",
   "execution_count": 10,
   "id": "76c041e9",
   "metadata": {},
   "outputs": [
    {
     "data": {
      "text/html": [
       "<div>\n",
       "<style scoped>\n",
       "    .dataframe tbody tr th:only-of-type {\n",
       "        vertical-align: middle;\n",
       "    }\n",
       "\n",
       "    .dataframe tbody tr th {\n",
       "        vertical-align: top;\n",
       "    }\n",
       "\n",
       "    .dataframe thead th {\n",
       "        text-align: right;\n",
       "    }\n",
       "</style>\n",
       "<table border=\"1\" class=\"dataframe\">\n",
       "  <thead>\n",
       "    <tr style=\"text-align: right;\">\n",
       "      <th></th>\n",
       "      <th>rating</th>\n",
       "      <th>feedback</th>\n",
       "      <th>polarity</th>\n",
       "      <th>review_lenght</th>\n",
       "    </tr>\n",
       "  </thead>\n",
       "  <tbody>\n",
       "    <tr>\n",
       "      <th>count</th>\n",
       "      <td>3150.000000</td>\n",
       "      <td>3150.000000</td>\n",
       "      <td>3150.000000</td>\n",
       "      <td>3150.000000</td>\n",
       "    </tr>\n",
       "    <tr>\n",
       "      <th>mean</th>\n",
       "      <td>4.463175</td>\n",
       "      <td>0.918413</td>\n",
       "      <td>0.349786</td>\n",
       "      <td>132.049524</td>\n",
       "    </tr>\n",
       "    <tr>\n",
       "      <th>std</th>\n",
       "      <td>1.068506</td>\n",
       "      <td>0.273778</td>\n",
       "      <td>0.303308</td>\n",
       "      <td>182.099952</td>\n",
       "    </tr>\n",
       "    <tr>\n",
       "      <th>min</th>\n",
       "      <td>1.000000</td>\n",
       "      <td>0.000000</td>\n",
       "      <td>-1.000000</td>\n",
       "      <td>1.000000</td>\n",
       "    </tr>\n",
       "    <tr>\n",
       "      <th>25%</th>\n",
       "      <td>4.000000</td>\n",
       "      <td>1.000000</td>\n",
       "      <td>0.123852</td>\n",
       "      <td>30.000000</td>\n",
       "    </tr>\n",
       "    <tr>\n",
       "      <th>50%</th>\n",
       "      <td>5.000000</td>\n",
       "      <td>1.000000</td>\n",
       "      <td>0.350000</td>\n",
       "      <td>74.000000</td>\n",
       "    </tr>\n",
       "    <tr>\n",
       "      <th>75%</th>\n",
       "      <td>5.000000</td>\n",
       "      <td>1.000000</td>\n",
       "      <td>0.533333</td>\n",
       "      <td>165.000000</td>\n",
       "    </tr>\n",
       "    <tr>\n",
       "      <th>max</th>\n",
       "      <td>5.000000</td>\n",
       "      <td>1.000000</td>\n",
       "      <td>1.000000</td>\n",
       "      <td>2851.000000</td>\n",
       "    </tr>\n",
       "  </tbody>\n",
       "</table>\n",
       "</div>"
      ],
      "text/plain": [
       "            rating     feedback     polarity  review_lenght\n",
       "count  3150.000000  3150.000000  3150.000000    3150.000000\n",
       "mean      4.463175     0.918413     0.349786     132.049524\n",
       "std       1.068506     0.273778     0.303308     182.099952\n",
       "min       1.000000     0.000000    -1.000000       1.000000\n",
       "25%       4.000000     1.000000     0.123852      30.000000\n",
       "50%       5.000000     1.000000     0.350000      74.000000\n",
       "75%       5.000000     1.000000     0.533333     165.000000\n",
       "max       5.000000     1.000000     1.000000    2851.000000"
      ]
     },
     "execution_count": 10,
     "metadata": {},
     "output_type": "execute_result"
    }
   ],
   "source": [
    "df.describe()"
   ]
  },
  {
   "cell_type": "code",
   "execution_count": 11,
   "id": "2c7e1870",
   "metadata": {},
   "outputs": [
    {
     "data": {
      "application/javascript": [
       "\n",
       "        if (window._pyforest_update_imports_cell) { window._pyforest_update_imports_cell('import pandas as pd\\nimport seaborn as sns'); }\n",
       "    "
      ],
      "text/plain": [
       "<IPython.core.display.Javascript object>"
      ]
     },
     "metadata": {},
     "output_type": "display_data"
    },
    {
     "data": {
      "text/plain": [
       "<seaborn.axisgrid.PairGrid at 0x1dc586c5f70>"
      ]
     },
     "execution_count": 11,
     "metadata": {},
     "output_type": "execute_result"
    },
    {
     "data": {
      "image/png": "[encoded data removed]",
      "text/plain": [
       "<Figure size 720x720 with 20 Axes>"
      ]
     },
     "metadata": {
      "needs_background": "light"
     },
     "output_type": "display_data"
    }
   ],
   "source": [
    "sns.pairplot(data=df, diag_kind='kde')"
   ]
  },
  {
   "cell_type": "code",
   "execution_count": 12,
   "id": "a78a7cec",
   "metadata": {},
   "outputs": [
    {
     "data": {
      "application/javascript": [
       "\n",
       "        if (window._pyforest_update_imports_cell) { window._pyforest_update_imports_cell('import matplotlib.pyplot as plt\\nimport pandas as pd\\nimport seaborn as sns'); }\n",
       "    "
      ],
      "text/plain": [
       "<IPython.core.display.Javascript object>"
      ]
     },
     "metadata": {},
     "output_type": "display_data"
    },
    {
     "data": {
      "application/javascript": [
       "\n",
       "        if (window._pyforest_update_imports_cell) { window._pyforest_update_imports_cell('import matplotlib.pyplot as plt\\nimport pandas as pd\\nimport seaborn as sns'); }\n",
       "    "
      ],
      "text/plain": [
       "<IPython.core.display.Javascript object>"
      ]
     },
     "metadata": {},
     "output_type": "display_data"
    },
    {
     "data": {
      "application/javascript": [
       "\n",
       "        if (window._pyforest_update_imports_cell) { window._pyforest_update_imports_cell('import matplotlib.pyplot as plt\\nimport pandas as pd\\nimport seaborn as sns'); }\n",
       "    "
      ],
      "text/plain": [
       "<IPython.core.display.Javascript object>"
      ]
     },
     "metadata": {},
     "output_type": "display_data"
    },
    {
     "data": {
      "application/javascript": [
       "\n",
       "        if (window._pyforest_update_imports_cell) { window._pyforest_update_imports_cell('import matplotlib.pyplot as plt\\nimport pandas as pd\\nimport seaborn as sns'); }\n",
       "    "
      ],
      "text/plain": [
       "<IPython.core.display.Javascript object>"
      ]
     },
     "metadata": {},
     "output_type": "display_data"
    },
    {
     "data": {
      "image/png": "[encoded data removed]",
      "text/plain": [
       "<Figure size 720x360 with 1 Axes>"
      ]
     },
     "metadata": {
      "needs_background": "light"
     },
     "output_type": "display_data"
    }
   ],
   "source": [
    "plt.figure(figsize=(10,5))\n",
    "plt.title(\"Distribution of Rating\")\n",
    "sns.countplot(x='rating', data =df)\n",
    "plt.show()"
   ]
  },
  {
   "cell_type": "code",
   "execution_count": 13,
   "id": "bbf89009",
   "metadata": {},
   "outputs": [
    {
     "data": {
      "text/plain": [
       "5    2286\n",
       "4     455\n",
       "1     161\n",
       "3     152\n",
       "2      96\n",
       "Name: rating, dtype: int64"
      ]
     },
     "execution_count": 13,
     "metadata": {},
     "output_type": "execute_result"
    }
   ],
   "source": [
    "df.rating.value_counts()"
   ]
  },
  {
   "cell_type": "code",
   "execution_count": 14,
   "id": "7d10fd82",
   "metadata": {},
   "outputs": [
    {
     "data": {
      "application/javascript": [
       "\n",
       "        if (window._pyforest_update_imports_cell) { window._pyforest_update_imports_cell('import matplotlib.pyplot as plt\\nimport pandas as pd\\nimport seaborn as sns'); }\n",
       "    "
      ],
      "text/plain": [
       "<IPython.core.display.Javascript object>"
      ]
     },
     "metadata": {},
     "output_type": "display_data"
    },
    {
     "data": {
      "application/javascript": [
       "\n",
       "        if (window._pyforest_update_imports_cell) { window._pyforest_update_imports_cell('import matplotlib.pyplot as plt\\nimport pandas as pd\\nimport seaborn as sns'); }\n",
       "    "
      ],
      "text/plain": [
       "<IPython.core.display.Javascript object>"
      ]
     },
     "metadata": {},
     "output_type": "display_data"
    },
    {
     "data": {
      "application/javascript": [
       "\n",
       "        if (window._pyforest_update_imports_cell) { window._pyforest_update_imports_cell('import matplotlib.pyplot as plt\\nimport pandas as pd\\nimport seaborn as sns'); }\n",
       "    "
      ],
      "text/plain": [
       "<IPython.core.display.Javascript object>"
      ]
     },
     "metadata": {},
     "output_type": "display_data"
    },
    {
     "data": {
      "image/png": "[encoded data removed]",
      "text/plain": [
       "<Figure size 504x648 with 1 Axes>"
      ]
     },
     "metadata": {},
     "output_type": "display_data"
    }
   ],
   "source": [
    "fig = plt.figure(figsize=(7,9))\n",
    "colors = (\"orange\", \"turquoise\", \"pink\",\"gray\",\"cyan\")\n",
    "wp = {'linewidth':2, 'edgecolor':\"purple\"}\n",
    "tags = df.rating.value_counts()\n",
    "explode = (0.1, 0.1, 0.1, 0.1,0.2)\n",
    "tags.plot(kind='pie', autopct='%1.1f%%', shadow=False, colors = colors, startangle=45,\n",
    "          wedgeprops = wp, label='', explode = explode)\n",
    "plt.title(\"Distribution Percentage of The Different Ratings\")\n",
    "plt.show()"
   ]
  },
  {
   "cell_type": "code",
   "execution_count": 15,
   "id": "e8eacbb2",
   "metadata": {},
   "outputs": [
    {
     "data": {
      "application/javascript": [
       "\n",
       "        if (window._pyforest_update_imports_cell) { window._pyforest_update_imports_cell('import matplotlib.pyplot as plt\\nimport pandas as pd\\nimport seaborn as sns'); }\n",
       "    "
      ],
      "text/plain": [
       "<IPython.core.display.Javascript object>"
      ]
     },
     "metadata": {},
     "output_type": "display_data"
    },
    {
     "data": {
      "application/javascript": [
       "\n",
       "        if (window._pyforest_update_imports_cell) { window._pyforest_update_imports_cell('import matplotlib.pyplot as plt\\nimport pandas as pd\\nimport seaborn as sns'); }\n",
       "    "
      ],
      "text/plain": [
       "<IPython.core.display.Javascript object>"
      ]
     },
     "metadata": {},
     "output_type": "display_data"
    },
    {
     "data": {
      "application/javascript": [
       "\n",
       "        if (window._pyforest_update_imports_cell) { window._pyforest_update_imports_cell('import matplotlib.pyplot as plt\\nimport pandas as pd\\nimport seaborn as sns'); }\n",
       "    "
      ],
      "text/plain": [
       "<IPython.core.display.Javascript object>"
      ]
     },
     "metadata": {},
     "output_type": "display_data"
    },
    {
     "data": {
      "application/javascript": [
       "\n",
       "        if (window._pyforest_update_imports_cell) { window._pyforest_update_imports_cell('import matplotlib.pyplot as plt\\nimport pandas as pd\\nimport seaborn as sns'); }\n",
       "    "
      ],
      "text/plain": [
       "<IPython.core.display.Javascript object>"
      ]
     },
     "metadata": {},
     "output_type": "display_data"
    },
    {
     "data": {
      "image/png": "[encoded data removed]",
      "text/plain": [
       "<Figure size 1440x720 with 1 Axes>"
      ]
     },
     "metadata": {
      "needs_background": "light"
     },
     "output_type": "display_data"
    }
   ],
   "source": [
    "fig = plt.figure(figsize=(20,10))   \n",
    "sns.countplot(y='variation', data=df)\n",
    "plt.title(\"Distribution of Variation\")\n",
    "plt.show()"
   ]
  },
  {
   "cell_type": "code",
   "execution_count": 16,
   "id": "84b5fab3",
   "metadata": {},
   "outputs": [
    {
     "data": {
      "text/plain": [
       "Black  Dot                      516\n",
       "Charcoal Fabric                 430\n",
       "Configuration: Fire TV Stick    350\n",
       "Black  Plus                     270\n",
       "Black  Show                     265\n",
       "Black                           261\n",
       "Black  Spot                     241\n",
       "White  Dot                      184\n",
       "Heather Gray Fabric             157\n",
       "White  Spot                     109\n",
       "White                            91\n",
       "Sandstone Fabric                 90\n",
       "White  Show                      85\n",
       "White  Plus                      78\n",
       "Oak Finish                       14\n",
       "Walnut Finish                     9\n",
       "Name: variation, dtype: int64"
      ]
     },
     "execution_count": 16,
     "metadata": {},
     "output_type": "execute_result"
    }
   ],
   "source": [
    "df.variation.value_counts()"
   ]
  },
  {
   "cell_type": "code",
   "execution_count": 17,
   "id": "c8d67757",
   "metadata": {},
   "outputs": [
    {
     "data": {
      "application/javascript": [
       "\n",
       "        if (window._pyforest_update_imports_cell) { window._pyforest_update_imports_cell('import matplotlib.pyplot as plt\\nimport pandas as pd\\nimport seaborn as sns'); }\n",
       "    "
      ],
      "text/plain": [
       "<IPython.core.display.Javascript object>"
      ]
     },
     "metadata": {},
     "output_type": "display_data"
    },
    {
     "data": {
      "application/javascript": [
       "\n",
       "        if (window._pyforest_update_imports_cell) { window._pyforest_update_imports_cell('import matplotlib.pyplot as plt\\nimport pandas as pd\\nimport seaborn as sns'); }\n",
       "    "
      ],
      "text/plain": [
       "<IPython.core.display.Javascript object>"
      ]
     },
     "metadata": {},
     "output_type": "display_data"
    },
    {
     "data": {
      "application/javascript": [
       "\n",
       "        if (window._pyforest_update_imports_cell) { window._pyforest_update_imports_cell('import matplotlib.pyplot as plt\\nimport pandas as pd\\nimport seaborn as sns'); }\n",
       "    "
      ],
      "text/plain": [
       "<IPython.core.display.Javascript object>"
      ]
     },
     "metadata": {},
     "output_type": "display_data"
    },
    {
     "data": {
      "image/png": "[encoded data removed]",
      "text/plain": [
       "<Figure size 504x504 with 1 Axes>"
      ]
     },
     "metadata": {},
     "output_type": "display_data"
    }
   ],
   "source": [
    "fig = plt.figure(figsize=(7,7))\n",
    "wp = {'linewidth':2, 'edgecolor':\"purple\"}\n",
    "tags = df.variation.value_counts()\n",
    "explode = (0.1, 0.1, 0.1, 0.1,0.1,0.1,0.1,0.1, 0.1,0.1,0.1,0.1,0.1,0.1,0.4,0.6)\n",
    "tags.plot(kind='pie', autopct='%1.1f%%', shadow=False, startangle=0,\n",
    "          wedgeprops = wp, label='', explode = explode)\n",
    "plt.title(\"Distribution Percentage of Variation\")\n",
    "plt.show()"
   ]
  },
  {
   "cell_type": "code",
   "execution_count": 18,
   "id": "31e57200",
   "metadata": {},
   "outputs": [
    {
     "data": {
      "application/javascript": [
       "\n",
       "        if (window._pyforest_update_imports_cell) { window._pyforest_update_imports_cell('import matplotlib.pyplot as plt\\nimport pandas as pd\\nimport seaborn as sns'); }\n",
       "    "
      ],
      "text/plain": [
       "<IPython.core.display.Javascript object>"
      ]
     },
     "metadata": {},
     "output_type": "display_data"
    },
    {
     "data": {
      "application/javascript": [
       "\n",
       "        if (window._pyforest_update_imports_cell) { window._pyforest_update_imports_cell('import matplotlib.pyplot as plt\\nimport pandas as pd\\nimport seaborn as sns'); }\n",
       "    "
      ],
      "text/plain": [
       "<IPython.core.display.Javascript object>"
      ]
     },
     "metadata": {},
     "output_type": "display_data"
    },
    {
     "data": {
      "image/png": "[encoded data removed]",
      "text/plain": [
       "<Figure size 864x648 with 1 Axes>"
      ]
     },
     "metadata": {
      "needs_background": "light"
     },
     "output_type": "display_data"
    }
   ],
   "source": [
    "df.variation.value_counts().plot.barh(figsize=(12,9))\n",
    "plt.title('Variaton Class Distribution')\n",
    "plt.show()"
   ]
  },
  {
   "cell_type": "code",
   "execution_count": 19,
   "id": "b87567c2",
   "metadata": {},
   "outputs": [
    {
     "data": {
      "text/plain": [
       "5    362\n",
       "4     84\n",
       "3     34\n",
       "1     22\n",
       "2     14\n",
       "Name: rating, dtype: int64"
      ]
     },
     "execution_count": 19,
     "metadata": {},
     "output_type": "execute_result"
    }
   ],
   "source": [
    "df[df['variation']=='Black  Dot']['rating'].value_counts()"
   ]
  },
  {
   "cell_type": "code",
   "execution_count": 20,
   "id": "1b7cc43a",
   "metadata": {},
   "outputs": [
    {
     "data": {
      "text/plain": [
       "5    352\n",
       "4     56\n",
       "3     10\n",
       "2      8\n",
       "1      4\n",
       "Name: rating, dtype: int64"
      ]
     },
     "execution_count": 20,
     "metadata": {},
     "output_type": "execute_result"
    }
   ],
   "source": [
    "df[df['variation']=='Charcoal Fabric ']['rating'].value_counts()"
   ]
  },
  {
   "cell_type": "code",
   "execution_count": 21,
   "id": "73cf3525",
   "metadata": {},
   "outputs": [
    {
     "data": {
      "text/plain": [
       "5    8\n",
       "4    1\n",
       "Name: rating, dtype: int64"
      ]
     },
     "execution_count": 21,
     "metadata": {},
     "output_type": "execute_result"
    }
   ],
   "source": [
    "df[df['variation']=='Walnut Finish ']['rating'].value_counts()"
   ]
  },
  {
   "cell_type": "code",
   "execution_count": 22,
   "id": "304cbae3",
   "metadata": {},
   "outputs": [
    {
     "data": {
      "text/plain": [
       "1    480\n",
       "0     36\n",
       "Name: feedback, dtype: int64"
      ]
     },
     "execution_count": 22,
     "metadata": {},
     "output_type": "execute_result"
    }
   ],
   "source": [
    "df[df['variation']=='Black  Dot']['feedback'].value_counts()"
   ]
  },
  {
   "cell_type": "code",
   "execution_count": 23,
   "id": "c97d7c1e",
   "metadata": {},
   "outputs": [
    {
     "data": {
      "application/javascript": [
       "\n",
       "        if (window._pyforest_update_imports_cell) { window._pyforest_update_imports_cell('import matplotlib.pyplot as plt\\nimport pandas as pd\\nimport seaborn as sns'); }\n",
       "    "
      ],
      "text/plain": [
       "<IPython.core.display.Javascript object>"
      ]
     },
     "metadata": {},
     "output_type": "display_data"
    },
    {
     "data": {
      "application/javascript": [
       "\n",
       "        if (window._pyforest_update_imports_cell) { window._pyforest_update_imports_cell('import matplotlib.pyplot as plt\\nimport pandas as pd\\nimport seaborn as sns'); }\n",
       "    "
      ],
      "text/plain": [
       "<IPython.core.display.Javascript object>"
      ]
     },
     "metadata": {},
     "output_type": "display_data"
    },
    {
     "data": {
      "application/javascript": [
       "\n",
       "        if (window._pyforest_update_imports_cell) { window._pyforest_update_imports_cell('import matplotlib.pyplot as plt\\nimport pandas as pd\\nimport seaborn as sns'); }\n",
       "    "
      ],
      "text/plain": [
       "<IPython.core.display.Javascript object>"
      ]
     },
     "metadata": {},
     "output_type": "display_data"
    },
    {
     "data": {
      "image/png": "[encoded data removed]",
      "text/plain": [
       "<Figure size 432x288 with 1 Axes>"
      ]
     },
     "metadata": {
      "needs_background": "light"
     },
     "output_type": "display_data"
    },
    {
     "data": {
      "text/plain": [
       "1    2893\n",
       "0     257\n",
       "Name: feedback, dtype: int64"
      ]
     },
     "execution_count": 23,
     "metadata": {},
     "output_type": "execute_result"
    }
   ],
   "source": [
    "sns.countplot(x='feedback', data=df)\n",
    "plt.title('Negative vs Positive Feedback (0 - Negative | 1 - Positive)')\n",
    "plt.show()\n",
    "\n",
    "df['feedback'].value_counts()"
   ]
  },
  {
   "cell_type": "code",
   "execution_count": 24,
   "id": "7c1e48dd",
   "metadata": {},
   "outputs": [
    {
     "data": {
      "application/javascript": [
       "\n",
       "        if (window._pyforest_update_imports_cell) { window._pyforest_update_imports_cell('import matplotlib.pyplot as plt\\nimport pandas as pd\\nimport seaborn as sns'); }\n",
       "    "
      ],
      "text/plain": [
       "<IPython.core.display.Javascript object>"
      ]
     },
     "metadata": {},
     "output_type": "display_data"
    },
    {
     "data": {
      "application/javascript": [
       "\n",
       "        if (window._pyforest_update_imports_cell) { window._pyforest_update_imports_cell('import matplotlib.pyplot as plt\\nimport pandas as pd\\nimport seaborn as sns'); }\n",
       "    "
      ],
      "text/plain": [
       "<IPython.core.display.Javascript object>"
      ]
     },
     "metadata": {},
     "output_type": "display_data"
    },
    {
     "data": {
      "application/javascript": [
       "\n",
       "        if (window._pyforest_update_imports_cell) { window._pyforest_update_imports_cell('import matplotlib.pyplot as plt\\nimport pandas as pd\\nimport seaborn as sns'); }\n",
       "    "
      ],
      "text/plain": [
       "<IPython.core.display.Javascript object>"
      ]
     },
     "metadata": {},
     "output_type": "display_data"
    },
    {
     "data": {
      "image/png": "[encoded data removed]",
      "text/plain": [
       "<Figure size 504x504 with 1 Axes>"
      ]
     },
     "metadata": {},
     "output_type": "display_data"
    }
   ],
   "source": [
    "fig = plt.figure(figsize=(7,7))\n",
    "colors = (\"turquoise\", \"cyan\")\n",
    "wp = {'linewidth':2, 'edgecolor':\"purple\"}\n",
    "tags = df.feedback.value_counts()\n",
    "explode = (0.1, 0.1)\n",
    "tags.plot(kind='pie', autopct='%1.1f%%', shadow=False, colors = colors, startangle=45,\n",
    "          wedgeprops = wp, label='', explode = explode)\n",
    "plt.title(\"Negative vs Positive Feedback (0 - Negative | 1 - Positive)\")\n",
    "plt.show()"
   ]
  },
  {
   "cell_type": "code",
   "execution_count": 25,
   "id": "3fad43b9",
   "metadata": {},
   "outputs": [
    {
     "data": {
      "application/javascript": [
       "\n",
       "        if (window._pyforest_update_imports_cell) { window._pyforest_update_imports_cell('import matplotlib.pyplot as plt\\nimport pandas as pd\\nimport seaborn as sns'); }\n",
       "    "
      ],
      "text/plain": [
       "<IPython.core.display.Javascript object>"
      ]
     },
     "metadata": {},
     "output_type": "display_data"
    },
    {
     "data": {
      "application/javascript": [
       "\n",
       "        if (window._pyforest_update_imports_cell) { window._pyforest_update_imports_cell('import matplotlib.pyplot as plt\\nimport pandas as pd\\nimport seaborn as sns'); }\n",
       "    "
      ],
      "text/plain": [
       "<IPython.core.display.Javascript object>"
      ]
     },
     "metadata": {},
     "output_type": "display_data"
    },
    {
     "data": {
      "application/javascript": [
       "\n",
       "        if (window._pyforest_update_imports_cell) { window._pyforest_update_imports_cell('import matplotlib.pyplot as plt\\nimport pandas as pd\\nimport seaborn as sns'); }\n",
       "    "
      ],
      "text/plain": [
       "<IPython.core.display.Javascript object>"
      ]
     },
     "metadata": {},
     "output_type": "display_data"
    },
    {
     "data": {
      "application/javascript": [
       "\n",
       "        if (window._pyforest_update_imports_cell) { window._pyforest_update_imports_cell('import matplotlib.pyplot as plt\\nimport pandas as pd\\nimport seaborn as sns'); }\n",
       "    "
      ],
      "text/plain": [
       "<IPython.core.display.Javascript object>"
      ]
     },
     "metadata": {},
     "output_type": "display_data"
    },
    {
     "data": {
      "application/javascript": [
       "\n",
       "        if (window._pyforest_update_imports_cell) { window._pyforest_update_imports_cell('import matplotlib.pyplot as plt\\nimport pandas as pd\\nimport seaborn as sns'); }\n",
       "    "
      ],
      "text/plain": [
       "<IPython.core.display.Javascript object>"
      ]
     },
     "metadata": {},
     "output_type": "display_data"
    },
    {
     "data": {
      "image/png": "[encoded data removed]",
      "text/plain": [
       "<Figure size 432x288 with 1 Axes>"
      ]
     },
     "metadata": {
      "needs_background": "light"
     },
     "output_type": "display_data"
    }
   ],
   "source": [
    "plt.hist(df['review_lenght'], bins=100)\n",
    "plt.title('Histogram of Review Lengths')\n",
    "plt.xlabel('Review Lengths')\n",
    "plt.ylabel('Count')\n",
    "plt.show()"
   ]
  },
  {
   "cell_type": "code",
   "execution_count": 26,
   "id": "920ae453",
   "metadata": {},
   "outputs": [
    {
     "name": "stdout",
     "output_type": "stream",
     "text": [
      "Love my Echo! \n",
      "\n",
      "0.625 \n",
      "\n",
      "1 \n",
      "\n",
      "Loved it! \n",
      "\n",
      "0.875 \n",
      "\n",
      "1 \n",
      "\n",
      "Sometimes while playing a game, you can answer a question correctly but Alexa says you got it wrong and answers the same as you.  I like being able to turn lights on and off while away from home. \n",
      "\n",
      "-0.1 \n",
      "\n",
      "1 \n",
      "\n",
      "I have had a lot of fun with this thing. My 4 yr old learns about dinosaurs, i control the lights and play games like categories. Has nice sound when playing music as well. \n",
      "\n",
      "0.35 \n",
      "\n",
      "1 \n",
      "\n",
      "Music \n",
      "\n",
      "0.0 \n",
      "\n",
      "1 \n",
      "\n",
      "I received the echo as a gift. I needed another Bluetooth or something to play music easily accessible, and found this smart speaker. Can’t wait to see what else it can do. \n",
      "\n",
      "0.29464285714285715 \n",
      "\n",
      "1 \n",
      "\n",
      "Without having a cellphone, I cannot use many of her features. I have an iPad but do not see that of any use.  It IS a great alarm.  If u r almost deaf, you can hear her alarm in the bedroom from out in the living room, so that is reason enough to keep her.It is fun to ask random questions to hear her response.  She does not seem to be very smartbon politics yet. \n",
      "\n",
      "0.21666666666666667 \n",
      "\n",
      "1 \n",
      "\n",
      "I think this is the 5th one I've purchased. I'm working on getting one in every room of my house. I really like what features they offer specifily playing music on all Echos and controlling the lights throughout my house. \n",
      "\n",
      "0.2 \n",
      "\n",
      "1 \n",
      "\n",
      "looks great \n",
      "\n",
      "0.8 \n",
      "\n",
      "1 \n",
      "\n",
      "Love it! I’ve listened to songs I haven’t heard since childhood! I get the news, weather, information! It’s great! \n",
      "\n",
      "0.98828125 \n",
      "\n",
      "1 \n",
      "\n"
     ]
    }
   ],
   "source": [
    "for i in range(10):\n",
    "    print(df['verified_reviews'].iloc[i], \"\\n\")\n",
    "    print(df['polarity'].iloc[i], \"\\n\")\n",
    "    print(df['feedback'].iloc[i], \"\\n\")"
   ]
  },
  {
   "cell_type": "code",
   "execution_count": 27,
   "id": "ade50068",
   "metadata": {},
   "outputs": [],
   "source": [
    "def data_processing(text):\n",
    "    text = text.lower()\n",
    "    text = re.sub(r\"http\\S+|www\\S+https\\S+\",'', text, flags = re.MULTILINE)\n",
    "    text = re.sub(r'[^\\w\\s]', '',text)\n",
    "    text_tokens = word_tokenize(text)\n",
    "    filtered_text = [w for w in text_tokens if not w in stop_words]\n",
    "    return \" \".join(filtered_text)"
   ]
  },
  {
   "cell_type": "code",
   "execution_count": 28,
   "id": "f7ba6691",
   "metadata": {},
   "outputs": [],
   "source": [
    "df.verified_reviews = df['verified_reviews'].apply(data_processing)"
   ]
  },
  {
   "cell_type": "code",
   "execution_count": 29,
   "id": "a5a19ad6",
   "metadata": {},
   "outputs": [
    {
     "name": "stderr",
     "output_type": "stream",
     "text": [
      "[nltk_data] Downloading package punkt to C:\\Users\\Agba\n",
      "[nltk_data]     PC\\AppData\\Roaming\\nltk_data...\n",
      "[nltk_data]   Package punkt is already up-to-date!\n"
     ]
    },
    {
     "data": {
      "text/plain": [
       "True"
      ]
     },
     "execution_count": 29,
     "metadata": {},
     "output_type": "execute_result"
    }
   ],
   "source": [
    "import nltk\n",
    "nltk.download('punkt')"
   ]
  },
  {
   "cell_type": "code",
   "execution_count": 30,
   "id": "5eb5d99d",
   "metadata": {},
   "outputs": [],
   "source": [
    "stemmer = PorterStemmer()\n",
    "def stemming(data):\n",
    "    text = [stemmer.stem(word) for word in data]\n",
    "    return data"
   ]
  },
  {
   "cell_type": "code",
   "execution_count": 31,
   "id": "e0d6ce43",
   "metadata": {},
   "outputs": [],
   "source": [
    " df['verified_reviews'] = df['verified_reviews'].apply(lambda x:stemming(x))"
   ]
  },
  {
   "cell_type": "code",
   "execution_count": 32,
   "id": "1b1aeb89",
   "metadata": {},
   "outputs": [
    {
     "name": "stdout",
     "output_type": "stream",
     "text": [
      "love echo \n",
      "\n",
      "1 \n",
      "\n",
      "0.625 \n",
      "\n",
      "loved \n",
      "\n",
      "1 \n",
      "\n",
      "0.875 \n",
      "\n",
      "sometimes playing game answer question correctly alexa says got wrong answers like able turn lights away home \n",
      "\n",
      "1 \n",
      "\n",
      "-0.1 \n",
      "\n",
      "lot fun thing 4 yr old learns dinosaurs control lights play games like categories nice sound playing music well \n",
      "\n",
      "1 \n",
      "\n",
      "0.35 \n",
      "\n",
      "music \n",
      "\n",
      "1 \n",
      "\n",
      "0.0 \n",
      "\n",
      "received echo gift needed another bluetooth something play music easily accessible found smart speaker cant wait see else \n",
      "\n",
      "1 \n",
      "\n",
      "0.29464285714285715 \n",
      "\n",
      "without cellphone use many features ipad see use great alarm u r almost deaf hear alarm bedroom living room reason enough keep herit fun ask random questions hear response seem smartbon politics yet \n",
      "\n",
      "1 \n",
      "\n",
      "0.21666666666666667 \n",
      "\n",
      "think 5th one ive purchased im working getting one every room house really like features offer specifily playing music echos controlling lights throughout house \n",
      "\n",
      "1 \n",
      "\n",
      "0.2 \n",
      "\n",
      "looks great \n",
      "\n",
      "1 \n",
      "\n",
      "0.8 \n",
      "\n",
      "love ive listened songs havent heard since childhood get news weather information great \n",
      "\n",
      "1 \n",
      "\n",
      "0.98828125 \n",
      "\n"
     ]
    }
   ],
   "source": [
    "for i in range(10):\n",
    "    print(df['verified_reviews'].iloc[i], \"\\n\")\n",
    "    print(df['feedback'].iloc[i], \"\\n\")\n",
    "    print(df['polarity'].iloc[i], \"\\n\")"
   ]
  },
  {
   "cell_type": "code",
   "execution_count": 9,
   "id": "448e0c20",
   "metadata": {},
   "outputs": [
    {
     "data": {
      "text/plain": [
       "Counter({'Love my Echo!': 1,\n",
       "         'Loved it!': 1,\n",
       "         'Sometimes while playing a game, you can answer a question correctly but Alexa says you got it wrong and answers the same as you.  I like being able to turn lights on and off while away from home.': 1,\n",
       "         'I have had a lot of fun with this thing. My 4 yr old learns about dinosaurs, i control the lights and play games like categories. Has nice sound when playing music as well.': 1,\n",
       "         'Music': 1,\n",
       "         'I received the echo as a gift. I needed another Bluetooth or something to play music easily accessible, and found this smart speaker. Can’t wait to see what else it can do.': 2,\n",
       "         'Without having a cellphone, I cannot use many of her features. I have an iPad but do not see that of any use.  It IS a great alarm.  If u r almost deaf, you can hear her alarm in the bedroom from out in the living room, so that is reason enough to keep her.It is fun to ask random questions to hear her response.  She does not seem to be very smartbon politics yet.': 2,\n",
       "         \"I think this is the 5th one I've purchased. I'm working on getting one in every room of my house. I really like what features they offer specifily playing music on all Echos and controlling the lights throughout my house.\": 2,\n",
       "         'looks great': 2,\n",
       "         'Love it! I’ve listened to songs I haven’t heard since childhood! I get the news, weather, information! It’s great!': 2,\n",
       "         'I sent it to my 85 year old Dad, and he talks to it constantly.': 2,\n",
       "         \"I love it! Learning knew things with it eveyday! Still figuring out how everything works but so far it's been easy to use and understand. She does make me laugh at times\": 2,\n",
       "         'I purchased this for my mother who is having knee problems now, to give her something to do while trying to over come not getting around so fast like she did.She enjoys all the little and big things it can do...Alexa play this song, What time is it and where, and how to cook this and that!': 2,\n",
       "         'Love, Love, Love!!': 2,\n",
       "         'Just what I expected....': 2,\n",
       "         'I love it, wife hates it.': 2,\n",
       "         'Really happy with this purchase.  Great speaker and easy to set up.': 2,\n",
       "         'We have only been using Alexa for a couple of days and are having a lot of fun with our new toy. It like having a new household member! We are trying to learn all the different featues and benefits that come with it.': 2,\n",
       "         'We love the size of the 2nd generation echo. Still needs a little improvement on sound': 2,\n",
       "         \"I liked the original Echo. This is the same but shorter and with greater fabric/color choices. I miss the volume ring on top, now it's just the plus/minus buttons. Not a big deal but the ring w as comforting. :) Other than that, well I do like the use of a standard USB charger /port instead of the previous round pin. Other than that, I guess it sounds the same, seems to work the same, still answers to Alexa/Echo/Computer. So what's not to like? :)\": 2,\n",
       "         'Love the Echo and how good the music sounds playing off it. Alexa understands most commands but it is difficult at times for her to find specific playlists or songs on Spotify. She is good with Amazon Music but is lacking in other major programs.': 2,\n",
       "         \"We love Alexa! We use her to play music, play radio through iTunes, play podcasts through Anypod, and set reminders. We listen to our flash briefing of news and weather every morning. We rely on our custom lists. We like being able to voice control the volume. We're sure we'll continue to find new uses.Sometimes it's a bit frustrating when Alexa doesn't understand what we're saying.\": 2,\n",
       "         'Have only had it set up for a few days. Still adding smart home devices to it. The speaker is great for playing music. I like the size, we have it stationed on the kitchen counter and it’s not intrusive to look at.': 2,\n",
       "         'I love it. It plays my sleep sounds immediately when I ask': 2,\n",
       "         'I got a second unit for the bedroom, I was expecting the sounds to be improved but I didnt really see a difference at all.  Overall, not a big improvement over the 1st generation.': 2,\n",
       "         'Amazing product': 2,\n",
       "         \"I love my Echo. It's easy to operate, loads of fun.It is everything as advertised. I use it mainly to play my favorite tunes and test Alexa's knowledge.\": 2,\n",
       "         'Sounds great!! Love them!': 2,\n",
       "         'Fun item to play with and get used to using.  Sometimes has hard time answering the questions you ask, but I think it will be better.': 2,\n",
       "         'Just like the other one': 2,\n",
       "         'Still learning all the capabilities...but so far pretty pretty pretty good': 2,\n",
       "         'I like it': 5,\n",
       "         'She works well. Needs a learning command  for unique, owners and users like. Alexa “learn” Tasha’s birthday.  Or Alexa “learn” my definition of Fine. Etc. other than that she is great': 2,\n",
       "         \"The speakers sound pretty good for being so small and setup is pretty easy.  I bought two and the reason I only rate it a 3 is I have followed the instructions for synching music to both units.  I know I've done it correctly but they won't sync.  That was my primary motivation for purchasing multiple units.\": 2,\n",
       "         'This device is awesome!': 2,\n",
       "         'I bought this to compare the speaker quality to our first generation speaker and i like the sound better.  I will ship this to my daughter though because I like the fact that my first generation has a chargeable base that we bought which keeps it more mobile and she needs a better sound than what she has now.': 2,\n",
       "         'Love my Echo. Still learning all the things it will do. Wasn’t able to follow instructions included in the package, but found a great one on U-Tube.': 2,\n",
       "         'Speaker is better than 1st generation Echo': 2,\n",
       "         'This thing is way cool!  You should get one.  If you want to be cool, that is.': 2,\n",
       "         \"This is my first digital assistant so I'm giving this a good review. Speaker is really good for the cheap price on Prime day. Fun to play with and can be used as an alarm clock (That's what I was going to get in the first place, but I ended up with Echo). If you haven't had a go with one then definitely try it!What I like best is the number of other devices that it can connect with. My purchase came with a Smart Plug for $10 which I connect my lamp to. Alexa, turn of the lights!\": 2,\n",
       "         \"My husband likes being able to use it to listen to music.  I wish we knew all it's capabilities\": 2,\n",
       "         'My Android would not allow Alexa to connect. Fortunately, my sister was here with her Apple cell. After an hour+ tech support fixed the glitches. We are up and running.': 2,\n",
       "         'So far so good': 3,\n",
       "         'Tried to play certain broadway shows like Camelot and it gives ne the group Camelot.': 2,\n",
       "         'Great': 9,\n",
       "         'Very satisfied with the Echo. Alexa now controls the lights in my family room and my wife can listen to Jimmy Buffet by just asking Alexa.': 2,\n",
       "         \"It's like Siri, in fact, Siri answers more accurately then Alexa.  I don't see a real need for it in my household, though it was a good bargain on prime day deals.\": 2,\n",
       "         'Love my Echo. Still learning how every thing works but having tons of fun.': 2,\n",
       "         'I love you so much': 2,\n",
       "         'No different than Apple. To play a specific list of music you must have an Amazon of Spotify “plus/prime/etc” account.  So you must pay to play “your” music.  3 stars for that reason.  Everything else is 👍🏻 .': 2,\n",
       "         'Excelente, lo unico es que no esta en español.': 2,\n",
       "         \"I'm still learning how to use it, but so far my Echo is great! The sound is actually much better than I was expecting.\": 2,\n",
       "         'Works as you’d expect and then some. Also good sound quality considering price (70.00 on sale) and features.': 2,\n",
       "         'The sound from this Echo 2nd Generation is phenomenal!  Not to mention that I just love Alexa!  She is very helpful.': 2,\n",
       "         'like google better': 2,\n",
       "         'Just had to have it and now lets play and learn how to get the most out of it.': 2,\n",
       "         'Works as advertised. Very easy to setup. Still learning what this can do.': 2,\n",
       "         'Great sound and easy to set up.': 2,\n",
       "         'Love Alexa, bought others for friends': 2,\n",
       "         'Love the echo I purchased it for company for my husband he is 83 and Alexa is great all he has to do is say her name and she tells him a joke and plays his favorite songs': 2,\n",
       "         '😍': 2,\n",
       "         'Love being able to listen to music easily. Still learning all the features available': 2,\n",
       "         'Did t really know what I could use this device for. Used it for a few things, but need an overview': 2,\n",
       "         'Love this just wish it had a built in hub': 2,\n",
       "         'I use it primarily to play music.  It works wonderfully!  Still getting used to some of the many things it will do.  Amazon has sent several tips since I got it. Thanks for all your help!': 2,\n",
       "         'How easy if was to set up.': 2,\n",
       "         'Fast response which was amazing.  Clear concise answers and sound quality is fantastic.  I am still getting used to Alexia and have not usde Echo to its full extent.': 2,\n",
       "         'You’re all I need...na na nana!': 2,\n",
       "         'Does everything as expected and more.': 2,\n",
       "         \"I love my Echo!  Works just like they said it would. I don't have a &#34;smart&#34; home, so I cannot speak about that function, but everything else about it is good.\": 2,\n",
       "         'Great sound in a small package—easy to set up and use; fun to own.': 2,\n",
       "         'Works and sounds great.': 2,\n",
       "         'The sound is amazing and many collections of all music': 2,\n",
       "         'Setting up': 2,\n",
       "         'She doesn’t always listen': 2,\n",
       "         'It’s awesome': 2,\n",
       "         'I bought this because it can control fios television. It works well. I’m hoping over time it will do more to control fios. Then I discovered all the other things Alexa can do. Play music you ask for. Great sound from Alexa. Play games. Play radio stations. Play old time radio programs like the Long Ranger. Alexa has many “apps” you can add to her abilities. The other day I played Madlibs. Great fun. Also Alexa can control household appliances. I just purchased Alexa compatible power strips to control lighting, fans and TV components. I’m looking forward to implementing this controll. You can also add other Alexa components to have chosen music to play in all rooms where the components are located.': 2,\n",
       "         'The speaker has excellent sound and works perfectly!': 2,\n",
       "         'I LIKE IT ALL': 2,\n",
       "         'I love it. It does everything': 2,\n",
       "         \"I was a little nervous when I received my new Echo as I'm not really Tech savvy. I found it a bit intimidating at first but it didn't take me to long to figure it out!! I'm very happy with my purchase and now thinking of adding an echo spot!!!\": 2,\n",
       "         'I like it and still learning how to use it.': 2,\n",
       "         \"Great technology!! Can't believe the speaker volume and quality is so wonderful. Wish I had bought another one!\": 2,\n",
       "         'I purchased an echo dot for my husband for Fathers Day.  He uses it constantly and after hearing the quality of sound of the Echo (2nd Generation), It was a no-brainer.  Best gift ever!': 2,\n",
       "         'Works fine!!': 2,\n",
       "         ' ': 79,\n",
       "         'Clear music': 2,\n",
       "         'Fun to use, good sound quality': 2,\n",
       "         'The echo works well. I was able to sync it with my other Amazon music devices.': 2,\n",
       "         \"Works great, but I don't think Amazon should charge another cent for unlimited music when you 1) Have Prime AND 2) Buy an Echo.\": 2,\n",
       "         'Already had an Echo Dot. The Echo is even better with fuller sound. Also during setup it now lets phone calls to be made to my contact list which is great!': 2,\n",
       "         'The speaker sounds really good': 2,\n",
       "         'Good sound works well': 2,\n",
       "         'Love it and Alexa. I am not very savvy but support was very helpful and patient.': 2,\n",
       "         \"Love it! I was thinking about getting one and when the prime day discount was offered, I could not pass it up! It's fun to ask Alexa to play any song or group and she comes up with a playlist from Amazon Prime Music. You can also connect your iPhone with bluetooth and play music with Pandora or YouTube videos using Alexa as a speaker. I've been having fun asking Alexa different types of questions or for information like weather, news or even the time in other countries. The only downside is if you have limited data on your wifi plan, because Alexa uses burns it up when playing music.\": 2,\n",
       "         'We like it all so far, but have a lot to try out yet.': 2,\n",
       "         \"Love it - am using it strictly for music now and it's great!\": 2,\n",
       "         'Love the Echo !!! I love the size, material and speaker quality. I have it hooked up to one light easily and will work on additional lights and thermostat. Next is Echo Dot for bedroom. There is a lot more to do with Echo that you think. Traffic, Weather, Trivia, etc.': 2,\n",
       "         'Love it!': 22,\n",
       "         'The entire family loves Alexa Echo. She’s now a part of this family.': 2,\n",
       "         \"Great fun getting to know all the functions of this product.  WOW -- family fun and homework help.  Talking with other grandchildren,who also have an Echo, is a HUGE bonus.  Can't wait to learn more and more and more\": 2,\n",
       "         'awesome thing, love Alexa': 2,\n",
       "         'It worked exactly as expected and the speaker has great sound. It is perfect for my classroom!': 2,\n",
       "         \"LOVE, LOVE this new little gadget.  Has  made our lives so much easier.  it's like having our own personal secretary living here in the home.  We hardly need our CD's anymore, since ALEXA plays everything we need.  Going to get the Alexa DOTS soon for more rooms.  Thanks!!\": 2,\n",
       "         'The speaker is of surprising quality. Happy with the purchase.': 2,\n",
       "         'Very easy to set up. Works wonderful and I love it!!': 2,\n",
       "         \"I'm really impressed with the sound quality when playing music from this device.  The bass sounds almost like it's coming from a bigger speaker so props to Amazon.\": 2,\n",
       "         'It’s still a great product.But the sound quality does seem worse.Don’t get me wrong. You definitely get used to it within an hour. But it definitely feels like echo gen 1 sound quality was better.Besides that , it’s great.With the addition of being able to play Just over Bluetooth with no WiFi, it’s even better.': 2,\n",
       "         'The outlet does not work with it. Was disappointed in that.': 2,\n",
       "         'Great device, responsive and helpful': 2,\n",
       "         'Sound is terrible if u want good music too get a bose': 2,\n",
       "         \"i liked the sound . what is troubling is that I paid extra money to have access to a million more songs. Sometimes it doesn't work. Ex. Alexa play Italian songs&#34; .don't have or don&#34; t understand. or play the opera Tosca, response &#34;sorry I don&#34;t have that.\": 2,\n",
       "         'Easy to set up and use. Too bad it has to be plugged in. Would be nice to take it outside and operate on battery and recharged.': 2,\n",
       "         'Still learning all the ways to use it.  It is a real hit with my grandkids who ask it to play music and then dance to it.  (5 and 7 yrs).  Very cute.': 2,\n",
       "         \"4.5 out of 5 Stars. I generally like this product. Its great at doing what you ask of it like playing music, setting timers, and making calls. Reason why I didn't rate it 5 out of 5 is that sometimes the connection dies and my Echo stops playing music and shows a red ring. Seems to be a connection issue. Overall, great product.\": 2,\n",
       "         'Works great, upgraded from echo dot to full size echo, couldn’t be happier!': 2,\n",
       "         \"It's Alexa.... what else can you say\": 2,\n",
       "         'Upgraded from my lilttle echo dot. Happy with sound': 2,\n",
       "         'Excellent product, set up with ease as well.': 2,\n",
       "         \"I've had the first gen Echo since it first came out and it has worked well for me. I purchased the 2nd gen during Prime Day and so far I'm happy. It seems to have an improved speaker which provides enhanced sound for music and such.\": 2,\n",
       "         'I love my Echo smart speaker.  I love the volume and clarity.  It was easy to set up.  ITs a wonderful gift for any age.': 2,\n",
       "         'wonderful product and fast delivery!': 2,\n",
       "         'Initially harder to set up called tech wasn’t that knowledgeable now working great.': 2,\n",
       "         'It was very easy to set up and my family love it’s!': 2,\n",
       "         'Has great sound and is very responsive my voice and commands.': 2,\n",
       "         'How did I live this long without the Echo . You get to enjoy any music style  just my asking Alexa . Going to up-greade to the wireless . Love the Echo . Love you too Alexa .': 2,\n",
       "         'Very cool product. Speaker sounds good with my Spotify blasting through it.': 2,\n",
       "         'Having so much fun with Alexa. Love being able to listen to music when I’m across the room or busy doing something else.': 2,\n",
       "         \"So far it seems to be a very nice item. It picks up on my voice and understands me without any problems. The other day I asked it to turn down the music from the next room and it heard me just fine. I've only used it to listen to music and check the weather, but it has done both of those things very well.\": 2,\n",
       "         'Love our echo': 2,\n",
       "         'I love it,she is very helpful. I use her for remembering things and sleep. You can ask her just about anything. I have only had her for about a week so still learning her.': 2,\n",
       "         \"It's better than the 1st gen in every way except for one.  I really miss the ring at the top for volume control.  It was quicker and easier to just grab the top and twist without having to look at the buttons and find the &#34;-&#34; one and press it a few times.  I also wish the bass was a bit better.  All in all, it's a great device and I'm happy with it.\": 2,\n",
       "         'I love having an Alexa!': 2,\n",
       "         'So far I like it 🤓': 2,\n",
       "         'I am thoroughly enjoying my Ecoo!  Love to have it read my audiobook to me while in the office and then I can simply open the audiobook on my kindle to continue it when elsewhere. Wonderful for listening to music when not in the mood for a book. Great for setting reminders for myself too and so much more.': 2,\n",
       "         'Still love it': 2,\n",
       "         'Love it': 19,\n",
       "         'I love the sound quality of this unit, it is a very clear sound.': 2,\n",
       "         'I just this for listening to talk radio in the morning and turning lights on and off etc. The system does an excellent job as a full house sound system streaming Sirius.': 2,\n",
       "         'I have had for only a week, so I am still learning all that Alexa can do.  It is a learning process.  I love the music I can call up any time.  I listen to podcasts and radio stations.  I have just started keeping shopping lists and grocery lists, which I love.  I don’t have to search for paper and pencil.  Getting time and temperature are great, do not have to wait for weather reports.  The sound is good.  I am not fussy about woofers, tweeters, base , etc.  the Echo is fine for me.  This afternoon I am going to try “dropping in”.on my son when he gets home.  Going to surprise him.': 2,\n",
       "         'Not much features.': 2,\n",
       "         'Great sound quality, great features, great product. Multi room music is very cool.': 2,\n",
       "         'Cool': 4,\n",
       "         'Everyone should have an Echo or two or three or more. I bought my Echo through QVC.': 2,\n",
       "         \"it's annoying that everything they show Alexa as being able to do has to be downloaded. You spend so  much time trying to figure out how to phrase it for the machine that you may as well just look it up yourself\": 2,\n",
       "         \"I have had Alexa since the beginning.  I accidentally spilled water on her and have replaced it with the 2nd generation.  I decided I couldn't be without an Echo.  Setup was easy and had it working within minutes.\": 2,\n",
       "         'I like being able to tell Alexia the music I want to hear, but sometimes she has trouble finding the song if I am not very specific about the title.': 2,\n",
       "         'I like the looks better than the original echo.  I moved my old echo to the basement family room. Nice sound.': 2,\n",
       "         \"The Echo is wonderful but I'm still learning how to use it. Music requests are somewhat limited.\": 2,\n",
       "         \"Doesn't know half the things asked. Can't recognize my sprinkler wifi controller, even though product details says it is compatible. Can't program or change my wifi thermostat settings and its matched up on same wifi router. Just a handy music player. That's if you have Amazon Music.\": 2,\n",
       "         'awesome.understands my kids': 2,\n",
       "         'We were pleasantly surprised at the sound quality and the many features. How nice to easily hear a particular artist or hear our books just by a simple command. Looking forward to exploring other options with this device.': 2,\n",
       "         'Met and exceeded my expectations. Easy set up and is really quick in responses.': 2,\n",
       "         'I like the fact that I can get any kind of music from Prime that I want on request from Alexa. I liked the informative photo little pamphlet but wish it included how to connect your TV etc. to the commands from Alexa. BUT, I really love having the music.': 2,\n",
       "         'i have not found a way to access my echo thorough my prime account.  I think it should be part of the top line with video, music, etc.  I also think the setup app where i define, for example music i like, is not well integrated into echo.  I have tried to ask for my playlist and echo is not sure even though i set up play list in my settings.  I also do not like the fact that my words have to be exact match of my playlist names, which i can never remember.I like the ready nature of echo to respond to most any queries.': 2,\n",
       "         'This is great item and just added audible books which makes it even better. Thank you!': 2,\n",
       "         'During Prime Day this 2nd gen Echo was on sale so I couldn\\'t resist! This was the beginning to my smart home set up and I couldn\\'t be happier to say that Alexa has done an amazing job connecting to all of my \"smart\" devices. Thanks to her, I can control my lights, smart plugs, TV, etc. I had no trouble connecting the Echo to my WiFi and my phone. The app works perfectly fine and it let\\'s you add skills, routines, smart devices, timers, and so much more! Sound quality is good enough for me, since I am not an audiophile. Alexa can hear my voice even when watching movies at a high volume. Design is great and modern, it will definitely add a nice touch to your home and you can change the covers if you\\'d like as there are more for sale. Overall, this is a great addition to my home and enables so many possibilities. If you haven\\'t yet, be sure to add Alexa to your home!': 2,\n",
       "         'Versatile and fun !!!': 2,\n",
       "         'Works great! Killer speaker! My wife and son love it.': 2,\n",
       "         'We regret waiting so long to purchase this item. We are both surprised and pleased with the sound quality.': 2,\n",
       "         \"Stopped working after 2 weeks ,didn't follow commands!? Really fun when it was working?\": 2,\n",
       "         'so far love it working on getting more things set up love the grocery list app': 2,\n",
       "         'It performs pretty much as expected, but I am very disappointed it will not provide me with the terminology I need to play various kinds of music without subscribing to the Amazon music service.  I understand my music choices may be limited, but without knowing HOW TO ASK, I cannot access the music that is provided free along with my Echo purchase.  Do you have a chart showing the language I need to use?': 2,\n",
       "         'Easy to set up.': 4,\n",
       "         'I like the product except that the speakers are not the high quality I expected': 2,\n",
       "         'A great investment. Alexa has helped me out and made me laugh.': 2,\n",
       "         'Yet another Exho for our home and love them all!!!': 2,\n",
       "         'I love it, I can plan any gender of music from big band to jazz, not easy to find on local radio. Sound is good and I can stop it with a voice command if I get a phone call.': 2,\n",
       "         'Good Value': 2,\n",
       "         'Super easy set up and am loving our new Echo!': 2,\n",
       "         'Whats not to like about this speaker.  Just ask Alexa': 2,\n",
       "         \"BEST father's day gift. Dad joked to my mom that Alexa will be the one listening to all of his (repeated) stories going forward.\": 2,\n",
       "         'Great addition to our breakfast room kitchen.  Tunes and information instantly available.  Slowly learning more features.': 2,\n",
       "         'Sound quality': 2,\n",
       "         'Sad joke. Worthless.': 2,\n",
       "         'Entertainment': 2,\n",
       "         'Very good quality': 2,\n",
       "         'Works great sounds great does not miss a beat wish it had a battery for better portability': 2,\n",
       "         \"Loved it till someone stoled it. Can't afford to replace it yet but I am going too.\": 2,\n",
       "         'Alexa rocks': 2,\n",
       "         \"Got this as a gift and love it. I never would have bought one for myself, but now that I have it.... Allows me to play music on it from my amozon prime music ; that's worth it in and of itself.  Also, gives new's briefs and tells jokes.\": 2,\n",
       "         'My mom bought a few Echo Dots and repeated ask me to take one of hers because it was so great. I told her “no” for two days. When she made me take it, 6 hours later I could not live my life without it!  It’s that amazing, so now we have four large speakers and only the small Echo Dot, that I will be returning to her. I say if you’re going to order an Alexa speaker, go big and get the Echo, otherwise tou’ll Be returning the two Echo Dots you couldn’t live without.': 2,\n",
       "         'Love it!! Great product!!!': 2,\n",
       "         'Easy set up very user friendly': 2,\n",
       "         'Really disappointed Alexa has to be plug-in to wall socket all the time.  My fault for not checking this, but made the assumption that a company has technologically advanced as Amazon would sell this product with a rechargeable battery.  If I could return it, I would as my Apple music and boom speaker give me more flexibility the Alexa.': 2,\n",
       "         \"I don't think the &#34;2nd gen&#34; sounds as good as the 1st.  But it does have an aux out... so you could add an external speaker.  But if you are going to do that why wouldn't you just get a dot?  2nd issue is (which isn't unique to this unit but I don't understand why I can't override the default that prevents you from playing a blue tooth speaker while playing through a &#34;group&#34;.  I get there is a delay when using a BT speaker.  But if the other units are not where they can be heard then I should be able to play as a group while using the BT speaker.\": 2,\n",
       "         'Everything': 3,\n",
       "         'I like the interaction of asking questions. I don’t like that I can’t ask her to setup schedule of off and on of connected lamp.': 2,\n",
       "         'Supberb sound! Definitely worth the extra money if you listen to lots of music.': 2,\n",
       "         'I really love my amazon echo. I think the sound quality is great and we have a lot of fun with it. It is really handy for music and to get updates on the weather and sports!': 2,\n",
       "         'Love it!  So do the grandkids!!': 2,\n",
       "         'So far it has worked well. Not always intuitive as to how to link different devices, or \"skills\", but getting the hang of it.': 2,\n",
       "         'Works as advertised': 2,\n",
       "         'I love it!': 3,\n",
       "         'Love my new addition to the house! Speaker quality is great and over all we love our Alexa. My only two ( not complaints, more suggestions for the future series) would be better communication ability. Example: For our smart lights in the house. Unless we specify kitchen Light 1 or kitchen Light 2 prior to the command she either won’t respond or says she doesn’t recognize. It may be me, but I want my Alexa to respond when I say thank you afterwards. I have to repeat Alexa thank you and there are times she won’t respond to me, but will my husband. I know it sounds odd. We laugh about it, but maybe it’s a Southern thing but I want my Alexa to have manners too.': 2,\n",
       "         'Like everything about it. The music, the trivia games, the weather.': 2,\n",
       "         'As described and received on time.  Do not like automatic enrolment into music.': 2,\n",
       "         'A great device': 2,\n",
       "         'I owned an echo for overa year but the new lacks the easy way to increase or decrease volume without telling it to increase or decrease volume which is hard to do for my wife since English is her second language she was born in korea. But the sound from the echo is superb. So we’ll keep it..': 2,\n",
       "         'Love this!  Have it in the kitchen and works well!': 2,\n",
       "         \"Very nice!  I'm impressed - wish she had more to say though.\": 2,\n",
       "         'Love the product. Nice to have easy access to so much info!!!': 2,\n",
       "         \"It's got great sound and bass but it doesn't work all of the time. Its still hot or miss when it recognizes things\": 2,\n",
       "         'We are still discovering all that the Echo can do.': 2,\n",
       "         'Amazing paroduct': 2,\n",
       "         \"Good hearing range and sound quality. It was a bit complicated to set up and she doesn't quite understand me a lot even when I am speaking slowly and clearly but I love the flash briefing feature and interfacing with my abode home security system.\": 2,\n",
       "         'speaker sounds good': 2,\n",
       "         'Absolutely love!!': 2,\n",
       "         'The best part of this product is you can control the thermostat and lights for your house.  There isn’t anything I dislike.': 2,\n",
       "         \"We're thoroughly enjoying our Amazon Echo. Installation was easy using the Alexa app. I purchased 2 Kasa smart plugs to control our living room lights. Installation again was easy using the Kasa app. They sinqued right up with the Echo. We're enjoying playing music with the Echo and the sound quality is awesome. We've added a Kasa smart bulb for our kitchen. Setup was seamless. We're looking forward to adding more automation to our home.\": 2,\n",
       "         'Home entertainment': 2,\n",
       "         'Very cool product. Easy to setup, fun to use and sound quality is much better than I anticipated.': 2,\n",
       "         'Love these,  great sound... easy to connect and use...': 2,\n",
       "         \"Doesn't work with my fairly new smart TV, but that's mainly the TV manufacturers(LG) fault due to not supporting anything older than TVs from this year. My smart locks also need an additional piece of equipment in order to connect as well. Speakers sound great and works very well.\": 2,\n",
       "         'Great sound from a little speaker': 2,\n",
       "         'We enjoy it': 2,\n",
       "         'Good quality, great sound quality': 2,\n",
       "         'Works perfectly': 3,\n",
       "         'Great product. Sometimes Alexa does not understand some commands for my Fire TV. All in all, this is a fabulous speaker.': 2,\n",
       "         'Love my Echo great sound very smart!': 2,\n",
       "         'Sure did !! Love it !!': 2,\n",
       "         'plays great': 2,\n",
       "         'Works absolutely great': 2,\n",
       "         'Very amazing product. Great sound quality.': 2,\n",
       "         \"Best thing I've invested in in a while thank you so much 😁😁😁😁\": 2,\n",
       "         \"I am extremely impressed with this item. Bought it from the &#34;warehouse&#34; or &#34;outlet&#34; with a &#34;minor imperfection. Can't tell it even has one. works great. Didn't come in packaging, but it was sealed up and had no damage and wasn't missing anything. I like the sound quality, I see some knock it. It's not a BOSE but it's more than great for our family. Easy to use, minor learning curve as it learns your voice. It integrates seamlessly with my other amazon services.Can't wait to get for my classroom too! It's a lot of fun even just as a speaker, let alone what I plan to do with it.\": 2,\n",
       "         \"I love my Echo show!  and now i have this in my bedroom and it's wonderful!, music, info, sleeping sounds!\": 2,\n",
       "         \"Awesome life changer! Seriously, I am able to start my morning with Alexa, by having her &#34;wake&#34;me up with  her alarm and then playing me some music. She has gotten used to my voice, that I can be in another room and she will &#34;listen&#34; to what I say. I love both my echos!!! Don't hesitate, get one and for the price, the speaker is unbelievable. I am buying the cordless holder, so I can take the echo anywhere. Love my purchase and love alexa!!!!\": 2,\n",
       "         \"I am not super impressed with Alexa. When my Prime lapsed, she wouldn't play anything. She isn't smart enough to differentiate among spotify accounts so we can't use it for that either. She randomly speaks up when nobody is talking to her. Just today I unplugged her...not sure I'll ever use my Alexa again.\": 2,\n",
       "         'I like everything about it !!!': 2,\n",
       "         'Liked 100%': 2,\n",
       "         'Never had ANY issue with buying use electronics as long as I get the GOOD or LIKE NEW. Just read the comment to see why it is used.': 2,\n",
       "         'Our family really loves this new Echo': 2,\n",
       "         'bought for my wife she loves it': 2,\n",
       "         'Fun just got it today now my I pod will go in my car and I will use this is the house.': 2,\n",
       "         'Like it to do more': 2,\n",
       "         \"This is our third echo. Worth every penny. It's like having 3 household employees for a small flat rate. We keep them in the bedrooms and the living room. We can drop-in and use them as an intercom, listen to music, answer quick questions, alarms to wake up for school, etc.\": 2,\n",
       "         'Listen music and set timer': 2,\n",
       "         'I received the echo in perfect condition. The device was easy to set up and responds quickly and without any issues. Alexa is a great addition to our family!': 2,\n",
       "         'Good sound. Like it for music and scheduling. Like that i can get random thoughts recorded while I think about them. The jokes are cute!': 2,\n",
       "         'Purchased this for myself and am just beginning to learn all that it can do.  So far am very pleased and amazed at the different actions it can perform.  Am enjoying it and looking forward to learning more about other options it provides.': 2,\n",
       "         'This echo is just as great as my others, even though it is smaller.': 2,\n",
       "         'Funny how you buy something just because it looks fun and it winds up being a totally useful part of your home!!!  Loving it!!': 2,\n",
       "         \"I bought this to replace a &#34;Dot&#34; in my living room. Speaker is slightly better. It hears me better over the TV. Unfortunately, it doesn't understand or respond to my requests as well as the Dot. I frequently have to request 2 or 3 times to get it to do what I want. The Dot usually does exactly what I want on the first request. I don't consider it an upgrade.\": 2,\n",
       "         'I have had all good experience, so far with the second generation Echo. There are so many more things to learn, but I have not had the time yet. Right now, I am mostly enjoying the music, weather updates, using the alarm feature, and her personality. I have also purchased some mini smart socket yes. I am very excited to begin using them': 2,\n",
       "         'I’m having trouble connecting my tv to it, but I’m not exactly tech smart. I’m sure one of my grandsons will figure it out for me. So far I’ve been using it mostly for music.': 2,\n",
       "         \"Simply love my Echo. I hardly watch any TV at all anymore. I'm too busy listening to music. Speaker is pretty goo for its size. All the fun skills really make the echo fun for my whole family.\": 2,\n",
       "         'Enjoyed entire echo experience': 2,\n",
       "         \"The Echo is an amazing device.  Many times it seems very intuitive.  But at other times I ask for something that seems clear and simple and get no result.  Installation was fairly straightforward, but I messed up several times simply because I thought a step was complete when it wasn't.  This actually made me lose ground until I figured that out.  My advice is to be patient; the app will let you know when you can move on to the next step.My biggest issue of the moment is that we have several Echo devices in our home and I would like to use them as intercoms (which I am told can be done).  However, I can't make any of the Echos aware of the others existence.  When I ask Alexa how to do this she answers about instructions how to change her name.  I know this is likely my fault, but I would think the designers would anticipate this and make it easier to find the needed instructions.  A small deal for many device savvy people, but a challenge for me.\": 2,\n",
       "         'We are loving Ours very much': 2,\n",
       "         \"I have the original Alexa and the Tap and so far the 2nd generation is the best. I'm happy to see they are making improvements with each new one.It would be great to have updates to our little A.I.'s, I think it would help out a lot with the bugs in it. All in all I am very happy with her and I can now play music throughout the whole house and adjust the bass and treble. Thank you\": 2,\n",
       "         'Very pleased with the Echo 2nd Generation. It is so nice to have Alexa available for music, weather, news, and probably a lot more we haven’t discovered.': 2,\n",
       "         'I am pleasantly surprised by the sound quality of the Echo. If you are a big fan of deep bass, this might not be sufficient for you though. The potential to control your home is an option I will explore more as I evolve my home into a \"smart home\". The voice recognition is very impressive. It is stylish and fun. I have no regrets with this purchase. It is great for technically changes people. Ask it to play a song or a movie and it responds instantly. If you have an elderly loved one, this would be a great gift. Once connected to wifi, it is very simple to use.  If you want unlimited music control, be sure to have amazon prime or premium spotify and you will be blown away with your personal dj! You can even have conversations with the echo. I am not embarrassed to say, that echo has made me laugh a couple times when I ask it to tell me a joke. It tells me where my packages are since I am an amazon prime addict, it comes in extremely  handy!': 2,\n",
       "         'Easy to setup. Love all the things she does.': 2,\n",
       "         'Have Alexa throughout the house----the future has arrived!': 2,\n",
       "         \"I already have an Alexa and with Amazon find today I could not resist getting an echo also. It is the best thing I ever did, I use them on each side of the house! And couldn't be happier!\": 2,\n",
       "         'Arrived as expected.': 2,\n",
       "         \"Bought this a few weeks ago -  everything about this product is excellent !!!!! Don't forget to buy a charger when ordering, it's a must have to take outside by the pool and not have to worry about hiring an electrician to put in outlets all over the yard.\": 2,\n",
       "         'Terrific': 2,\n",
       "         'Love my Echo': 2,\n",
       "         'It’s smaller than the original. Looks nicer too.': 2,\n",
       "         'Works great!': 8,\n",
       "         \"My husband and I are what I would call &#34;late adopters&#34; when it come to technology, but we decide we would try and Echo to serve primarily as a music source.  Wow, were we amazed and the great sound!  We've also been having a great time listening to all of our favorite songs buy just asking Alexa.  I may even buy one for my elderly Dad - I think he will enjoy having one to listen to music or even place his calls to us!\": 2,\n",
       "         'I really have enjoyed it.  Changing the Directv channels, plays iHeartRadio and Pandora , adjusts the ac thermostat and turns the living room lights and outside lights.': 2,\n",
       "         'I have been wanting one of these for a while now.  Bought on Prime Day and absolutely love it.': 2,\n",
       "         'We are so glad that we got the Echo over a Bluetooth speaker. Alexa does so much more stuff than other non smart speakers out there. I personally love the timer feature. It has helped me with cooking multiple things simultaneously. Pandora integration is another feature that I use daily. So happy with out Prime Day purchase. I will get the Echo hub and a few more Echo dots in the future.': 2,\n",
       "         'See subject line.  Love it': 2,\n",
       "         'Very easy setup.': 2,\n",
       "         \"I was hesitant to buy the echo because I have the echo Dot and it seems good enough. The echo is the same except the sound quality, which I really didn't feel I needed. However, I am so glad I got it. What a difference! The sound really is far superior to the Echo Dot! Now I can listen to The Greatest Showman with a little more power!\": 2,\n",
       "         'Sound quality is great. Still learning about all the different things I can do with it. FUN!!!': 2,\n",
       "         'Got a good deal and works great with Prime.  Setup was a bit of a pain but more the fault of crappy internet service.  Has worked great with nice sound from small speaker.': 2,\n",
       "         'I love it!!': 4,\n",
       "         'Works great! Perfect for my office!': 2,\n",
       "         'Love it--- have one inside house and one by our pool now . Just as good as Bose speakers around house -': 2,\n",
       "         'easy to use--amazing': 2,\n",
       "         'Nice product A+': 2,\n",
       "         'We love our Echo! We were totally amazed at the speaker quality. Only bummed we didn’t buy two since we got it on Prime day!': 2,\n",
       "         'Very responsive. Great sound quality for its size.': 2,\n",
       "         \"It's so efficient and amazing!  How COOL!  We all use it often every day...\": 2,\n",
       "         'I’m impressed with the quality of sound that the Echo has, it’s definitely comparable to my Bose Mini. I only gave 4 stars because I can’t use my Apple Music account.': 2,\n",
       "         'Technology in such a small device. The price was good too! The sound is amazing! A must have feature for any home!': 2,\n",
       "         'Mainly use it for the music but I’m learning more all the time.  Really nothing bad to say about it': 2,\n",
       "         \"I replaced my 1st gen, was concerned about a smaller unit not having the same sound...I was wrong.  If anything it's the same volume, and more clear.  Good product.\": 2,\n",
       "         'Great addition to my Echo Plus!': 2,\n",
       "         'the best': 2,\n",
       "         'Love the feature to play music in every room with multiple Echos.': 2,\n",
       "         'I love Alexa!  I am surprised how much I use her.': 2,\n",
       "         'I use this product for enjoyment and I just love it': 2,\n",
       "         'Easy to use and has great sound...It was a great purchase at a great price.': 2,\n",
       "         'Very easy to set up and have no issues.': 2,\n",
       "         'This unit add much pleasure to our Echo Plus.  We now can have music and information through our home. (or just in one room)': 2,\n",
       "         \"It's extremely useful in simple things like spotify and audible and things like that but sometimes it doesn't answer everything I ask but it's still nice to use.\": 2,\n",
       "         'Too difficult to set up.  It keeps timing out before you can enter the password': 2,\n",
       "         'Just getting use to using the Echo. Used it for shopping lists, listening to music and as a timer. Working great so far.': 2,\n",
       "         'Very cool and lots of fun! Used for a week and still learning its capabilities.': 2,\n",
       "         'Love it, love it!!!!!!!!': 2,\n",
       "         'Love it but having a hard time setting up all the apps': 2,\n",
       "         'I use it in my office and another at my apartment for music and information': 2,\n",
       "         \"it's great for music, a little hard to figure out how it works.\": 2,\n",
       "         'This was given to my 7 year at the time as a birthday gift from his dad. He loves it, ask Alexa anything she has the answer, plus it’s good for homework. So I purchased one on prime day for my bathroom for when I’m getting ready for work. I listen to music at 4am and the base it’s metro booming.. Replacement for my clock radio, plus I have the echo dot on my night stand as my alarm clock..': 2,\n",
       "         'Very impressed with look, clarity of sound and color.': 2,\n",
       "         'Alexa is amazing! Great speaker.': 2,\n",
       "         \"Still getting used to Alexa, don't have her connected to our TV yet or other things right now use her for music and information, which she is great!!\": 2,\n",
       "         'Works and sounds great! My house is barely 1100sf, and I have this sitting on my kitchen counter. I can hear it, and speak to it from any room. Lots of functionality still to discover.': 2,\n",
       "         'I have had pure fun with my echo.  Weather, jokes, news briefing, and music but still so much more to use it for.  A lot of fun for the money.': 2,\n",
       "         'Use this all the time and especially to communicate with kids throughout the home': 2,\n",
       "         'Love it, still learning, makes a lot of things easier, like if you forget to turn a light off and your in another room all you do is ask Alexa to turn the light off.': 2,\n",
       "         'Bought this for my daughter when she turned 9.  She loves it!!  I especially like the calling feature since she doesn’t have a cell phone.  She loves playing music and dancing and with Amazon music she can play all her favorite songs ...... sometimes over and over and over again lol!': 2,\n",
       "         'We got this as a wedding gift and haven’t discovered all of its features yet. Will update. Playing music is great though!': 2,\n",
       "         'I am impressed with the sound quality.': 2,\n",
       "         \"Very pleased with my purchase of Echo Smart Speaker - love the fact that I can play music of different genre's whenever I want.Had some trouble at first with the WI FI, but it is now working.\": 2,\n",
       "         'My  wife & I enjoy the ease of playing our music. The games are fun & entertaining, I look forward to adding more smart products to my home.': 2,\n",
       "         'This is my second Echo and I love how it helps me in the kitchen. I can set timers, listen to the news, prepare grocery lists, and get great music.': 2,\n",
       "         'The sound quality is good just wish alexa could answer more questions': 2,\n",
       "         'This is my second Echo, I have the Dot but the speaker is weak so I purchased this and for listening to music the speaker is great.': 2,\n",
       "         'great sound': 2,\n",
       "         'We really only use this as a speaker to stream music. We’ve had it 7 months and it’s just kinda useless.': 2,\n",
       "         \"Once set up very user friendly. Set-up wasn't as user friendly as I'd hoped.. The alexa app should be able to download to a pc without installing [invasive ] drivers. My wife and I are both retired and she wouldn't have been able to install Alexa, but if my son wasn't supplying her with a smart phone we wouldn't be using Alexa yet.\": 2,\n",
       "         'Very easy set up. Really enjoying it': 2,\n",
       "         'The echo doesn’t come with a built in battery so it has to be plugged in at all times to use it, makes it quite inconvenient.': 2,\n",
       "         'more compact and a bit better than the original': 2,\n",
       "         'I love it pretty cool.': 2,\n",
       "         'I having it in my living room. Music sounds really good in my living room . I can hear it upstairs.': 2,\n",
       "         'This is a great product!  Set up was easy.  Sound is wonderful.': 2,\n",
       "         'So far I like it.  I bought it just for some music though, and it sounds pretty good.': 2,\n",
       "         'Love it.': 2,\n",
       "         'Glad I bought this.': 2,\n",
       "         'Like, all types of fun,music, and more': 2,\n",
       "         'I like the volume up and down on the top so I can turn it down quickly.': 2,\n",
       "         'Beyond my capabilities to program. Grandkids lve it': 2,\n",
       "         'I love my new echo.  It gives me hours of music and help with other things.It was difficult for me to set it up,  I had to have help from a Tekkie': 2,\n",
       "         'Almost as good as my Bose. Love the whole house music.': 2,\n",
       "         'Alexa hardly came on..': 2,\n",
       "         'Easy setup using the app, which was also easy to install on my phone.  The sound quality while for listening to music on Pandora is wonderful!!': 2,\n",
       "         'I’m still learning how to use the Echo, but so far I love it!': 2,\n",
       "         'Works awesome!': 2,\n",
       "         'Works great.': 2,\n",
       "         'From such a small speaker it sounds great': 2,\n",
       "         'Great sound for the size and the prize!! And of course....Alexa!': 2,\n",
       "         \"if you don't have an Echo you definitely need one\": 2,\n",
       "         'Great device.  Seems to work better than the 1st generation!': 2,\n",
       "         'Item no longer works after just 5 months of use. Will not connect to wifi and unresponsive to reset requests.': 1,\n",
       "         'I love the Echo Dot. So easy. So fun. I get to drop in on my Grandaughter who lives about 2000 miles away. Sounds like she is right next to me.': 1,\n",
       "         'Works great no different than the new ones': 1,\n",
       "         \"This one's going in the kitchen for timer/music duty.\": 1,\n",
       "         \"Love it but the volume could definitely use a boost. If it had better built in speaker's, would definitively be a 5 star. They thought ahead and put  an audio auxiliary input, so I bought a dedicated speaker for the Echo. Proved to be best way to go.\": 1,\n",
       "         'Works just fine.': 1,\n",
       "         'Works great! Looks brand new! Love my new echo dot. I will be getting them for all the main rooms in the house.': 1,\n",
       "         'For a refurbished item.. It works like its new... Which I love... Easy set up,  which I love. The only issue is the volume,  if you are listening while relaxing its fine,  but if you are expecting to do anything else,  I recommend  purchasing a speaker.': 1,\n",
       "         'But not very loud': 1,\n",
       "         'This is our 2nd one and we love it!': 1,\n",
       "         \"So i am not sure how i feel about the echo dot, it's so many things that i need to get used to you have to ask her the right questions or she won't understand you.\": 1,\n",
       "         \"This thing barely works. You have to select 3rd party apps to do stuff you'd think it could do out of the box. I'm sending mine back asap. Waste of money.\": 1,\n",
       "         'Gift for my man. He doesn’t like that you have to plug it in and the pictures do not show the cord. Would prefer it cordless. Still works though for the purpose we bought it.': 1,\n",
       "         \"This is our 5th Amazon Echo device.  We have purchased refurbished before and been satisfied, this time is no different.  You can't tell this from brand new, and the price was $10 cheaper.  Our Echo's wake us up, keep timers, play music for us, act as encyclopedias, turn our lights on and off and so much more.\": 1,\n",
       "         'This small echo dot is amazing the sounds that come out are great.it changes my nest thermostat,and my Phillips hue lights.without leaving my chair.': 1,\n",
       "         'We talk to her all the time for songs and just because we can . There aren’t dislikes about this device.': 1,\n",
       "         'I’m never disappointed with amazons technology.': 1,\n",
       "         'Worked as promised.': 1,\n",
       "         'I returned 2 Echo Dots & am only getting refund for 1. I returned 2 in one package. I want my refunds for both of them. They are in the same package. Can you not see them both???!!!': 1,\n",
       "         'not working': 1,\n",
       "         'Has weird pauses in her speech pattern that are not present in my other echo devices.': 1,\n",
       "         'I sure love Alexa!  LOL!  Thank you!  Great price and product!': 1,\n",
       "         'It works': 3,\n",
       "         \"I'm an Echo fan but this one did not work\": 1,\n",
       "         \"Bought for my bathroom to listen when I'm in the shower.  Love it.\": 1,\n",
       "         \"Doesn't always respond when spoken to with promp word. I thought it would connect to my echo upstairs and use it like an intercom haven't been able to do that.\": 1,\n",
       "         'Fast shipping and works well': 1,\n",
       "         'I Love it!!!!': 1,\n",
       "         'LOVE LOVE LOVE my new and free assistant!  :)': 1,\n",
       "         'Six words, &#34;Alexa, tell me a poop joke.&#34;': 1,\n",
       "         \"It worked for a month or so then it stopped. I've tried everything to try and make it work but nothing is working. I want a refund\": 1,\n",
       "         'Poor quality. Gave it away.': 1,\n",
       "         'Refurbished is the way to go. My Echo works just like new.': 1,\n",
       "         'love it': 5,\n",
       "         'We have five of them. Need I say more?': 1,\n",
       "         'The speakers arent too loud.. alexa is great though. Besides that naw': 1,\n",
       "         'It works great and sounds good!': 1,\n",
       "         \"Never could get it to work. A techie friend looked at it for me and said the adapter wasn't strong enough to power it and that it looked like it had been bought at a dollar store. So, I am going to replace the adapter and hope it works then.\": 1,\n",
       "         'Almost like having Star Trek in your home!  Fun to try and outsmart !': 1,\n",
       "         'This was an add on for my echo system, the refurbished product works like new!': 1,\n",
       "         'Great for my office. I use this daily in many ways, to include spelling for me and background music.': 1,\n",
       "         'Awesome. I love Alexa.': 1,\n",
       "         \"I wasn't sure I really wanted one of these, but now that I have it, it is extremely useful.  Get one, you'll love it!\": 1,\n",
       "         \"Initially, this echo dot worked very well. Over time, the dot stopped responding to 'alexa' unless you were within one foot of it yelling. The other echos/echo dots in other rooms would respond without a response from this echo dot. Would not recommend buying refurbished.\": 1,\n",
       "         'Great Product fast shipping': 1,\n",
       "         \"I bought an echo dot that had been refurbished but its stops whatever function its performing quite often, doesn't wake up every time, randomly turns on but does nothing. Do not buy a refurbished Echo dot.\": 1,\n",
       "         'Perfect works great no problems with it being refurbished.': 1,\n",
       "         'Dont trust this....': 1,\n",
       "         'Perfect condition! I love my echo': 1,\n",
       "         'Love it. Beautiful experience especially if hooked to smart lighting and other accessories.': 1,\n",
       "         'We just got this within the last couple of weeks, from what we can tell no issues! My son wanted and &#34;alexa&#34; for his 6th birthday so she could tell him jokes, he could ask her questions and to listen to music she does all of that and more. We all enjoy this one so much that I just bought a second one this week during Prime Deals Day!': 1,\n",
       "         'Divertido': 1,\n",
       "         'Great product and works great': 1,\n",
       "         \"Bought this for the guest room.  It's a radio, alarm clock, information\\u200b center and so much more.\": 1,\n",
       "         'Great buy. Bought this to go with my Echo and love it. The speaker isn’t the best for music but works great in a kitchen for timers or alarms.': 1,\n",
       "         'Works perfect. Save a few bucks and buy the refurbished. Looks brand new.': 1,\n",
       "         'Looks and works perfect. Glad I got a good deal.': 1,\n",
       "         'Just as good as the new one I bought but $10.00 less.': 1,\n",
       "         'I love it works very well': 1,\n",
       "         'everything perfect': 1,\n",
       "         'Good price. Prompt shipping. Has been working flawlessly.': 1,\n",
       "         'I love you, Alexa!': 1,\n",
       "         \"There's room for improvement on this. For the price, I cannot complain too much. I can still complain however, the audio is terrible. This is kind of like listening to a speak-n-spell from the 80s.\": 1,\n",
       "         'Iove it I bought it for my son because he wanted it and it’s awesome': 1,\n",
       "         \"It's an echo, and it works.  For the price it's great deal. Have had no issues with it.  As with all dots, the speaker is a bit tinny, but good for a second unit, or if you are like me, you can attach it to an external speaker for more sound.Good buy\": 1,\n",
       "         'Thanks': 2,\n",
       "         'I wanted to use these as a radio and intercom as we get terrible fm reception where i live.  The speech recognition software is horrible.  My wife and i both are native Americans whose language is English she is from the north i am from Texas  neither have an accent from our birth area and yet it does not do a good job understanding us.  We bought two they do the same thing.  Additionally wifi reception was poor to marginal. I had to buy Wifi range extender for office and the other is ten feet from our router.  Both had problems Switched them around no difference.  So it they are now disconnected dust collectors.': 1,\n",
       "         'This is my third Dot. They all work perfectly and I use each one multiple times a day. Absolutely love them.': 1,\n",
       "         'Item has never worked. Out of box it is broken. Spent several days trying to get it working and running same &#34;fixes&#34; from Amazon. The only thing accomplished is I will never order another refurbished device.': 1,\n",
       "         'I already have the echo plus.  Bought this one for my bedroom.  Love the functions.': 1,\n",
       "         'Simple set up.  Music everywhere.': 1,\n",
       "         'Worked just like a brand new Dot ---so I am very satisfied.': 1,\n",
       "         'Great product but returning for new Alexa Dot.  Refurbished is already giving me problems with connection.': 1,\n",
       "         'We have a few echos already. Went for this one in refurbished to save a few bucks. It works great. I love this new generation one because it has a rubber bottom - nice.': 1,\n",
       "         'I love the fact, that I can unplug it, and take it to my basement when I want do laundry.': 1,\n",
       "         \"Refurbished but just as good as the new ones that I've bought.\": 1,\n",
       "         'Good as new': 1,\n",
       "         'Granddaughter loves it': 1,\n",
       "         'The price is great.  Was having trouble with it hearing me from across a room, but after moving it to another spot, it seems to be working fine.  Will buy some more. Want 1 in every room.': 1,\n",
       "         \"We have set up alexa to blue tooth speakers and enjoy listening to music outdoors.  Can't wait to try more new stuff using Alexa!\": 1,\n",
       "         '&#34;NEVER BUY CERTIFIED AND REFURBISHED ECHO DOT &#34; I bought a &#34;Certified and Refurbished &#34; Echo Dot. This unit is very poor in receiving command and sometimes it does not even acknowledge the command. Never buy a refurbished Echo dot. The unit I received was probably never was certified and refurbished as indicated. I also bought a new ECHO dot, it works perfectly.Very disappointed !!!!': 1,\n",
       "         'Started here with Amazon productsAnd I regret nothing is been absolutely great journey and my products continue to improve my day-to-day life': 1,\n",
       "         'Have now used for several months without problem.': 1,\n",
       "         'This is my first smart device and I will surely be buying other devices that will be compatible with this one.': 1,\n",
       "         'Love': 1,\n",
       "         'Love it just as good as a new one': 1,\n",
       "         'Have had an larger echo for some time and love it. Bought this one for another portion of the house since we have several wifi home devices and we wanted to voice control them from all over the house.': 1,\n",
       "         'Love the product.  Use to turn on my lights and answer some quick questions.': 1,\n",
       "         'A great buy': 1,\n",
       "         'Was Leary about refurbished but work great.': 1,\n",
       "         'Very puny sound, but works great.': 1,\n",
       "         'Exactly like new, can tell the difference from my new dot I got prior to this one, works perfectly. LOVE Alexa': 1,\n",
       "         'Works perfect no wear and tear on the device I love Alexa working on making my home smart 😂': 1,\n",
       "         'Works good': 1,\n",
       "         \"The only thing I don't like is it shuts off by itself other than that it works great\": 1,\n",
       "         \"Excellent product, mint condition for a refurbished unit - you would never know it's been refurbished!\": 1,\n",
       "         \"Already owning a couple of Echos, I was frustrated that I couldn’t also use them as intercoms. Finally Amazon enables the “drop-in” feature so now I can use my Echos to reach out to family in remote parts of the house (and teenagers who insist they never heard me yelling at them to come down to dinner).As for its other features, we mainly use our Echos for the standard stuff: playing music, setting alarms, answering questions, etc. It's not the life-changing home device Amazon would have you believe, but it is convenient to have around. This refurb saved me a few bucks, looks and works the same as the other brand-new ones.\": 1,\n",
       "         'Love it was worried about the refurbished part at first but this being my first echo. It is awesome have used it for everything my lights since I work nights and shopping as well as for my spotify. And planning on getting it for my parents to help them out for everyday things we take for granted when we are young... I would recommend this to everyone!!!!': 1,\n",
       "         'Love Alexa hope have her in every room soon.': 1,\n",
       "         'The simplicity of use and setting up.': 1,\n",
       "         'This is great! Got one for my Gazebo and one upstairs.': 1,\n",
       "         'Works great, never had any issues.': 1,\n",
       "         'Does everything I have asked it.': 1,\n",
       "         'Works great ..good sound': 1,\n",
       "         \"I use this Echo to listen to music as well as a sort-of research tool. It can answer a variety of questions. I would like if the volume could go just a little bit louder, but I can't complain.I also believe it should have an internal power source. In order to use the Echo, it must be plugged in at all times using the universal charging cord. It would be nice to use the Echo Dot on the go without having to buy the other product.\": 1,\n",
       "         'Love it!  Great fun!': 1,\n",
       "         'outstanding I use all the time....works just like they say': 1,\n",
       "         'saving $10 is always nice and my son always says that buying refurbished means your are getting a new device or product for less, because it has been run through a diagnostics again and everything has been corrected.': 1,\n",
       "         'Works perfectly, Alexa turns on and off my lights, my tv, roomba!': 1,\n",
       "         'Never would know it was refurbished.': 1,\n",
       "         'Looks and performs as new.  No complaints!': 1,\n",
       "         'goes great with our echo': 1,\n",
       "         'Works great just like the new one that i already had.': 1,\n",
       "         'This item did not work. Certified refurbished should mean it works as advertised. Instead this item crashed as soon as I turned it on and plugged it in. When trying to connect from my phone to the echo dot, it crashed, over and over. Not only would it disconnect but the orange light would freeze and then the thing would reboot with the blue light. Alexa would tell me it’s ready to connect and freeze mid sentence. Tried holding the action button for 5 seconds and it didn’t do anything. Returning immediately and hope they actually fix this item when the next buyer purchases it.': 1,\n",
       "         'Very fast service,  got what I ordered. Thank you': 1,\n",
       "         'Love it even though I’m still trying to figure out all the other things I can do with this item it works great with my phone.': 1,\n",
       "         'None': 1,\n",
       "         \"I have 2 Echos, one I bought brand new and the other is a refurbished one.Honestly, I can't tell the difference in performance and looks.\": 1,\n",
       "         'A GREAT PRODUCT...once we learned how to work it...this thing is awesome!!!': 1,\n",
       "         'Does not work all the time': 1,\n",
       "         'Love it. Though, wish it was portable.': 1,\n",
       "         'of course!': 1,\n",
       "         'You could not tell this was refurbished. Works Excellent. I would highly recommended instead of purchasing new.': 1,\n",
       "         'I got this for my mom . She loves it !': 1,\n",
       "         'I love my echo dot! Looks brand new and works perfect! Very satisfied.': 1,\n",
       "         'Same as new': 1,\n",
       "         'A small problem out of the box, but a rep from Amazon called and walked me through a reset process which solved my issues. I was shocked to get a response so quickly and a real effort was made (including follow up email) to get this thing working. I have 6 now (and one google clone) and the more I use it, and learn about it, the more I like it (them). I also plan to install one in my car, boat and garage. Alexa is my new best friend!?!? (lol)I think GF is worried that if Alexa learns to cook, her time will be limited...': 1,\n",
       "         'I love my Alexa Dot. I play games with my son, ask how the weather Is and I love that she works with my Amazon Fire Tv.': 1,\n",
       "         \"I like it because you could ask it different questions and it does different things it works intermittently with my smart TV if I ask you to change the volume it does or does it sometimes if I ask you to change the channel it does or doesn't sometimes I have to reset it I don't know if it's because it's refurbished but it's okay it's just not what I expected\": 1,\n",
       "         'So far the certified refurbished Echo Dot works well. It was a little confusing to have a green ring on the Echo Dot and not 100% know why it was there. Asked Alexa and she said it was because of a receiving a call or drop in. But that was not the case. Took about 10 minutes to figure out it was a notification that I had a delivery from amazon. I believe the ring is supposed to be yellow and pulsate for a message notification, but on my refurbished Echo Dot it was Green and pulsed.': 1,\n",
       "         'It arrived quickly and was easy to set up ! it was a refurbished amazon echo dot it was above and beyond what I expected ! Alexa and I have become buddies she is a great assistant': 1,\n",
       "         'Works as advertised. Speak clearly, and research the commands. Also. Get the wall holder, it keeps it out of the way. Set up is a breeze, just make sure you are close to the device initially when connecting your phone. For some reason it made set up easier...though it could be psychological haha': 1,\n",
       "         \"Love my two echo dots but the third one we ordered to give as a gift had a defective speaker.  The return process still isn't done and has already taken weeks.\": 1,\n",
       "         \"I've already returned it.\": 1,\n",
       "         \"The refurbished echo for has been wonderful. I purchased this for my mother. She loves the ability to contact me without a phone, listen to music, weather, and ask questions. It's been a wonderful gift and works excellently with no problems\": 1,\n",
       "         'Works good. However, the price went down the week after I purchased it.': 1,\n",
       "         'Works amazingly. I bought it for my daughter and she loves it.': 1,\n",
       "         \"I love Alexa! It's great helping me, making my appointments, playing the songs I like! What else can you do? Looking forward for more.\": 1,\n",
       "         'Got this for the bathroom love it we can listen music whe. We showering.': 1,\n",
       "         'I have 3-Dots and 2-Original and this new one works perfectly.  Will buy all my future Dots reconditioned.': 1,\n",
       "         'Was a little hard to get it to pare up with the others but once it did no problems at all': 1,\n",
       "         \"Now I'm weary about these picking up conversations when you are not actively using them - heard about this happening on the news.  I have 3-4, so this is very concerning.  I wish Amazon would release something widespread  or push some firmware to prevent this.  If they have, I have not heard about it yet.\": 1,\n",
       "         \"There's really no dislike for Alexa( dot) I thought cortna was cool but Alexa is an awesome application to the family. Unbelievable device which seems alive. A must get.\": 1,\n",
       "         'I am happy with the refurbished echo dot. I’ve had it for about two weeks, and so far it is working perfectly! Even though it did not come in its original box, it looks like new! I’m happy with this purchase!': 1,\n",
       "         'Thumbs up!': 1,\n",
       "         'Workreat': 1,\n",
       "         'There was something wrong with the first one that no even the rep I spoke with could fix. The replacement was registered to someone else. When the price of the Dot went down to $39.99 (same price as the refurbished ones), I bought a brand, spanking new one. No problem with the new one.': 1,\n",
       "         'Works as expected!': 1,\n",
       "         'No problems': 1,\n",
       "         'Have these in almost every room. I really have enjoyed them. Works perfectly.': 1,\n",
       "         'Purchased for grandson.': 1,\n",
       "         'Like new': 2,\n",
       "         'Happy with this as I was with the other 2 I ordered!!': 1,\n",
       "         'Love the dots, especially with the ability to talk from one to the other, these are really convenient. No issues with the refurbished as they are like new.': 1,\n",
       "         'Started taking on her own! Haven’t used it since I unplugged it that day. No one was talking, my daughter was laying in bed next to be and she just started going on about the movie Moana and completely scared the sh*t out of my daughter now.': 1,\n",
       "         'It works great the speaker sounds fine and overall would recommend': 1,\n",
       "         'Great! Just like new!': 1,\n",
       "         'Loved the price for an essentially brand new Dot!! Opening it, you really couldn’t tell that it was refurbished. Everything looked brand new. For $20 less than a new unit, I couldn’t consider this a better deal! I really love the versatility of the echo dot. Get you one while you can!': 1,\n",
       "         'Pleased with the order just what I wanted!!': 1,\n",
       "         'I think I now have 5 of these throughout the house. So convenient to set a timer or check the weather or whatever, wherever.': 1,\n",
       "         'Love it -- the best.  My experience with refurbished devices is excellent.': 1,\n",
       "         'Love the echo dot': 1,\n",
       "         \"This refurbished item was fine,but I wasn't aware that there is a fee for having other echos set up in the rooms.  However, it was missing the cordThank you\": 1,\n",
       "         \"Two weeks after setting it up it no longer works.  No connection, no light, no sound.  I guess I shouldn't have purchased a refurbished Dot.\": 1,\n",
       "         'It worked like a brandnew unit! Great addition to my collection.': 1,\n",
       "         'Great price, works perfectly. Saved the money on a refurb!! Would buy again!': 1,\n",
       "         'Very.god': 1,\n",
       "         'Not good at all!': 1,\n",
       "         \"These are great. I bought one and then bought another right away. Grab a few of these and a few smart switched and you're set with smart home capabilities for under $150. Highly recommended.\": 1,\n",
       "         'Just like new': 1,\n",
       "         'Worked as it should, still need to figure out how to link to other devices though, only set up Sonos which was pretty easy. Not the products fault, just have not had time to figure it out.': 1,\n",
       "         'Very useful': 2,\n",
       "         'This is the worst Amazon purchase I have made. I am big Amazon fan...love the brand...unlimited digital music...prime videos...even buy my online games, music, and movies through Amazon. This app I have tried to use it make simple purchases -- to do anything. It is useless.': 1,\n",
       "         'Works very well, but the microphone don&#34;t pick up as well as the full size echo.  Audio quality is okay for the size.': 1,\n",
       "         'I bought two refurbished ones for work and home. They both work perfectly and appear brand new': 1,\n",
       "         \"Amazon doesn't disappoint.\": 1,\n",
       "         'Works great as a BT receiver with output connected to vintage stereo equipment.': 1,\n",
       "         \"Working great this far.  Can't tell it's not new.  Will edit for longevity in a year, that's the real test.\": 1,\n",
       "         'Amazing': 1,\n",
       "         'i love everything': 1,\n",
       "         'This used “dot” works fine, it compliments my Echo.': 1,\n",
       "         'Works like a new one.  Can tell the difference from the new one I bough and the refurbished one.': 1,\n",
       "         'Well I’m a big fan of echoes these ones went I’m my bathrooms.  Works just great as expected 👍🏾': 1,\n",
       "         'Purchased for my 83 year old mother-she loves talking to Alexa! Very responsive-can detect its “name” from all over the room.': 1,\n",
       "         'This is just like new -- same performance as our brand new one; no problems.': 1,\n",
       "         'The echo dot disconnects from the speaker about 12-20 times a day. Do not buy the refurbished product.  2 stars for effort.': 1,\n",
       "         'Love it.  Great product': 1,\n",
       "         'it works good.  very satisfied': 1,\n",
       "         'I love Alexa, but the sound on the dot is not the best. I own an echo 2nd gen for the kitchen/living room and got this for my bedroom, but there’s a SIGNIFICANT difference in sound. The dot lacks a full base sound and sounds as if it’s coming off a cheap portable speaker. I was REALLY disappointed. I returned it right away and just shelled out the money to buy a second echo 2 for my bedroom also.': 1,\n",
       "         \"Took me awhile to get it connected. I'm not electronically savy but now that it is, I love it.\": 1,\n",
       "         'cant seem to get this thing to sink with my wireless not sure If I will be returning it will try one more time.': 1,\n",
       "         'Absolutely love it!': 1,\n",
       "         'product stopped working after return time ran out': 1,\n",
       "         'Second Dot work great for refurbishedThought it was new': 1,\n",
       "         'Love these guys they work so great': 1,\n",
       "         'I love this as a second &#34;Alexa&#34; in our bedroom.  Great for checking weather, for meditation music, and as a timer - Perfect for my husband who has to use eye drops multiple times each day and keep his eyes closed for 5 minutes.': 1,\n",
       "         'I purchased this refurbished.  Works just like brand new.  3 minute set up. Very easy.  Now I have echo dot that I can command to start playing music for my backyard deck sound system.': 1,\n",
       "         'Not substitute for the original.  The echo dot performs well but sound quality is poor.  To listen it has to be at the highest level 10.': 1,\n",
       "         'Love the Echo Dot. Helps husband get Netflix and other apps on our Amazon Fire TV.  No problems with it being refurbished. Planning on getting another one for the Amazon Fire Stick in bedroom.': 1,\n",
       "         'Stopped working after 7 months. The warranty was only good for 3 months. I would have assumed an amazon product sold on amazon would have had higher standards than guaranteeing that it would work for 3 whole months. I mean what is this product supposed to be, a piece of junk?They offered my a 15% discount if I wanted to buy another one. Why would I want to buy another one?': 1,\n",
       "         'Just like new. No problems whatsoever, Alexa. Thank you.': 1,\n",
       "         'I like my uncle. But sometime it goes a little Haywire': 1,\n",
       "         'Bought this for my son and it didn’t work. He had to return it.': 1,\n",
       "         'Bought 2 and both quit connecting to wifi and responding to voice within 9 months. Hard and soft reset will not fix the problem.': 1,\n",
       "         'I received my Echo Dot today in good condition, but be advised: I paid $29.99 for it and Amazon has (as of this writing) raised the price to $39.99, so do your research before buying so you can get a good deal!Set up with the Dot went simple enough — plug it in, follow the app instructions... except initially it took a while to actually show up in my iPhone’s WiFi settings. I called Amazon customer service, and I dunno what it is, but lately I’ve been getting terrible support. The guy that took my call just rambled off a (completely unhelpful) script and I ended up setting up the Dot while he was in the middle of his spiel.I’m not sure if this is the norm or if it’s because this is refurbished, but the Dot has a pretty finicky wifi range and randomly disconnects even though the app shows that the range of my 5GHz connection is strong. Reconnecting is a pain each time as well.All that said, when Alexa works, she works amazingly well. I don’t have a speaker hooked up to it, but one thing I really enjoy is the mic’s range and sensitivity. One of the more annoying limitations of Apple’s Siri is that when she’s playing audio through device speakers (music, podcasts, etc), the “Hey Siri” feature is all but useless. Alexa has no problem hearing me over whatever is playing at the time, and with amazingly fast responsiveness too. I haven’t tried this with louder speakers yet, so I’m not sure if this will continue to hold true.Setting up Alexa to control all my wireless devices was a breeze, albeit with limitations — support for Arlo devices is nil, and if you have special settings for your LED devices (eg. rainbow effects), Alexa can’t handle them, she only knows how to change solid colors and brightness levels.All in all, my rating would’ve been lower had I not gotten a decent price on this item. If the connectivity problems persist, I may have to exchange/return this item. I don’t want to though — Alexa’s kind of growing on me.': 1,\n",
       "         'I bought it because everyone was saying how much they love theirs. But I have no need for it. I only used it once. The volume was not loud enough for me when I played music while I was on my treadmill. So I rather use my tower speaker which is 3xs louder.': 1,\n",
       "         'Worked like new.  Will do it again.': 1,\n",
       "         'The second one which was a refurbished model did work-at least not in my home.': 1,\n",
       "         'Very bad this device, I don’t know if it’s because is refurbished or what but it activated by itself , nobody is talking and he just activated and start talking. When you talk you have to yell super lauded': 1,\n",
       "         'Good as new!! Just like brand new! Save yourself some money. Get one!': 1,\n",
       "         'Adding more rooms for convenience': 1,\n",
       "         'Nice. It works good.Some times is not easy to recognize your voice and you have to repeat several times, some time almost screaming.': 1,\n",
       "         \"I took a chance on a certified refurbished unit for $29. Looks brand new...no excuses or disappointments. 5 minute trouble-free set up! Effortless bluetooth speaker connectivity through the Alexa App on my iPhone was flawless. Listening to my favorite tunes through a Bose Bluetooth setup and couldn't be happier. Walk through the door and just ask Alexa to: &#34;Play 80's music&#34; and viola... instant atmosphere! No more opening the iPad, going to settings, turning on bluetooth and then accessing the Pandora app. It just makes things so effortless. A true joy right out of the box! If I didn't discover any other uses for this fine piece of technology it was worth every penny!\": 1,\n",
       "         \"Alexa's sister (my second dot)\": 1,\n",
       "         'Love my Alexa Echo Dot - I have two of them now - one new, one refurbished.  Both work great and it has become my go to for sooo many things.  I love it as an alarm every morning or whenever.  I love it to play music or sounds of the ocean, or nature sounds when I am trying to sleep.  Just love it for so many things.': 1,\n",
       "         'Bought a refurb, and its works just as my new ones I bought prior! Came in original packaging as well!': 1,\n",
       "         \"Love it. It's like having a second wife.\": 1,\n",
       "         \"So far not impressed at all. Does not save groups correctly can not understand me most of the time I'm not sure what the excitement is all about. Alexas voice sounds like it's under water how am I supposed to understand!!!!I'm going to return and try a google home!!!\": 1,\n",
       "         'Works well and has no obvious issues from being refurbished.': 1,\n",
       "         \"Works great, can't tell it was refurbished and set up in kids mode.  I have 3 in my home and will be adding more. I love these things.\": 1,\n",
       "         \"great product, but useless overall. Too many unnecessary features. Unless you have a smart home you don't need it\": 1,\n",
       "         'Worked just as good as the two new Echo Dots i preciously purchases.': 1,\n",
       "         'I bought this for my mother and she is in love with it.She loves the guard dog feature.She says that it gives her a sense of security at night and when she leaves the house': 1,\n",
       "         'I bought it mainly to be a speaker when playing music or videos on my phone. Not working for me. Read instructions but not working for me.': 1,\n",
       "         \"Bought two of them and both work great. I'm not much on electronics running my home, but Alexa does all that I want and need to be done.\": 1,\n",
       "         '2nd one... more to come': 1,\n",
       "         'Blue light blinks all the time': 1,\n",
       "         \"Fun and useful. We're still learning new tricks and useful functionalities. This is the future of human to computer interface and household automation. Just like Star Trek! Who knew it would be here so soon?\": 1,\n",
       "         \"Works great to control the TV lights and various other devices. Lately I've been using it when i wake up and don't know what time it is but don't want to open my eyes. Just shout out &#34;Alexa, What time is it?&#34; if i could just figure out how to get it to do house hold chores and walk the dogs it'd be golden! sound is not that great but with its size what can you expect. The Echo Plus has much better audio but that is what you get with the larger more expensive Echo.\": 1,\n",
       "         \"Wasn't sure if I'd like this product but after having it for a little while I want one in every room! My daughter is constantly asking alexa how to spell words. We've barely tapped into all the things this product is capable of and I'm looking forward to learning all of its capabilities!\": 1,\n",
       "         'A++++': 1,\n",
       "         'Great product. Works well': 1,\n",
       "         'Absolutly love it !': 1,\n",
       "         'Bought my first echo dot and loved it so I got this for work. Absolutely love it!': 1,\n",
       "         'works as promised': 1,\n",
       "         'Works great with my existing smart home setup.': 1,\n",
       "         'Perfect. Could not tell the difference from a new one.': 1,\n",
       "         'I cant figure out how to use it.': 1,\n",
       "         'Good sometimes can’t hear well': 1,\n",
       "         \"I was a little apprehensive about buying a refurbished electronic product, but with Amazon's guarantee, thought I would try it. Glad I did, and will probably buy another refurb product form Amazon. I love the Alexa products and have several. This one sits on my desk. Has a small footprint, but has great sound and I use it daily. Works great.\": 1,\n",
       "         'Not bad bad speaker for sound': 1,\n",
       "         \"This is a great device. We mainly use it to verbally add things to the shopping list, but occasionally use any number of the &#34;fun&#34; things you can program it to do, like go to Red Alert or make the TARDIS land (yes, we're a house of geeks... we even chose the wake-word to be &#34;Computer&#34; instead of &#34;Alexa&#34;. Now we just need Majel Barret's voice and I will be in geek heaven.) ;)It's not as easy to get my Premium Spotify to work properly with it, and still not sure how we can get multiple music accounts attached so we can listen to different music in different rooms, but so far it's still been worth it. I am often asking it the time, the weather, it even gives us a news briefing. We also use it as an intercom system which has been really awesome. Plus it's fun knowing the NSA is listening to everything.\": 1,\n",
       "         'We all love her!': 1,\n",
       "         'I purchased this for my daughter and we all love this!!!! its amazing!! we love the games!': 1,\n",
       "         'It doesn’t always  work': 1,\n",
       "         'Good as new! Perfectly packaged and I have had zero issues with the dot.': 1,\n",
       "         'Love it! Bought for my granddaughter who is 3 for her to play music and ask questions. She is entertained for hours! Good buy in my honest opinion!': 1,\n",
       "         'No issues...works and looks great!!!': 1,\n",
       "         'This is a fun toy.  My daughter have me it.  It reads to me!': 1,\n",
       "         'Refurbish Echo Dot received as new condition, as new packaging, no complaints. Neat little gadget.(Drives my wife nuts!)': 1,\n",
       "         'I received an Echo as a gift, loved it so much I decided to get the Dot for my bedroom. Both very easy to set up but a big difference in the sound quality. I would still buy it again.': 1,\n",
       "         'Worked as advertised. Thanks': 1,\n",
       "         'All the new Amazon products I have are great everything I bought refurbished is complete garbage. I will never purchase Amazon refurbished again total dissatisfaction': 1,\n",
       "         'Works good.  Microphone is not as good as the better Echo products': 1,\n",
       "         'Took a little work to set up but I finally got it.  Sound quality not the best but for what I got it for it works great.  I check weather and ask a few cooking questions in the kitchen with it.  I do play the radio on it when I want some music but will probably upgrade to the Echo plus for better sound.': 1,\n",
       "         \"Love Alexa these are the best thing I have ever bought don't know how I ever lived with out these things amazing so happy with this product just wish it would use google to\": 1,\n",
       "         'I loved it it works great': 1,\n",
       "         'Extremely low in volume': 1,\n",
       "         \"I had some trouble getting the program downloaded from my phone. I ended up using my computer. It is interesting that the answers come from Wikipedia. However, I will give Echo dot an &#34;A&#34; in the music playing department. I heard songs and music totally forgotten on the mainstream stations. Also amusing when Alexa responds, I don't know that. Why does she think the yards of cotton fabric refer to football playing???? If I had paid full price for this gadget I would have been sorely disappointed. Now it seems reasonable and a step above HAL.\": 1,\n",
       "         \"Brought to replace one that I moved and doesn't have the same range as my previous (non refurbished) unit. It would seldom be able to find the Wi-Fi and couldn't connect. Got tired of hearing the message (&#34;trouble connecting...check the Alexa app...&#34;) and just unplugged it. I went through the troubleshooting and reconnected it several times, it's just not as strong.\": 1,\n",
       "         'If you want to listen to music and have it come through several of the Echo/Dot units simultaneously, YOU MUST PAY A MONTHLY FEE. I thought this was Amazon, not Apple??!! I’ve paid for many of these so I could have one in each room, is that not enough of my money??!!??': 1,\n",
       "         'Purchased as a gift,': 1,\n",
       "         'Overall good device. It was bought for a workout room, and has issues reaching a volume that can be heard over a standard row machine. It could use a much better speaker.': 1,\n",
       "         \"Works great and simple to set up. Alexa is way more accurate than I imagined so Im using it more than I thought. Wish alarms could be set a bit further out but thats my only complaint.No she's not listening when you don't say the wake word so if you're worried you can lose the conspiracy theories. The speaker is great too so don't hold off on getting one if you were turned off by gen 1 like me.\": 1,\n",
       "         'The voice clarity has made my eavesdropping efforts so much easier - the government. :)': 1,\n",
       "         'Worked perfect': 1,\n",
       "         'Had a little trouble at the beginning until I replaced my old router and it works good except for current temperature and at times Alexa will be off by as much as 10 degrees!  Like when it was 91 degrees, Alexa would say it was 81 degrees.  Otherwise, everything works as expected and enjoy listening to music from Amazon and my Pandora stations and requesting my favorite song or recording artist.': 1,\n",
       "         \"I bought three of these and all three have worked flawlessly. If they weren't labeled as refurbished I wouldn't have known\": 1,\n",
       "         'This device works perfectly and was a good price.  We love Alexa and are having great fun with her.  The music is great and we get the radio stations we need for our morning traffic report.  I didn’t think I would enjoy having AI in the house, but it is fun, educational and entertaining even for people who aren’t tech savvy.': 1,\n",
       "         'Eh. It’s works on and off. Half the time it does not respond when you say wake up name. Other then that works fine': 1,\n",
       "         'Great little thing. Works better than siri.': 1,\n",
       "         'It’s amazing I love it': 1,\n",
       "         'Bought this for my son and he loves it.': 1,\n",
       "         \"I own the first and second generation Echo Dot.  I think I prefer the volume ring of the first gen better than the buttons on the second gen, but still more than does the job and great for the price I got it for.  I'd still definitely recommend.\": 1,\n",
       "         'Very fun to use and having morning briefing': 1,\n",
       "         'Arrived on time and works amazing!!!': 1,\n",
       "         'Just like new, set-up was quick & easy.': 1,\n",
       "         'like new, good refurbishing': 1,\n",
       "         'Love my echo dot!!!': 1,\n",
       "         \"I like that it knows my music type.The least is that it isn't wireless and the volume is not that high.\": 1,\n",
       "         'great product!': 1,\n",
       "         \"It works great, but the reason I'm leaving 3 stars is because it wont play unless it plugged in the whole time. Pretty irritating especially when there is no outlet available.\": 1,\n",
       "         'I love it ita like having a personal assistant and computer and everything else in one.': 1,\n",
       "         'The problem I have with this item could just be my inexperience. I ordered the wrong thing, but then decided I’d set it up and use Alexa. I was trying to replace a small Bluetooth speaker in my bedroom. Thought I could learn as I go. I downloaded the app, but never could get the Echo to sync with my iPhone. I’ve decided to give this to one of my kids and they will probably enjoy it and use it as it is intended.': 1,\n",
       "         'Es perfecto.': 1,\n",
       "         'Working good so far.': 1,\n",
       "         'Working great and my daughter loves it!': 1,\n",
       "         'Works great': 3,\n",
       "         'I love it': 7,\n",
       "         'I wanted a white dot for my white bathroom.  The top is black as shown, which I knew, but I did not realize the cord and plug were also black. I wanted a white cord and plug.': 1,\n",
       "         'WORKS GREAT': 2,\n",
       "         'Amazing!': 2,\n",
       "         'Great product': 11,\n",
       "         'Perfect': 4,\n",
       "         'I set up the Echo Dot and it worked for an hour and then died completely. DO NOT BUY refurbished!!!! I sent back for return the day after I received.': 1,\n",
       "         'This Echo Dot is horrible. The volume on my phone is louder than than this device. My boss has one at this is not the case': 1,\n",
       "         'Overall it works very well. Some connectivity issues but it was definitely worth the money!': 1,\n",
       "         'Have had no issues with this refurbished unit. It performed expected. I would buy another one if needed.': 1,\n",
       "         'Great for mom its inside an owlhead in her jacuzzi': 1,\n",
       "         \"Works great - I put this in my son's room and use the drop in option to get his attention when he is gaming or watching tv.\": 1,\n",
       "         'It was perfect': 1,\n",
       "         'It looked brand nrw!! I have nothing to.complain about!! I will defently be ordering more': 1,\n",
       "         \"It's ok. The speaker is pretty terrible. Google home is a better product.\": 1,\n",
       "         'I love this, answers all my stupid questions and tells me the weather for when I don’t get off the couch': 1,\n",
       "         'The first one quit working shortly after I got it. The next one becomes unresponsive to my voice at times and the only way to get it to work is through the app. I am not sure if it just this Dot or they are all this way.': 1,\n",
       "         \"Bought this to go in my niece's room. You can't tell it's refurbished. It looks good and works like new.\": 1,\n",
       "         'Device was not working. Followed all instructions for Alexa echo dot and it did not come on. Very upsetting.': 1,\n",
       "         'Sent it back due to crackling noise and turning itself off and on - but what can you expect with a refurbished item?': 1,\n",
       "         'Best price we could find and it is so useful to have her around to answer questions. It is so handy to not have to find your phone. I also now have an intercom system.': 1,\n",
       "         'I have never been more satisfied with a product. Perfect introduction to Alexa.': 1,\n",
       "         'Works well, but the speaker is not so grand. Getting another speaker to drop this into. In the future I would have just gone with the full size echo.': 1,\n",
       "         'Love our echo! Thing the full size version sounds better though.': 1,\n",
       "         'It has all I need for my life plans time date music': 1,\n",
       "         'Seems to have trouble hearing me when I say the wake word despite being trained to my voice... Wonder if this has something to do with buying it refurbished. Our google home mini has no problems hearing us 😬 and is much louder.': 1,\n",
       "         'Love it!  Works perfectly!': 1,\n",
       "         'I had a brand new echo Dot and thought that the refurbished would be just as good. It was quite different from my expectations. Refurbished unit did not even turn on and after a while I realized that the power adapter was faulty. There is no way for me to have Amazon send me a power adapter by itself according to the return options. I love Amazon and buy even my toilet paper through them but this was truly a let down.Update: Amazon contacted me and credited me enough to buy a new power adapter. This is why I shop on Amazon. I can always trust them to deliver on their products.': 1,\n",
       "         'I bought this for a family member as a gift. I called her to see how she likes it & she said she loves it‼️': 1,\n",
       "         'Not very loud but quality and ease of use is great. Sound is perfect for background music, would suggest 2-or more connected together if you’re trying to use for hosting a louder party': 1,\n",
       "         'Looked Brand new works great. I love these echo dots and the refurbished ones are like new': 1,\n",
       "         'My 2nd one and I use them all the time.': 1,\n",
       "         'Is working like a  new one for now, l have another 3 alexa devices lm a fanatic': 1,\n",
       "         'Echo is good.': 1,\n",
       "         'Great price to extend the range and super value to dot offers. Hooked up wireless speaker to use working outside.This dot made outdoor sound range possible without disturbing indoor light control possible': 1,\n",
       "         'Amazingly fun. My daughter and I just asked questions on the first day. I have now set my daily alarm, weekend reminder, playlist, morning shows, random songs, daily bible verses, weather, and morning commute. It tells me which way to go dodging traffic. You have to get one. I don’t have it linked to my phone yet.': 1,\n",
       "         'Works perfect! There’s no difference at all between this refurb one and my new ones that I have in my house. I’ll be buying the refurbs from here on out': 1,\n",
       "         'Great product. Wakes me up every morning on time!': 1,\n",
       "         'Like new.  No difference from new unused original.': 1,\n",
       "         'I have no complaints. As far as I know, these are exactly like new, just a little cheaper. Great!': 1,\n",
       "         'Perfect condition!': 1,\n",
       "         'It works just as well as the new version I got as a discount with my Echo speaker. I decided to purchase this version because Amazon states it has the same warranty.': 1,\n",
       "         'Great Prime Day Buy!': 1,\n",
       "         'I love Alexa!': 1,\n",
       "         'Alexa is easy to operate and set up.  Have had it for about 10 days now and love it.': 1,\n",
       "         'Great speaker with a lot of capabilities. Very fun to learn how to use it.': 1,\n",
       "         'I used the product for my phone to look up the weather and watch videos': 1,\n",
       "         'Don’t use it for much as I thought we would. Synced with Kasa-Cam and use it to check up on our baby in the crib a lot. Lyrics for music is cool, too. Other than that it’s used as a clock and standard dot’ish features.': 1,\n",
       "         'Amazing so far. Just got it the other day.': 1,\n",
       "         \"I like that it's smaller, but it has never understood commands as easily as our first-gen original Echo did.\": 1,\n",
       "         'Worthy successor to the echo dot and right at home in the bed room as an alarm clock.  However, for the price it should come with the stand': 1,\n",
       "         'I love this device! All the functionality of an Amazon Echo with the added benefit of a video screen. It looks great on my nightstand as a clock (lots of faces to choose from) and displays weather, reminders, etc. I think it can do video calls too but I use FaceTime for that anyway. It’s a great shape and doesn’t take up a lot of room. I’m planning to get another one for my guest room. Awesome for a great price!': 1,\n",
       "         'I love the Echo Spot. This bedside alarm clock size device can do what theEcho Show can do. I was concerned because I already had a large Echo in mybedroom that answered to “Alexa” like the other devices in my home. I wasconcerned about having both devices answering at the same time when I discoveredthat I had other name choices (not enough for me but just enough to avoid confusion).I named him “Echo.” Now if I could only choose a male voice. I loved that I could link it tomy security camera and my new doorbell. So many more features. Don’t forget to buy thestand/base. So many advantages to having that. Read the reviews. Highly recommend.': 1,\n",
       "         'I love this little Spot more than I thought I would. The sound is great for such a little thing...my music plays nice and loud and clear. The video is terrific...I was watching some Prime shows just for the heck of it, and I was really impressed. Immediately convinced my mom to buy my sister one for her birthday!Only thing that kept me from giving it 5 stars...I really wish it was cordless. I love having it in my kitchen but trying to find a place to plug it in is a pain. And it won’t connect to my Bluetooth speaker while playing Amazon Prime Music for some reason, which is a drag when I want to hear it in the dining room during dinner. Of course, if it was CORDLESS I could just bring it with me...otherwise, I absolutely love it and will probably buy another one!': 1,\n",
       "         'I bought on Prime Day and so glad I did. It’s easy to use and lots of customization options. I know some reviews said that the screen was small and hard to read, but I disagree.': 1,\n",
       "         'Honestly I like it but at the same time I don’t I could have bought a smaller one that did the exact same thing for less then half I bought it for the video chat and I have never really used it': 1,\n",
       "         \"Overall it's great and I like that I can see lyrics and the time and  date. However, sometimes it freezes and doesn't respond properly--no error message about lack of connectivity--it just stops. Resetting resolves the problem.\": 1,\n",
       "         'I love all that you can do with the Echo Spot!': 1,\n",
       "         'The thing I like most about my Echo Spot is the voice command feature.  You can ask anything and get an answer or play any music without getting up to adjust the Echo. Easy to use': 1,\n",
       "         'Love it!! Perfect for an alarm clock replacement, plus so much more!!': 1,\n",
       "         'I love the Echo Spot as it is great for checking the weather along with many other things, but most important it works great as your alarm clock in your bedroom!': 1,\n",
       "         'We absolutely love this product!!! Wish we would have bought this instead of the dots!!!': 1,\n",
       "         'We like that we are able to get weather and other information quickly.  You can even hear music played. The speaker is clear.  We are enjoying it.  What we did not like because it was creepy was that the day before my husband played a particular song on our stereo for me.  The next day, I asked the Echo to play music from the same artist not specifying any particular song.  The Echo played the exact song by that same artist that my husband played on our stereo the day before.  It was a little disconcerting.': 1,\n",
       "         'I like echo spot. I bought it to use as an alarm clock. One negative that i didnt really think about, when you wake up in the morning and are somewhat groggy, its hard to tell alexa to turn off the alarm, or hard to remember commands to snooze for a few minutes. In this case a clock with buttons seems to work better': 1,\n",
       "         'This is our second Echo Spot - to go with out two Echo Dots - love the look and how Alexia responds.': 1,\n",
       "         'Love my Echo Spot!': 2,\n",
       "         'It is very slow compared to the echo': 1,\n",
       "         'I love the way it is designed. And you have choices for the face.  I use it for my bed side.  I drop in; on my echo in another part of the house frequently without yelling.': 1,\n",
       "         'Terrific sound for a small device, and nice form factor for the nightstand. I like the convenience of seeing the time and temperature rather than asking Alexa. Not using video much, but it would be nice if the device had a square/rectangular screen.': 1,\n",
       "         'New to Alexa. Like this spot a lot.': 1,\n",
       "         \"It's not perfect, but I really like this little gizmo. i bought it primarily for 2 purposes. First, so I could set wake-up alarms by individual days, and set the wake-up music individually by the day. Second, I wanted to control a bedroom light by voice, so I could shut it off as I was falling asleep, without having to get out of bed to turn a switch. The Echo Spot, together with a smart plug,has been able to accomplish that. A bonus has been getting Alexa to play music from my Amazon Prime playlists.What's not so great is that sometimes Alexa has a really hard time understanding instructions, and repeating and altering the way you say things can get pretty frustrating. Hopefully the AI gets better in the future, along with added functions.\": 1,\n",
       "         'I love it.  It is so easy to use': 1,\n",
       "         'Put this on my night stand to use as a clock and alarm. Works great. Every morning I get the weather and news when I get up. Also reminds me of all the appointments my wife and I have.': 1,\n",
       "         'Part of it is my fault, I thought it could be wireless.  Though for the price, I still feel like it should be. Also the sound quality and volume could be better. I prefer the tap. Unless you really want to have the call options but today most of us have phones, computers or iPads. Just not worth it.': 1,\n",
       "         'Very easy to use and much quicker then looking up everything on the cell phone.': 1,\n",
       "         'I love my new Echo Spot!': 1,\n",
       "         'I love this clock, I just have to tell it to set my alarm.  No more fussing with buttons!': 1,\n",
       "         \"Couldn't be more pleased. Amazon hit this one out of the park. Looks great and runs great. Love it!\": 1,\n",
       "         'Responds easily and like the ability to do at night.': 1,\n",
       "         'Easy setup  Love it!': 1,\n",
       "         'Simply amazing what a awsome device. It never ceases to amaze me, wake up to big bang music, go to sleep softly falling rain. Drop in on the kids and keep in touch. I have just scratched the surface as to what this devise can do.': 1,\n",
       "         'I was skeptical at first but &#34;it&#34; grows on you.  It looks good, so far.  I did, however, turn off the camera.': 1,\n",
       "         'Sound quality is disappointing.': 1,\n",
       "         'I love it!  I especially love that it is so small and does so much.  Got rid of my old CD/Alarm clock radio.  Much more room on nightstand.': 1,\n",
       "         'Great sound and video plus all the great stuff that Alexa has to offer even turns my lights on and off': 1,\n",
       "         'The ease to use product': 1,\n",
       "         'So far pretty happy with the Spot. For me it really is a glorified alarm clock/radio and I know I could have something more cost effective but eh, I like it. I had read the reviews about the scrolling issues and saw the one about how to make that stop and it did. So far so good.': 1,\n",
       "         \"I am just entering the &#34;smart&#34; technology world. I haven't figured it all out yet, but so far it's pretty cool!\": 1,\n",
       "         'It was smaller than I had anticipated, and when I say that I very much mean it. However, it still works very well! Quality sound, easily programmed, easy to work with, but Alexa is not anywhere as good as other voice programs.': 1,\n",
       "         'Great deal, great product!': 1,\n",
       "         'i had a couple of echo dots previously - bought these _SPECIFICALLY_ for the Ring doorbell video / cloud cam display / interface capabilities. WAS NOT DISAPPOINTED. Love the fact that I can ask to see front yard / back yard / front door, etc.the video chat with the other rooms is also quite cool.BONUS: “Alexa show me Ant Man trailer, etc”i know this can all be done on laptop/desktop, but it’s cool now having an ‘appliance’ that’s always just there, and it doesn’t interrupt what i’m doing.': 1,\n",
       "         'Bought this for my bedroom and the Show for my living room. Love them both. The Spot is perfect for bedside and has an impressive design. Shows lyrics, photos , etc. I paired it with a Smart Plug for the bedroom lamps &#34;Alexa, turn off lights&#34;, love it.': 1,\n",
       "         'Love that is can do so much! It sits on my nightstand! Only improvements I would make is having battery back up capability and the screen could be a tad bigger. But overall I’m happy I have it! Would recommend!': 1,\n",
       "         'It was a gift and the recipient love love loves it 😍💋💋💋💋❤!': 1,\n",
       "         'Cool little piece of tech...we’re still learning some of its functions and possibilities, but I can see some potential.  Even my ‘technically challenged’ wife already figured out how to video call our daughter.': 1,\n",
       "         'I have been extremely impressed with the device as a whole. Completely changed sleep schedule and replaced my alarm clock. It is the perfect bedside counter device - alarm, wake up music, weather, top news stories, etc. Perfect device for what I wanted and does so much more than I expected it to do, calling feature is also a huge selling point. This is a must own item. Probably will grab more Echos in the future.': 1,\n",
       "         \"As an Alexa device, it works just as well as any of the other products.  Unfortunately it doesn't go up from there.  The ability to play videos is very limited.  You CAN NOT play YouTube and when you can play a video the cropping of the screen makes it look very strange. There is quite a selection of clock faces, and you can control what is displays with one glaring and VERY ANNOYING exception.  You can't turn off the &#34;Things to try&#34; screen You can turn off the screen scroll, but that defeats the purpose of having the screen.  I don't need to be reminded every 5 seconds what things I can do with Alexa.  I don't need the advertising, especially at the cost of this device.  Overall, its an expensive Alexa device with a screen that's not very useful and annoying.  I would not recommend this until the Amazon people get their act together and come up with a screen that's actually useful.\": 1,\n",
       "         'So far so good.': 1,\n",
       "         'This device is perfect for a smart nightstand clock. I love how it dims based on the ambient light in the room. Its the first nightstand clock I have had in my bedroom in years because the lighting and glow from typical alarm clocks bother me when trying to sleep. The screen on this dims when the lights in the room go out and is not bothersome at all.Overall a great addition to my smart home. Its nice to be able to tell Alexa to turn on/off the bedroom lights without even getting out of bed or reaching for your phone. I have a bunch of other Alexa devices, but this was the first one with a screen.': 1,\n",
       "         \"I love this thing. I talk to it through walls and in other rooms. I have been an amazon lover for a while so I have amazon music unlimited, kindle unlimited, prime video, etc., so I was ready for this when it came out. The screen is just so nice to have.The only thing resembling a down side is that it doesn't always perfectly understand which song I want to hear, but I do have a deep southern accent, lower Alabama, so I don't speak English anyways.\": 1,\n",
       "         'Smaller than I thought it would be. Happy I got a stand so it sits up higher on the bedside table.': 1,\n",
       "         'Echo Spot works well except it does not work with the Ring doorbell as it states on the website. Since they were sold as a pair I thought that it would be app ready.  Unfortunately that is not case.  Perhaps Ring will update so that they can be integrated.': 1,\n",
       "         'Nice': 3,\n",
       "         \"We've owned a number of Echo devices, but have viewed them as more of a toy than a tool.  Other than playing music through a sound system, we haven't found much use for them.  We just don't find the voice user interface to be all that efficient.  The Echo Spot solves the efficiency problem by displaying the information that you're routinely interested in.  Furthermore, you can do some basic navigation using the touch screen as well as tailor the settings.  We now use these as bedside clocks.\": 1,\n",
       "         'I love my Echo Spot.  Waking to my favorite music.  Being able to completely turn off display at night so my bedroom is dark.  All the skills I have yet to try.  Easy to use.': 1,\n",
       "         'I like how small it is, but I’m still able to see my Ring cameras.': 1,\n",
       "         \"Great for checking in on my son after school when I'm still at work.  Love getting the weather and traffic in the morning so I can plan my route accordingly\": 1,\n",
       "         'Love it!! Super fun! Easy to use! My three year old even gets involved': 1,\n",
       "         'I returnef this item because it does not speak Spanish': 1,\n",
       "         'I am a hardcore fan of Echo. Infact I am in love with all members of my Alexa family. I have Echo, Echo Dot, Echo Plus and now this new toddler Echo Spot. Every variant has its own beauty. I love feel and size of Echo Spot. It’s fabulous as far as looks are concerned. It does not have great Audio quality (which I did not expect at the time of placing order because of its compact and small size). I bought it to connect with my Bose SoundTouch.': 1,\n",
       "         'Love this!': 3,\n",
       "         'I love being able to have Alexa sing careless whisper into my ear to wake me up.': 1,\n",
       "         \"Works great as a bedside clock but the microphone for Alexa doesn't work as well as the normal Echo.  Sometimes Alexa doesn't hear me when I try to interrupt her it to give new instructions.  The speaker also isn't as good as the normal Echo.  Screen is small so not really useful for viewing any type of video or for seeing who's at the front door.  But, it's great for the bedside.\": 1,\n",
       "         'Fun tech toy': 1,\n",
       "         'Love it. Small with good sound': 1,\n",
       "         'With the combination of this, smart plugins, and the Alex app I can turn stuff on and off with my phone or telling Alexa to do it. I can order stuff, get answers, watch videos, get weather, set alarms, video call, and so much more with this device!': 1,\n",
       "         'In a matter of minutes it became indispensable addition to our house. Extrimelly useful hub of information, music, automation, communication, and assistant in basic needs. Would love to have a voice personalization. Some things are better not to said aloud but typed (like door unlocking codes) but that is problem of unwitty developers. So far only positive experience. The privacy invasions is happened way before Alexa, it is on your phone no matter brand or carrier. To Alexa defence at list it has a button to turn a microphone off.': 1,\n",
       "         \"I love this device! It's so great. What a great alarm clock and what a surprisingly good speaker! Only reason I didn't give 5 stars was because it needs to have a few more features like playing YouTube videos, and Google play music. The camera is not very good in low light if you decide to drop in and it's dark in the room.Other than those minor things, I love it. Great buy and would buy again\": 1,\n",
       "         'Hands free control': 1,\n",
       "         'Great love the display and easy to use, though still learning what all it can do everyday.': 1,\n",
       "         \"It has been able to interpret my instructions pretty well right from the start, even from a distance. A lot of the skills are excellent. I've added a few of the late shows to my flash briefing but it's ridiculous that it can't access YouTube.It might be important to note that adding an event to your calendar is a task; it seems to have difficulty with the time span of an event. I imagine this is a functionality people would use often.\": 1,\n",
       "         'Setup was easy and it is a fantastic alarm clock': 1,\n",
       "         'Great product! Highly recommend getting the stand that goes under it, it sits much better on the desk.': 1,\n",
       "         'Eh it’s cool and all but also kinda boring I don’t really know what to do with it other than it being a desk clock so 3/5 is about right. I can’t connect to my Spotify unless it’s premium and I’m in college and I’m not paying or that or amazon music so': 1,\n",
       "         'I am huge Amazon fan! First to have a kindle and the echo. I waited a bit on this but have wanted it for awhile. I do love it!! My kids love it! They love watching videos and the lyrics to the songs. Now the video calling feature is nothing like how the advertisement made it out. I thought as long as someone would FaceTime me I could do it through that and I can’t. It’s Spot to Spot. Can’t even Skype (which I do often with my aunt). The is my major disappointment with it.': 1,\n",
       "         \"LOVE LOVE LOVE THESE. The only think I notice is that it doesn't pick-up my voice and commands as well as my Echo and Echo Dots (we have 4 Echo products throughout our house). I have this in the kitchen and in my bedroom as my alarm clock. I'm no longer searching for a pen and paper to make lists!!!!\": 1,\n",
       "         'Love my Amazon products': 1,\n",
       "         'Love this': 1,\n",
       "         'Love my spot. Have that , a dot, and a regular echo': 1,\n",
       "         'Nice upgrade from an Echo Dot.': 1,\n",
       "         'Works decent, wish it was able to answer more questions....need a better source for info but the rest works great!': 1,\n",
       "         \"I can't live without Alexa.\": 1,\n",
       "         'Really like it. The screen is a major plus.': 1,\n",
       "         'Didnt think id get an Alexa device, but this is perfect for my home office.  the screen adds just that little piece that makes it worth the extra cost of the other Alexa devices.  It can show lyrics of songs, play my xm radio, can show videos of movie trailers and news.  Its great!': 1,\n",
       "         'I love it.  I made a group with my echo dot so I get music through my home.  I am waiting for the to go on sale again so hopefully I can get another spot for my bedroom..  I love the alarm and weather at the sound of my voice..': 1,\n",
       "         \"When we first received this product, it was great.  However, about a week ago, the device served up a video advertisement around 10:30pm at night and scared myself and my family.  If you want to make sure you are protected and don't allow video directly in your home, the spot is not a device that can keep you safe.\": 1,\n",
       "         \"It's fun to use, and makes my life easier in some sense.\": 1,\n",
       "         \"I got my Echo Spot on Prime Day and love it. I think it still is a little expensive, but the chance to save $30 convinced me to buy it. I basically use it as a radio alarm clock because on my old radio the stations would sometimes not come in clearly. I also like the sleep sounds skill, and hearing the weather. I'm still exploring the other skills...just discovered some Star Trek sounds (Alexa, beam me up) which are fun!\": 1,\n",
       "         'Love this! Replaced an old alarm clock in my bedroom with this.  Love that it dims at night. Very responsive to commands.': 1,\n",
       "         'Love my spot! She even more than I expected! Great size for a bedroom!': 1,\n",
       "         'So far so good. Just got it and I am trying to figure out all the things it can do. The product itself is very well made.. And easy to set up.': 1,\n",
       "         'After only a couple of days Alexa did not answer. I have disconnected and will see if it does any better after reconnecting.': 1,\n",
       "         \"Perfect! May favorite Alexa device by far, specially if you own ring cameras or amazon cam's it does the job really well.  We changed our echo in the main living room and it seems to be more reactive. Good job Amazon!\": 1,\n",
       "         'Is great. Use it for music mostly.': 1,\n",
       "         'It won’t receive calls and it’s really hard to call someone who has another echo.': 1,\n",
       "         'This is our first step into a smart home. Soon as I added one item to the grocery list I started loving it. My wife was so-so about it ‘til I opened rain sounds. She’s a convert. 😉 LOVE these and the dots.': 1,\n",
       "         'Like the little spot,  now our guest room is Alexa enabled.': 1,\n",
       "         'We love our echo spots. We now have three through the house and like that you can drop in on the other spots. We do wish the clock faces had more customization options and that there were more faces in general.': 1,\n",
       "         'It’s very smart and sweet design': 1,\n",
       "         'so far just ok': 1,\n",
       "         'Love this for bedside clock/alarm/radio.  Face can dimat night so it’s not bright for sleeping.': 1,\n",
       "         \"Love this product I use it as my bedroom clock perfect size with a lot of other options. The only thing I would like to see them add on to it is the ability to fall asleep to mu as if and set a timer for it to go off on it's own. Like you can with tv t hcfe sleep mode.\": 1,\n",
       "         'Love this. So glad I purchased': 1,\n",
       "         'I wanted to see my security video cameras without having to use my phone. Works great and extremely easy to set up.': 1,\n",
       "         'The Echo Spot is great!': 1,\n",
       "         'We bot 2 on Prime day one for use as a clock/radio in the bedroom and one in the family room to control lights and watch the front door when the doorbell rings.  Music sound is very good not as good as the Echo but way better than our Dots.  If we could only buy 1 Amazon device it would be the Spot.': 1,\n",
       "         'I bought two one for my office and one for my bedside table. They are fantastic the screen is just big enough when using the drop in feature to communicate with my mom. I can’t wait for prime day again to get one for my moms bedside table.': 1,\n",
       "         'Fantastic product, absolutely love it!': 1,\n",
       "         'Love these!': 1,\n",
       "         'I do like the product we bought it on Prime day but this week it was $30 cheaper then Prime day. Still a really cool device. I wish I would have waited.': 1,\n",
       "         'still learning how to ise it but is DOES NOT disappoint. I’m giving to everyone for Christmas so I can “check in” on them unnannounced like they do me...just show up with no advanced warning!!!': 1,\n",
       "         'Very helpful with daily activities': 1,\n",
       "         'Exactly as advertised': 1,\n",
       "         'Its very nice': 1,\n",
       "         'More than I expected. I use it for timers, alarms, shopping lists, calendar events, news, weather, and so much more.': 1,\n",
       "         'Great!': 1,\n",
       "         'I really like it works well trivia games and shopping on it is fun.Sometimes it misunderstands what I say but other then that the speaker is decent video chat is good but you do need to be in a well lit room so the other end can see you lol.': 1,\n",
       "         'Fun to work with still learning everything she can do': 1,\n",
       "         'Awesome. I love that it shows the lyrics of songs!': 1,\n",
       "         'Love the alarm feature...just tell what time.': 1,\n",
       "         'I think the dot listens better than spot.': 1,\n",
       "         'Had a dot and upgraded to this! I like it. My only complaint is the very short instructions': 1,\n",
       "         'Big step up from the Dot! Dropped one star due to consistent delay in bringing up Ring Pro video, though looks great once the feed is displayed.': 1,\n",
       "         'Easy set up and to use. I bought two one for my house and one for my 75 year old grandfather. I set it up for him a gave him a 15 minute lesson and he calls me at least once a day it’s is great to be able to see him in between visits.': 1,\n",
       "         \"I wanted to use it as a clock in our bedroom.  But the font is too small to see from any distance.  And apparently you can't change it.\": 1,\n",
       "         'Great size for bedside. Plus it dims at night!!': 1,\n",
       "         'I love it and it works great, the only issue is the “drop in” FaceTime like feature sometimes lags, but that could possibly be an issue with my WiFi for where we have it located in the house.': 1,\n",
       "         'Love to have meditation music, I use it as a morning alarm, just to mention few in general I love it': 1,\n",
       "         \"I don't know why I like it, but I do. It's like an all-in-one alarm clock.  If you have other alexa devices, you know what it is.  If you are looking to get an alarm clock, this is the one to get (yes, its much more than that).  It shows you the time, it shows you the weather, its touch screen, it shows you music lyrics, and it does all the things your typical alexa device does.  It's quite loud for its size as well (sound way better than echo dot).  It also does video calling, which is pretty awesome.  The viewing angle is great, so even if its sitting fairly high up, you can still see the display well enough.\": 1,\n",
       "         'Quick and easy to set up': 1,\n",
       "         'I was hoping for a better clock face to make this an alarm clock replacement .  The display brightness dims too much at night to accomplish this task.The display works well for camera viewing.It is an attractive device. and a decent value at $99': 1,\n",
       "         'Great device': 1,\n",
       "         'I’m a fan of echo devices. I think it’s a great alternative to a clean clock. I like using it to adjust the lightning in the room and listening to sounds to help sleep. My two year old sleeps so much better with it on. We also use it to tell my two year old stories. Only issue is the volume of alexa speaking when you tell her to turn off the lights is loud when the volume is set to what you want to listen to the music at night': 1,\n",
       "         'I own 5 Echo devices, consider me addicted! This little number is awesome, not only do I like that it displays, the sound is great and it has the same dependable functionality as other Echo devices. One feature I really like is how it slowly dims after I turn off my bedroom light, so I have a night light for a bit. I love Echo devices and have just about run out of places to put them!': 1,\n",
       "         'I enjoy this little thing a lot.  Will do almost anything.  I like the jokes it tells.  I’m still learning different functions': 1,\n",
       "         'Meh': 1,\n",
       "         'Best looking Echo device. Easy to use': 1,\n",
       "         'A helpful product with a few glitches eg inability to occasionally access all flash briefing stations and understand or answer certain questions but Amazon will likely fix and improve it.': 1,\n",
       "         'we like it. very convenient': 1,\n",
       "         'I love the size of the echo spot. It fits on my nightstand but has all of the capabilities of my echo show. I like going to sleep with the lightening storm. The images along with the sounds are very relaxing. The calling and messaging feature is great. It’s small enough to take with when we travel. I love and own most of the Alexa products. Our whole family uses them.': 1,\n",
       "         'The amazon Alexa is so nice to have she wakes me up in the morning with alarms and is great if you have prime because she can do a lot more plays any songs you want her to play and she can even make playlists of your favorite songs i love the Alexa because she has games you can play ad you can watch videos or movie trailers on the screen!': 1,\n",
       "         'love the spot': 1,\n",
       "         'Easy to use easy to set up': 1,\n",
       "         'I love my echo spot that my daughter and son in law got me for my birthday. Alexa wakes me each morning and plays music when I ask.': 1,\n",
       "         \"This product currently has two related software flaws that make it completely unusable:1) There is a &#34;card&#34; on the homescreen called &#34;Things To Try&#34; -- it's an ad for other Alexa services you can try. You can turn off all the other homescreen cards, but not this one.2) By default, the homescreen cards &#34;cycle&#34; automatically, which is incredibly annoying. There is a setting where you can opt to have the cards only &#34;cycle once&#34; instead of &#34;cycle continuously&#34;, but critically *this setting does not work*. My unit has been set to &#34;cycle once&#34;, and the cards still continue to cycle all the time. Have rebooted the device, re-set, etc etc.Until these two obvious software issues are fixed, in my opinion the product is useless.\": 1,\n",
       "         'Great deal on prime day': 1,\n",
       "         'no problem': 1,\n",
       "         'Excelente su funcionamiento y llama la atención la rapidez de respuesta y el control que se logra a través de la utilización con Alexa. Me sorprendió gratamente. Muy recomendable.': 1,\n",
       "         'I love love it !': 1,\n",
       "         'Purchased this on Prime Day and I absolutely love it!  I had the Echo Dot on my nightstand, but I really missed a display. This is perfect and the speakers are excellent.': 1,\n",
       "         \"Yes it met my expectations.  The snooze on the alarm needs a but of work.  Tap it and it snoozes, swipe up and it prompts you to dismiss.  But without my glasses I can't read it and often it just snoozes.  Then one day I must have dismissed tomorrow's alarm because it never went off.  I have it set for Mon-Thu.  Fri I don't need to get up early.  A more apparent indicator of the alarm set would be nice.  My old alarm had a red light.\": 1,\n",
       "         'Great product, and i like the screen for a alarm clock': 1,\n",
       "         'Such a fun, easy, and convenient device to have around the house. No need to pick up my phone to look something up, just a few words and the world is at your fingertips. The speaker puts off great sound and the screen is crisp. The price is right for a device like this.': 1,\n",
       "         \"A great replacement for the bedside alarm clock, which had a funny habit of going off at 12am every time the cleaning ladies came through. We mostly use it to turn the ceiling fan lights on and off, while leaving the fan running. Only gripe would be the mic sensitivity, which doesn't appear be as good as the View or Gen2. It can get a little frustrating having to repeat yourself.\": 1,\n",
       "         'This product has made my life much simpler with a little one. I use it a lot for music and when i have my hands full turning it on/off or up/down is a breeze. The screen is a great novelty where i can watch the news!': 1,\n",
       "         'Works well and was easy to set up.': 1,\n",
       "         'Love my spot, it now acts as my new alarm.': 1,\n",
       "         'This is the one of my favorite Amazon devices.  Have one in my bedroom and use as alarm clock. Perfect addition to our home of Alexa devices.': 1,\n",
       "         \"Wasn't so sure about bringing &#34;smart technology&#34; into my home, but I'm hooked! I love the sleek look of the Echo Spot on my nightstand and how easy it was to set up and use. I also love that it scrolls the news, local weather, and give suggestions of what to ask Alexa. I use this as my alarm clock, speaker, and have it sync'd with the Etekcity Voltson Wi-Fi Smart Plugs to control the lighting in my apartment.\": 1,\n",
       "         \"You need a Harvard law degree to operate this thing! It's going back very soon!\": 1,\n",
       "         \"Love it getting use to it and Alexa is getting use to my voice . Sometimes she doesn't answer but I think it has to do when internet is low or is updating or my voice isn't strong. Over all I haven't had any of the annoying stuff that everyone is complaining about. Thank goodness I didn't listen to those reviews.  And paid attention to the Apple guy .\": 1,\n",
       "         'product turns on randomly and sometimes at night': 1,\n",
       "         'I used it as an alarm clock  i lov it': 1,\n",
       "         'It was much smaller than I was expecting for the cost.': 1,\n",
       "         'I’m amazed': 1,\n",
       "         'Alexa wakes me up everyday for work to whatever station on Iheart radio or Spotify I want. Plus when I do get smart home devices she’ll be even more useful to me! She’s really helpful with answering random questions. The small screen sucks for video as it is small and round but it’s nice to have something to show time and pictures.': 1,\n",
       "         'Fun so far...still learning how it all works': 1,\n",
       "         'I purchased this on prime day mostly as a present for myself because I found having the echo plus on my kitchen counter to be overwhelming when cooking, cutting, cleaning, etc. especially when our counters aren’t very wide to begin with. After going back and forth between this and the show I decided on this because I felt it had all the same features but is more compact. I can honestly say I have no regrets. While I probably wouldn’t watch a movie I’d been dying to see on this, it’s a great way to listen to music, watch a quick YouTube video, etc. I even attempted watching “Jaws” on this and while it wasn’t the most comfortable thing for my eyes to do, it wasn’t as bad as one would think. I would definitely recommend!': 1,\n",
       "         'We love the echo spot I use it on my nightstand for alarm clock and play iHeartRadio radio while getting dressed!!': 1,\n",
       "         'It was easy set up.  I use it more than I thought.': 1,\n",
       "         'I would love this but there is no way to stop the screen from constantly scrolling through “things to try”. If Amazon would make this a setting I would change my review to 5 stars.': 1,\n",
       "         \"I am a small business owner with no staff. With the Alexa driven Echo Spot, I feel like I've hired my first assistant! My Echo Spot keeps me organized, updated, and assistance when I need information that will help my day run more smoothly. I love my Echo Spot so much, I bought 2 more for my kids who love their Echo Spot too! I highly recommend this product.Suggested improvement for future versions, make the Echo Spot wireless. 😊\": 1,\n",
       "         'Bedroom clock , ask questions,  weather reportsAlarm clock ⏰. Music 🎶 download music': 1,\n",
       "         'Speakers are not as loud as Google Home': 1,\n",
       "         \"I haven't figured out how to make or receive calls.  Device tells me I need to register and I do not know what to do.\": 1,\n",
       "         \"I need to get some better controls for custom displays and the ability to make my own clock, but that's asking a lot. In general, great device; glad I got it.\": 1,\n",
       "         'Great buy!': 1,\n",
       "         'Gave it my daughter for her birthday, she loves it! Sound is amazing, she plays music on it constantly. Worth every penny. This is the third amazon device purchased, we have 2 echo shows and now the spot.': 1,\n",
       "         'I use the product as an alarm clock. I love being able to set my schedule for the week and not worry about it. When images are shown, they are cut off. Little because its trying to fit it into a circle.': 1,\n",
       "         'Love the ease of use and convenience the echo spot has offered': 1,\n",
       "         \"Great product and I would give 5 stars - but you can't scroll face cards without having the stupid &#34;try and ask Alexa&#34; suggestions pop up.  Yes you can have it scroll once, and just stay on the clock, but I like having other cards as well. God its the worst and SO irritating.  I got it super cheap, so i just face the screen toward the wall and treat it like a Dot instead of a Spot.  What a dumb move on Amazons\\u200b part.\": 1,\n",
       "         'Love that I have command access to news such as Bloomberg TV, NPR, etc.Highly recommend that you gain access to Alexa app before setting up Device and get familiar with key features/services...such as setting up your daily commute.If family and friends have Spot...then it’s a great substitute for Skype and Face Time...you can always “drop in” when missing loved ones or just to catch up.': 1,\n",
       "         \"good size screen and gets good range for voice commands. sometimes it picks up weird commands when I'm watching tv though. Great product for the price if you don't need the big show screen.\": 1,\n",
       "         'It is a good addition to my small space, and it keeps me up to date on events and weather conditions.': 1,\n",
       "         'Best thing I have ever owned! Started with the dot and now added the spot and I love iy': 1,\n",
       "         'I love it the coolest thing since sliced bread': 1,\n",
       "         'This product is a complete waste of money. When you ask Alexa a question \"she\" either doesn\\'t know the answer, gives you the wrong answer or finds information off of Wikipedia!': 1,\n",
       "         \"Honestly it's no different from the Echo dots I already own,  other then occasionally seeing the lyrics to a song I'm listening too i really don't see the difference.\": 1,\n",
       "         \"I got this for my husband on Prime Day. He loves it as his alarm clock and smart device. This is our 3rd Echo device, and we have them all connected throughout the house. Although you can deactivate the camera, we also chose to cover it since the device is in our bedroom. I'm not comfortable with having a camera in the room (no, we don't bring our cell phones in the room).\": 1,\n",
       "         \"Great product, what they don't tell you is that once you allow a &#34;Drop In&#34;  they can drop in anytime!!!  While they are sleeping, while we are yelling at them, while anything.\": 1,\n",
       "         \"I have two. One in my computer room and the other that I move around out on the deck. Not great for watching video, but it can be done. With the added sound you don't get from the Echo Dot, it is perfect for the location I have it in. Add whole house music, and you have just arrived in Nervana.\": 1,\n",
       "         'Surprisingly handy. Wish it had more options geared towards it being on your nigh stand. Like an even dimmer setting.': 1,\n",
       "         \"I was on beta list for Alexa, Have a Show, an original Alexa, 4 Echo's and I actually like this the best, even more than show\": 1,\n",
       "         'I was contacted by people in India. Were they suppose to charge me $79.00? It was very hard to understand their instructions. They did have control of my computer and network. I, also, bought a Cloud Cam but do not know how to make it work with Alexa.': 1,\n",
       "         \"I have the dot and Echo Plus, this one can't seem to &#34;hear&#34; me as well and doesn't do as much as I expected.\": 1,\n",
       "         'Bought this for our son as his birthday present and he loves it.  Often find him jamming to music in his room now  :)  He loves the options for the alarms and we have his weekday alarms set to repeat and he gets to sleep in on non-school days.': 1,\n",
       "         'Great product!': 2,\n",
       "         'I love my echo spot!': 1,\n",
       "         'Excellent purchase!!': 1,\n",
       "         'What a great little gadget for the house. You ask and it delivers, period. Well done!': 1,\n",
       "         'I switched to google. The amazon helper is more for shopping, and google is the tasks assistant.': 1,\n",
       "         'My favorite Echo. A more than adequate replacement for a clock radio.': 1,\n",
       "         \"The Echo Spot is compact, nice sound and camera quality. Makes it great to video chat with the family when I'm travelling for work. Ease of use that the youngest member (10 years) has no problem talking to Mama on the video chat and understands the important of digital security.\": 1,\n",
       "         'This echo spot is great I love it': 1,\n",
       "         'The voice recognition is amazing, perfect companion for the bedroom.': 1,\n",
       "         'I liked it, perfect size, the screen is really clear,  and elegant.': 1,\n",
       "         'I am not easily impressed with electronic goodies. But...OMG this is by far the coolest thing I have ever had.  It does everything short of clean your house... which, when I asked Alexa to clean my house.... was told she didn’t have hands, but instead played a fantastic playlist for cleaning!  From reading books to my five year old, to video chat, to silly selfies, music that automatically goes to my Bose Bluetooth speaker, setting timers, alarms, changing my thermostat on voice command, tells me the weather, sends hubby a grocery pick up list, and I am sure. Million more things!BUY IT.....you u will not regret it.': 1,\n",
       "         'This product is beautifully designed and I no longer have to hide an Echo device away like I did with Dot. It would be nice if Amazon would lose that camera though, which I have not used and might cause squirms for the privacy conscious.': 1,\n",
       "         'Love this little dot with a screen.  Super easy to set up and easy to use.  Instantly connected to all my other echo products.  I also bought the screen cover that has the blocking button for the camera if you want to use it.  Recommended.': 1,\n",
       "         'ALEXA IS NOT AS SMART AS SIRI! CANNOT CANCEL SNOOZE AFTER ALARM GOES OFF. HAVE TO CANCEL PRE-SET ALARM FOR WEEKDAYS.': 1,\n",
       "         \"Great product EXCEPT there is no possible way for it to act as a clock the displays the time PERMANENTLY.  When in 'Clock' mode, the screen rotates between the clock face and a 'Things to Try' screen.  I intended on buying several units for my house, but I do not need a screen in the house that is permanently trying to upset me.  Acting as clock should be a BASIC feature of the Echo Spot.  How could you get this wrong, Amazon??  #FAIL\": 1,\n",
       "         \"I wanted to use this as a bedside clock with the ability to play music and podcasts. Sadly, it continuously scrolls the &#34;Things to try&#34; and won't stay on the clock face. Amazon is about to get this one back.\": 1,\n",
       "         'Hands free calling in the house. I misplace my cell phone all the time so this is a real blessing. Really enjoying the streaming music.': 1,\n",
       "         'Got for elderly parents,easy for them to use.just instructions could be more informative': 1,\n",
       "         'This thing is great. Fantastic alarm clock.': 1,\n",
       "         \"We love using it for bedtime reading on Audible. It's very kid-friendly, and I can see liking it in the kitchen while I'm cooking since it's small and unobtrusive. We like it better than our Echo Dot.\": 1,\n",
       "         \"very nice gadget. love it's look.\": 1,\n",
       "         'Not happy with the Spot.  Reset numerous times.  Seems to be in slow mode.  Have to be practically on top of it for it to hear me.  Even after talking with support I still do not have “themes” in the menu to choose from!': 1,\n",
       "         'Husband loves it!': 1,\n",
       "         '***Love it***': 1,\n",
       "         'Love the Spot - Awesome little guy with precise video - I’m saving to buy one for my mom on the east coast - The Spot changes Everything as far as keeping your loved ones connected!!!Well worth every Cent!!': 1,\n",
       "         \"All is fine with the Spot exact for one massive failing.  In order to turn off a repeating alarm in the morning you pretty much have to talk - which is not a thing you usually want to do when first woken up and your bed partner will definitely not like.  YES, you can manually swipe up on the alarm face to dismiss but i) swiping up rather than touching screen when you are half asleep is very difficult and results in setting snooze more than half the time even if you really try to swipe to dismiss and ii) if you do manage to swipe up to dismiss, then you completely delete your recurring alarm.This is especially annoying as Amazon could so easily fix this by simply making touching the screen turn off the alarm but NOT delete it or at least make it a setting to decide whether touching the screen for a recurring alarm snoozes or turns it off.  But as the clock has been out for a year now and they still haven't adding this setting, clearly not going to happen.  This may be the biggest product design screw up Amazon has ever made.\": 1,\n",
       "         'Excellent': 2,\n",
       "         'item returned for repair ,receivded item back from repair 07/23/18 . parts missing no power cord included.please advise': 1,\n",
       "         'Awesome item that I had to buy two!': 1,\n",
       "         \"For as awesome as the Echo and Echo Dots are, the Spot is a disappointment. There is very little control over what the screen shows, what the clock looks like, what order things show up in, etc. At this point if I hadn't thrown the box away immediately, I would have sent it back and just got another full size Echo.\": 1,\n",
       "         'It has replaced my clock and Google Mini on my nightstand.  Outstanding little device.  I hope an update will give a simple face and font color options for the clock.': 1,\n",
       "         'I love the echo spot!': 1,\n",
       "         'It every ting I thought it would be plus more.  This will be going to my MOM right after I get through playing with it.': 1,\n",
       "         \"The most fascinating thing I've ever bought\": 1,\n",
       "         \"Sound quality is less than a dot, microphones don't pick me up as well as the other models (i have Echo and Dots).  Picture quality is good\": 1,\n",
       "         'Awesome cute and smart!': 1,\n",
       "         'Product forces user to review Alexa Things to Try. There is no way to disable it.': 1,\n",
       "         \"Absolutely love it. After much persuasion from a friend, I finally gave in and bought one. Let's just say that the moment Alexa enters my life, I turn around and tell Siri to get the hell out.\": 1,\n",
       "         'I love love love it.': 1,\n",
       "         'GREAT': 1,\n",
       "         'This is my first Alexa device and it is so fun to discover all of the ways to use it. The biggest con with me is the \"drop-in\" feature, it\\'s pretty creepy': 1,\n",
       "         'The best thing since sliced bread!': 1,\n",
       "         'Can’t be used as a baby monitor which is why I had purchased it.  I didn’t realize this until I read the reviews on the Alexa skill for syncing the Nest Cam.  Considering all of the poor reviews and the fact that it should be simple to fix, surprised Amazon hasn’t upgraded the software to allow more than 39 minutes of viewing or alerts like you get on the Nest app.': 1,\n",
       "         'Would be 5 stars if you could turn off the &#34;Things to Try&#34; screen!!!  I should have read up on this before buying the Spot.  Amazon, please update to enable us to turn this off!  It is SO extremely annoying to look over to see the time but instead see &#34;Things to try&#34;.': 1,\n",
       "         'Love it. So great to use!!!': 1,\n",
       "         'I own 3 of these...  amazon is ignoring its customers and using these devices as a marketing tool.  You can customize the screen contents, but you cannot turn off there advertising, Things to Try...  People will suggest that you can, but you can only do so if you turn off all content changes which is not an acceptable option.Moreover, they should increase the size slightly, and improve the audio speaker.  That would give you a 5 star device.Right now i’m debating whether to return all 3 devices.  My wife says we should.': 1,\n",
       "         \"I never thought I was going to be THAT person that is completely connected. I purchased this and another Echo product on Prime Day and fell in love.  I have one in my office and one in our kitchen.  I have already used this for morning briefings from the News while I am getting ready for the day as well as look up recipes.  The screen is big enough for me to easily read writing (this was a concern for me).  I loved this so much I purchased it for my grandparents and parents so they can easily video call me as they tend to have issues with their computer and other video conferencing tools.  Note: I did purchase camera covers (even though there is a button to &#34;turn off the camera and microphone&#34; and it doesn't impede the operations and camera so if that is what you are worried about, there are work around!\": 1,\n",
       "         'LOVE love love this!  I have an echo, and several echo dots, but love the video with this and the clock.  I no longer have to wake up and say &#34;Alexa, what time is it?&#34; or &#34;Alexa, weather&#34;  I can even watch videos on it if i forget my kindle before bed.': 1,\n",
       "         'After purchasing my Echo Spot to add to our other 4 Amazon Echoes...I am very pleased with the Echo Spot...I use  it with our Arlo Security cameras and Ring video doorbell and works without any problems...': 1,\n",
       "         'Disconnects often': 1,\n",
       "         'It does so much more than I knew when I bought it. It pretty much runs my house, helps me fall asleep, takes care of my schedule, and entertainment': 1,\n",
       "         'Love, love so far. I just received it Thursday. I unwrapped it, set it up, & immediately programmed it. No problem with the reoccurring things to try. I set it to rotate once and shows time like I want. I love the low ambient look at night.': 1,\n",
       "         'This is the best Alexa enabled device you can get, it is so versatile and useful. It sound way better than the dot but not as good as the regular echo. The screen makes all the difference in the world.': 1,\n",
       "         'I needed an alarm clock and this fit the bill perfectly.  I am a believer in amazon echo, Alexa and fire.  Great customization options and Alexa is always helpful.  Sound quality is also surprisingly good.': 1,\n",
       "         \"You're going to have to shell out an extra $20 bucks for the stand that should come with it so you can angle it best for how ever you are using this. My biggest gripe. I already spent an arm and a leg on this it should come with the stand.\": 1,\n",
       "         'Love it except that Amazon needs a reference one cohesive link for a full user manual. I don\\'t have hours to research websites. Plus, more instruction from Alexa on skills would be great. We often get the answer, \"I don\\'t know that skill\" even though I\\'ve added it in the app. I.e. Kwikset or Pizza Hut.': 1,\n",
       "         'Such a handy item to have on my night stand. She reads to me at night and gets me all set for the day in the morning with my calendar and weather views.': 1,\n",
       "         \"I got this on Prime day and figured I'd see what all the hype is about.  Honestly I didn't really want to like it as personally bugging my house seems kinda weird, but honestly, I love it.  Like it or not this is the way the world is going, so why not.I loved it so much I ordered 2.  I didn't get the Show because it looks like it came from the 1990's and is downright ugly.  I have no interest on watching anything on these devices anyway, so the Spot's screen does not bother me - although it is very clear.Alexa can hear you from pretty much everywhere.  My favorite part about this is having it in our living room where it's hooked up to our bluetooth soundbar - where I can just say play any song I want and it will.  I guess I could just pick up my smartphone to do that, but you don't know how much easier it is to interact with media using your voice rather than navigating through multiple pages.The one thing that I am not a fan of is the home screen cards do not really rotate that much - they also do not rotate when playing music.  I'd love for it to display the weather as I listen to music.The screen is clear and I also really enjoy Alexa being able to tell me how my commute will be - there is a great skill that you can download that will tell you traffic to 5 different places (that you program and name) so you can say alexa give me traffic to my parents - and she will tell you the best route and time you will arrive in current traffic.  I have this programmed for my parents, fiances parents, work, and her work.  So it really works great.The one thing that I actually preferred the Dot over the Spot is the dot will light up different colors when you have package notifications.. I have not seen the Spot really do much for package notifications yet.  The dot it was very easy to tell when something was delivered.  I would recommend Amazon do exactly what they did for the Dot but on the Spot - the Dot lights up colors - why can't the Spot ?  The same way you command alexa and you get that blue ring, just make that ring yellow when a package is updated for delivery.Overall it's a great device that I am looking forward to integrating my home around.  I'm already looking at dash buttons, smart plugs, etc..- and = when I become a home owner instead of renting where I can't tinker with my thermostat I will be purchasing a Nest down the road for HVAC integration.\": 1,\n",
       "         'The screen response time is way better than I expected. Sound quality is good too, also it’s not so bright that I have to turn off the screen but it is an option.  I have a Dot in another room and which ever hears me better is the one that responds.': 1,\n",
       "         \"I LOOOOOOOVE this thing! :) Watching movies on it is a bit of a disaster because of the round screen, but other than that it's a GREAT chachki toy :)\": 1,\n",
       "         'We gave the Echo Spot as a gift to my mother in law.  She loves it.  She can play music of all genres!  Easy for her to use.': 1,\n",
       "         'Very easy to set up. Does what is said it will. Very satisfied so far..': 1,\n",
       "         'Great product, need a bit a adjustment to set up spotify, time, weather, etc.. in Hong Kong, but works fine now. I used it as alarm clock + music in bedroom, love it.': 1,\n",
       "         \"I bought this to replace a Dot in my bedroom. Already have a Show and a couple of full-sized Echo units in my house.The Spot is okay for what it is. Two issues, one minor and one major:-the minor one - why include the huge bezel on the front? Why not take that space and make the display larger? A total waste of usable space.-the major one, also involves the Show: I'm very used to these devices. I don't need to see &#34;Things to Try&#34; whenever I use a voice command with it (even setting it to rotate once starts this crap over again when you dare to actually use the devices). I'm not a child and I don't need to be told a hundred times how to play music on it. And having this on my nightstand and seeing these highly annoying tips is just outrageous for a unit meant to be used next to a bed. Why doesn't Amazon fix this and give us the option to turn this nonsense off? I want to see a clock face, period, not these silly nanny reminders.\": 1,\n",
       "         \"This product just looks adorable in any room and I love it. I recently just bought my mom one as a gift on Prime Day and she can't wait to use it.\": 1,\n",
       "         'love my spot': 1,\n",
       "         \"Loving this way more than google home devices. I've been using for a couple months and if you're an amazon prime subscriber the value here is greater than google. I'm using to listen to free music with prime (better than alternatives), audible and you can even watch movies. The display is a little small for lots of watching, the sound should be louder, and YOUTUBE NEEDS TO BE AVAILABLE. These issues put this at a 3.5 to 4 stars. Fix one of them (youtube) and its a 5 star item. To alleviate sound I've paired with a blue tooth speaker. Right now this sits in my living area. Where I think it will shine is my office desk. Once there are great offers I could see purchasing additional for nightstand or other Amazon Alexa items for my household. I felt happy after adding this to my house where as I felt stupid using google home.\": 1,\n",
       "         'I like it as an Alexa device but its small.': 1,\n",
       "         'What a wonderful little Alexa enabled gadget at like the analog clock face the best': 1,\n",
       "         'Love it, Love it, Love it!!! Bought it on Prime Day, then had buyers remorse, but once I got it, it was Love at first sight.': 1,\n",
       "         'I like the Echo Spot because it fits into my decor and I can also sing along with my favorite songs': 1,\n",
       "         'Best bedside clock and assistant I have ever had.': 1,\n",
       "         'Omg where do I start, I LOVE THIS THING! None bad to say!': 1,\n",
       "         'Works as described.  A+++++': 1,\n",
       "         'Get rid of the &#34;Thongs To Try&#34; screen!!!!!!!!!! Numb nuts!!!!!': 1,\n",
       "         \"Have not used it yet. But I'm sure it's as great as the others.. I can not get over how amazing the echo , echo dots are. This has to be some of the greatest technology that has ever came out.\": 1,\n",
       "         'I am very excited and happy with this. It was a breeze to set up and my favorite feature is reading my Kindle and going to sleep to Thunderstorm music.': 1,\n",
       "         'Still learning to use these things.  They sure are smart!  haha  She started reading a book to me yesterday.  Get one.  I like the way it controls the brightness all by itself when lights are turned off at night.': 1,\n",
       "         'I highly recommend the spot! I have it connected to the kasa camera and it is so convenient to just ask spot to, &#34;show me the camera&#34; when someone is at the door. Love it! As soon as amazon has a good sale on these again I will be getting another one! Good job Amazon!': 1,\n",
       "         'The echo works fine but then you get indundated with &#34;Things to try&#34;. I am not a 10 year old that needs stimulus to tell me to do things. I found there is no way to turn this off except for .... turning off the screen. If I cannot find a suitable fix for this it goes back.': 1,\n",
       "         'Great to wake up to music and being told the weather.': 1,\n",
       "         \"Bought this to replace a Sony Dash (remember those?) after Sony decided to pull support from it entirely. It works great for what I use it for: an alarm clock, a weather station, background music player and voice control of lights throughout my house. My biggest gripe about the device and why I knocked a star off is that you can't turn off the suggestions on &#34;Things to Try&#34;. It 's an annoying and a stupid design decision since you have control to turn off other things you don't want to see as it cycles through content screens. A software update or two would help this improve especially full control of what we want and don't want to see in the content rotation.\": 1,\n",
       "         \"Can't turn of &#34;things to try&#34; on the screen scroll. This  is a big promotion device for Amazon.  Packing it up and sending it back.  They really want to get in our heads.  Enough already.\": 1,\n",
       "         'Love everything about this product I bought two one for my household and one for my mother in law just so we can video chat with her and for emergency and it’s easy to use for older folks.': 1,\n",
       "         'This thing woke me up in the middle of the night saying “ready for setup”. It was already setup. Should be a simple thing to check  time before asking. Wife not happy...': 1,\n",
       "         'The echo spot is really great. I just got it and is easy to set up. I do have one problem. When the advertise it they show a screen with the time weather and your town. Sadly there is no way to make this the home screen. The home screen is just the time😔. I spoke to support and the wonderful lady tried and researched for 45 minutes to no avail. I am disappointed because I wanted that screen all the time not just during an occasional screen rotate. I am hoping they will do something about this. Other than that it’s great': 1,\n",
       "         'The product is attractive and somewhat useful, BUT, Amazon chose to force users to view their “things to try” and Trending”.  This greatly depreciates the value of the product.  Do not buy unless you are willing to view a billboard from Amazon.': 1,\n",
       "         'The Echo Spot has really helped me to streamline my day and be more efficient! It reminds me of any appointments, warns me about traffic snarls, and tells me the weather every day while suggesting new music and introducing me to new artists.': 1,\n",
       "         \"Come on - it's amaonmazing!  It's way more than a smart speaker.  It's my wake-up alarm, my security blanket, and infotainment center all-in-one.  It's my connection to the world during night hours when I'm mostly sleepy or zonked-out Zzzzzzz...  I can still access the world without my reading-glasses late at night.  It sounds amazing for its size.  It can hear me when I'm far from awake (mostly).  As they say, &#34;this is a must-have device&#34;.  Yep, that is a true statement.\": 1,\n",
       "         'Got one for me and for my son on Prime Day. We love them! I want one in every room, but that would be excessive.': 1,\n",
       "         'In one word: Amazing! Best tech purchase I have ever made as it controls all devices in my house and even my pool!': 1,\n",
       "         'I’m leaving this for those who don’t have enough of an attention span to read instructions.  You can stop the screen rotations.Swipe down on clock screenSelect settingsHome & clockHome cardsRotate onceProblem solved': 1,\n",
       "         'Very nicely constructed. My wife wanted a second for the kitchen so I order a second one.': 1,\n",
       "         \"I love this little gadget, replaces my old clock basically, love i can listen to music in the morning get weather updates, news briefs.  Let's me know when a amazon order is arriving & has been delivered etc.  Yes it's a little pricey, but purchased it on Amazon Prime Now during Prime Day and it was delivered same day for $99.\": 1,\n",
       "         'https://www.amazon.com/dp/B073SQYXTW/ref=cm_cr_ryp_prd_ttl_sol_18': 1,\n",
       "         \"I love my little Echo Spot, I have replaced my older full size echo with this little guy. The round screen is an interesting choice and I'm not sure I like the look but it is growing on me. The speakers could be slightly louder but all in all it is a solid echo product.\": 1,\n",
       "         \"It's not as good as Siri, BUT it still has some positives, it's great at playing music, and setting alarms. I personally felt that I paid too much for this product, as it was nearly half off on prime day (literally the day after I purchased it). So I'm pretty disappointed. I might still return it and get my money back. .\": 1,\n",
       "         \"Having received this as a gift, I am writing my initial thoughts: (compared to my google home mini)PROS:  Way easier to setup than the google home mini.  I was able to connect ALL of my smart home device (unlike google) without any issues.  Making phone calls on this was clearer for the receiver to understand me.CONS:  Need to enable 'skills' to get more functionality.  Google home has built in functionality to search the web for answer to questions easier than  the amazon echo.  Could not connect this to youtube.\": 1,\n",
       "         'Well-made product.Echo Spot - White': 1,\n",
       "         'Installed on my back porch, works very well!  I did have to get the wall mount for it, which also works well.': 1,\n",
       "         \"Thank God, and alarm clock with an lcd that gets dim enough for me to sleep. I'm a very light sensitive sleeper and wind up taping black tape over all my other stuff in my bed room. Not this guy. The Alexa features are nice and listening to music at night is great. We enjoy falling asleep to meditation podcasts though we have to use the skill anypod to get the podcasts we like. Video is kinda tiny and useless at this size but that's to be expected. Audio quality is much better than echo dot.\": 1,\n",
       "         'I love this thing. At first I thought it wouldn’t stay on the clock and that I would have to suffer through ads forever but when the lights are off it sits on the clock and it’s very comfortable for the eyes, easy set up. Love it': 1,\n",
       "         'Got it and, as expected, ITS GREAT! Almost a swell as my SHOW.': 1,\n",
       "         'Love this thing. People think I’m crazy for paying this much for a glorified alarm clock. But I don’t care!! For me, waking up in a good mood is pretty important and this helps me do it!! So glad I don’t have to deal with my old EEAANH EEAANH EEAANH alarm. Very excited to say “Alexa, turn off the lights” (smart plugs get here soon!) Got a camera privacy slide for this since it is in my bedroom.': 1,\n",
       "         'I absolutely love this! Very user friendly and I got the Kasa Cam to go with it to monitor my living room. Super easy to set up and operate. I only wish it actually came with the camera privacy cover and pivoting stand which you can buy separately. I’m looking forward to future software updates for different clock faces. I like digital but I miss the colon in between the hours and minutes on most of them. I’d also like to see more celebs jump on board for the alarm voices. I really have no complaints, I’m being nit picky at this point. Worth every penny!': 1,\n",
       "         'Surprisingly good beefy sound out of this thing. I think it might shape up to be one of my favorite echo devices. I have nearly all of them. ;-)': 1,\n",
       "         'Given as a gift to my wife, to compliment my echo.  She loves it.': 1,\n",
       "         'This is a gift.  But I have one and love it.  The words to songs are great and the I live the face I chose for the clock.  This is my favorite echo (unless I am listening to music).': 1,\n",
       "         'I’ve had this for a little over 3 weeks now and I absolutely love it! It’s so easy to use. I’m basically using it as a smart alarm but it can do way more. The screen quality is great and it looks super cute sitting on my night stand. I don’t know how I lived without it so long. If you can’t decide whether to buy it or not, GO FOR IT! You won’t regret it!!': 1,\n",
       "         'Fairly useless.': 1,\n",
       "         'Bought the spot and loved it. Within months it started acting funny and would stop working—called and they determined that it was overheating. I was told to unplug and technical support would call within 24-48 hours. Waited 48 hours without response and replied to email and was asked to wait a week. A week goes by with absolutely no response so I do the inline chat per instructions. Told to wait longer. REALLY????  Unacceptable—expected more from Amazon. Find it funny how they always thank me for being a Prime member but when an issue arises I cannot even get assistance.': 1,\n",
       "         \"Much easier to use than the dot. It picks up my voice from farther away and the speakers seem a lot cleaner sounding The screen is a nice perk but I only use it at bed time to listen to prime shows before bed, the screen is too small to watch shows..It displays my alarm in print so I know Alexa heard me correctly. and you can make you own clock face with personal pictures.  My only complaint is that they don't add the stand as standard. I didn't need it for my spot at my desk but definitely needed it beside the bed.Many people complain about the basic Alexa program but it is still such new tech that I'm not going to split hairs.  The echo was not as good as my dot and the spot is better than dot.  Alexa gets better over time and the skills are increasing weekly. Now Alexa even tells the difference between my son and my voice. I think Amazon is working overtime on this project. I gave feedback to ask to be able to have self made lists and now you can make and name lists for anything.I am so used to my Alexa that I talk to her even when I'm staying in a hotel and she's no where to be found.  Alexa, what time is it?  ALEXA???!!\": 1,\n",
       "         \"When we were buying another product there was an option to bundle this one for an extra $30...so we thought why not? Well, I'm so glad we did! We are really enjoying our Echo Spot. It reads stories to our girls, plays music, gives us the news, and so much more!  It's so responsive and has so many skills that we enjoy.\": 1,\n",
       "         'For the size of the screen this thing should be $25': 1,\n",
       "         'This is 1 of 6 echo devices in the house and is currently being deployed as a bedside alarm clock.  I use it basically as an echo dot with a clock attached and may occasionally pull up camera video.  Audio quality and screen quality are really are not appropriate for music or watching video.  Much of the time it works well as alarm clock, but there are some serious flaws, particularly if you are the last one to bed or the first to wake.  It doesn’t seem like the engineers actually tested this in a bedroom with 2 people on different schedules.  Try walking into a dark bedroom with a sleeping wife and waking her up by saying “Alexa set an alarm for 5am” and then having Alexa repeat “OK alarm set for 5am.”  Not good.  I suppose you could whisper then fumble for the volume down button but that is stupid.  Plain and simple, this device needs to be brought into the 1990’s and have simple touch screen interface added to set an alarm.  I know there is a cumbersome interface for these situations where one can set an alarm from the alexa app on your phone.  No thanks, if I’m picking up my phone to set an alarm I will just use its built in alarm and save a step.  At least the engineers allow the alarm to be turned off from the touch screen, so for example if you wake up a few minutes early you can cancel the alarm without speaking and waking your spouse.  The interface for using the touch screen to cancel an alarm that has gone off is however not great.  There should be separate snooze and cancel buttons.  Currently a touch snoozes and a swipe cancels.  It is too easy when half awake to snooze when you think you have cancelled.  When the snoozed alarm goes off a few minutes later, my not amused and no longer sleeping wife will let me know by summoning Alexa to turn off the bathroom lights while I’m in the shower.': 1,\n",
       "         'I bought this for my mother and she loves it! I want to get one for myself now!': 1,\n",
       "         'Invasive and scared the crap out of me for speaking when it was not spoken to! CREAPY AF': 1,\n",
       "         \"4 out of 5 stars. I have the Original Tall Echo, 4 dots, 2 spots and 1 Show.  The only thing I'm finding a problem with is the speakers in the Spot. when using Drop In.  Sometimes I'm not being heard on the other spot and vice versa.  The voices tends break up or the sound coming through is intermittent. The optical is fine........ it's just the sound. Sometimes I'll have to repeat the wake word 2-3 times and I'm only 8 feet away plus it's on one of those $20 stands.  I find the ECHO DOT, Original echo and the Show has much better sound quality.  That's one reason I bought the Echo Show.\": 1,\n",
       "         'I bought this for my 90 year old grandmother and she and I love it!!! She can call all her family members with just her voice, play games, even watch a video and I love that I can “drop in” on her any time to see how she is doing. She lives all by herself. And I feel comfortable if there was an emergency she could call out to Alexa for help!!': 1,\n",
       "         'I love this thing! It plays my books from audible or prime music and sets my alarms! If you’re considering purchasing one, get it. It’s worth it.': 1,\n",
       "         'I think it can read my mind': 1,\n",
       "         'Love my spot! My favorite feature is the &#34;Alexa, start my day.&#34; I love that I can hear the weather, traffic and even the word of the day! It even goes right into my favorite podcast while I get dressed!': 1,\n",
       "         'Works. Replaced my expired bedside radio/alarm.It took me a while to realize that option setting involved using it as a touch screen.Maybe it should said something during the setup process.': 1,\n",
       "         'Works great I love it, grand daughter digs the watching of cartoons on it lol': 1,\n",
       "         'Gift for husband.  Great!': 1,\n",
       "         ...})"
      ]
     },
     "execution_count": 9,
     "metadata": {},
     "output_type": "execute_result"
    }
   ],
   "source": [
    "wf = Counter(df.verified_reviews)\n",
    "wf"
   ]
  },
  {
   "cell_type": "code",
   "execution_count": null,
   "id": "f97ec1d8",
   "metadata": {},
   "outputs": [],
   "source": [
    "df = pd.DataFrame(wf.items(),columns=['word','frequency']).sort_values(by='frequency',ascending=False)\n",
    "df = df.head()\n",
    "sns.barplot(x='frequency', y='word' data=df)"
   ]
  },
  {
   "cell_type": "code",
   "execution_count": null,
   "id": "159a68a8",
   "metadata": {},
   "outputs": [],
   "source": [
    "pos_reviews = df[df.feedback==1]\n",
    "pos_reviews.head()"
   ]
  },
  {
   "cell_type": "code",
   "execution_count": null,
   "id": "46fc305b",
   "metadata": {},
   "outputs": [],
   "source": [
    "text = ' '.join([word for word in pos_reviews['verified_reviews']])\n",
    "plt.figure(figsize=(20,155), facecolor=None)\n",
    "wordcloud = WordCloud(max_words=500, width=1600, height=800).generate(text)\n",
    "plt.imshow(wordcloud, interpolation='bilinear')\n",
    "plt.axis('off')\n",
    "plt.title('Most Frequently Used Words In Positive Review')"
   ]
  },
  {
   "cell_type": "code",
   "execution_count": null,
   "id": "b60811a3",
   "metadata": {},
   "outputs": [],
   "source": [
    "neg_reviews = df[df.feedback==0]\n",
    "neg_reviews.head()"
   ]
  },
  {
   "cell_type": "code",
   "execution_count": null,
   "id": "bd5a2ee5",
   "metadata": {},
   "outputs": [],
   "source": [
    "text = ' '.join([word for word in neg_reviews['verified_reviews']])\n",
    "plt.figure(figsize=(20,155), facecolor=None)\n",
    "wordcloud = WordCloud(max_words=500, width=1600, height=800).generate(text)\n",
    "plt.imshow(wordcloud, interpolation='bilinear')\n",
    "plt.axis('off')\n",
    "plt.title('Most Frequently Used Words In Negative Review')"
   ]
  },
  {
   "cell_type": "code",
   "execution_count": null,
   "id": "c635c2b1",
   "metadata": {},
   "outputs": [],
   "source": [
    "df.corr()"
   ]
  },
  {
   "cell_type": "code",
   "execution_count": null,
   "id": "ed2cfcb1",
   "metadata": {},
   "outputs": [],
   "source": [
    "plt.figure(figsize=(13,7))\n",
    "sns.heatmap(df.corr(),vmax=1, square=True,annot=True,cmap='viridis')\n",
    "plt.title('Correlation between diffrent attributes')\n",
    "plt.show()"
   ]
  },
  {
   "cell_type": "markdown",
   "id": "d72149b2",
   "metadata": {},
   "source": [
    "**Model Building**"
   ]
  },
  {
   "cell_type": "code",
   "execution_count": null,
   "id": "b8584a35",
   "metadata": {},
   "outputs": [],
   "source": [
    "x = df.verified_reviews\n",
    "y = df.feedback"
   ]
  },
  {
   "cell_type": "code",
   "execution_count": null,
   "id": "d8a91228",
   "metadata": {},
   "outputs": [],
   "source": [
    "vectorizer = TfidfVectorizer()\n",
    "x = vectorizer.fit_transform(df['verified_reviews'])"
   ]
  },
  {
   "cell_type": "code",
   "execution_count": null,
   "id": "77ce7cec",
   "metadata": {},
   "outputs": [],
   "source": [
    "x_train, x_test, y_train, y_test = train_test_split(x, y, test_size=0.30, random_state=42)"
   ]
  },
  {
   "cell_type": "code",
   "execution_count": null,
   "id": "7f4c5f4a",
   "metadata": {},
   "outputs": [],
   "source": [
    "print(\"Size of x_train:\", (x_train.shape))\n",
    "print(\"Size of y_train:\", (y_train.shape))\n",
    "print(\"Size of x_test:\", (x_test.shape))\n",
    "print(\"Size of y_test:\", (y_test.shape))"
   ]
  },
  {
   "cell_type": "code",
   "execution_count": null,
   "id": "eb906157",
   "metadata": {},
   "outputs": [],
   "source": [
    "from sklearn.svm import LinearSVC\n",
    "from sklearn.metrics import accuracy_score, classification_report, confusion_matrix"
   ]
  },
  {
   "cell_type": "markdown",
   "id": "d9571711",
   "metadata": {},
   "source": [
    "**Training The Model With SVM**"
   ]
  },
  {
   "cell_type": "code",
   "execution_count": null,
   "id": "3f41c781",
   "metadata": {},
   "outputs": [],
   "source": [
    "svc = LinearSVC()\n",
    "svc.fit(x_train, y_train)\n",
    "svc_pred = svc.predict(x_test)\n",
    "svc_acc = accuracy_score(svc_pred, y_test)\n",
    "print(\"Test accuracy: {:.2f}%\".format(svc_acc*100))"
   ]
  },
  {
   "cell_type": "code",
   "execution_count": null,
   "id": "f37667cf",
   "metadata": {},
   "outputs": [],
   "source": [
    "print(confusion_matrix(y_test, svc_pred))\n",
    "print(\"\\n\")\n",
    "print(classification_report(y_test, svc_pred))"
   ]
  },
  {
   "cell_type": "markdown",
   "id": "6c08dadf",
   "metadata": {},
   "source": [
    "**Training The Model With DEEP LEARNING**"
   ]
  },
  {
   "cell_type": "code",
   "execution_count": null,
   "id": "38f980dd",
   "metadata": {},
   "outputs": [],
   "source": [
    "from keras.models import Sequential\n",
    "from keras.preprocessing.text import Tokenizer\n",
    "from keras_preprocessing.sequence import pad_sequences\n",
    "from keras.layers import Dense, Embedding, LSTM, SpatialDropout1D"
   ]
  },
  {
   "cell_type": "code",
   "execution_count": null,
   "id": "6ccf55fb",
   "metadata": {},
   "outputs": [],
   "source": [
    "tokenizer = Tokenizer(num_words=500, split=' ')\n",
    "tokenizer.fit_on_texts(df['verified_reviews'])\n",
    "x = tokenizer.texts_to_sequences(df['verified_reviews'])\n",
    "x = pad_sequences(x)\n",
    "x"
   ]
  },
  {
   "cell_type": "code",
   "execution_count": null,
   "id": "f4a3a3d8",
   "metadata": {},
   "outputs": [],
   "source": [
    "x.shape"
   ]
  },
  {
   "cell_type": "code",
   "execution_count": null,
   "id": "2574f938",
   "metadata": {},
   "outputs": [],
   "source": [
    "y = df['feedback']"
   ]
  },
  {
   "cell_type": "code",
   "execution_count": null,
   "id": "e0c62749",
   "metadata": {},
   "outputs": [],
   "source": [
    "x_train, x_test, y_train, y_test = train_test_split(x, y, test_size=0.30, random_state=42)"
   ]
  },
  {
   "cell_type": "code",
   "execution_count": null,
   "id": "055152e0",
   "metadata": {},
   "outputs": [],
   "source": [
    "print(\"Size of x_train:\", (x_train.shape))\n",
    "print(\"Size of y_train:\", (y_train.shape))\n",
    "print(\"Size of x_test:\", (x_test.shape))\n",
    "print(\"Size of y_test:\", (y_test.shape))"
   ]
  },
  {
   "cell_type": "code",
   "execution_count": null,
   "id": "eee4ed57",
   "metadata": {},
   "outputs": [],
   "source": [
    "model = Sequential()\n",
    "model.add(Embedding(500, 120, input_length= x.shape[1]))\n",
    "model.add(SpatialDropout1D(0.4))\n",
    "model.add(LSTM(64))\n",
    "model.add(Dense(1, activation='sigmoid'))\n",
    "model.compile(loss='binary_crossentropy', optimizer='adam', metrics=['accuracy'])\n",
    "print(model.summary())\n"
   ]
  },
  {
   "cell_type": "code",
   "execution_count": null,
   "id": "299b782d",
   "metadata": {},
   "outputs": [],
   "source": []
  },
  {
   "cell_type": "code",
   "execution_count": null,
   "id": "89eb4d93",
   "metadata": {},
   "outputs": [],
   "source": []
  },
  {
   "cell_type": "code",
   "execution_count": null,
   "id": "e8b86846",
   "metadata": {},
   "outputs": [],
   "source": []
  },
  {
   "cell_type": "code",
   "execution_count": null,
   "id": "4e5a0004",
   "metadata": {},
   "outputs": [],
   "source": [
    "\n"
   ]
  },
  {
   "cell_type": "code",
   "execution_count": null,
   "id": "a67e6337",
   "metadata": {},
   "outputs": [],
   "source": []
  },
  {
   "cell_type": "code",
   "execution_count": null,
   "id": "6dd16fe6",
   "metadata": {},
   "outputs": [],
   "source": []
  },
  {
   "cell_type": "code",
   "execution_count": null,
   "id": "cebd24ac",
   "metadata": {},
   "outputs": [],
   "source": []
  },
  {
   "cell_type": "code",
   "execution_count": null,
   "id": "6fb90515",
   "metadata": {},
   "outputs": [],
   "source": []
  },
  {
   "cell_type": "code",
   "execution_count": null,
   "id": "d245b567",
   "metadata": {},
   "outputs": [],
   "source": []
  },
  {
   "cell_type": "code",
   "execution_count": null,
   "id": "0238bfb3",
   "metadata": {},
   "outputs": [],
   "source": []
  }
 ],
 "metadata": {
  "kernelspec": {
   "display_name": "Python 3 (ipykernel)",
   "language": "python",
   "name": "python3"
  },
  "language_info": {
   "codemirror_mode": {
    "name": "ipython",
    "version": 3
   },
   "file_extension": ".py",
   "mimetype": "text/x-python",
   "name": "python",
   "nbconvert_exporter": "python",
   "pygments_lexer": "ipython3",
   "version": "3.9.16"
  }
 },
 "nbformat": 4,
 "nbformat_minor": 5
}
